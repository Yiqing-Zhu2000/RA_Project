{
 "cells": [
  {
   "cell_type": "markdown",
   "metadata": {},
   "source": [
    "### Try to use the package scikit learn on chr22 with real phenotype\n",
    "Test whether the result of using chr22 snps to do predict how is the correlaton. "
   ]
  },
  {
   "cell_type": "code",
   "execution_count": 12,
   "metadata": {},
   "outputs": [],
   "source": [
    "from sklearn.linear_model import Lasso\n",
    "from sklearn.model_selection import train_test_split\n",
    "from sklearn.metrics import mean_squared_error\n",
    "from sklearn.metrics import r2_score\n",
    "import numpy as np\n",
    "from sklearn.metrics import roc_curve, auc\n",
    "import matplotlib.pyplot as plt\n",
    "import pandas as pd\n",
    "np.random.seed(1234)"
   ]
  },
  {
   "cell_type": "code",
   "execution_count": 13,
   "metadata": {},
   "outputs": [],
   "source": [
    "chr_22 = pd.read_csv(\"/home/mcb/users/yzhu439/RA_Project/data/DREAM_RA_Responders_DosageData/Training_chr22.dos\", sep=\" \", header=None)\n",
    "# transform the dataframe to array of shape patient by SNPs\n",
    "chr22_array = chr_22.drop([0,2,3,4,5], axis=1).T"
   ]
  },
  {
   "cell_type": "code",
   "execution_count": 14,
   "metadata": {},
   "outputs": [],
   "source": [
    "# convert extracted columns of dataframe to numpy array -> X data\n",
    "chr22_array.columns = chr22_array.iloc[0]\n",
    "dos_chr22 = chr22_array[1:]\n",
    "dos_chr22_array = dos_chr22.values"
   ]
  },
  {
   "cell_type": "code",
   "execution_count": 15,
   "metadata": {},
   "outputs": [],
   "source": [
    "# extract Response.deltaDAS from clinical text file as our Y data\n",
    "pheno_df = pd.read_csv(\"/home/mcb/users/yzhu439/RA_Project/data/DREAM_RA_Responders_PhenoCov_Full.txt\", sep=\" \")\n",
    "pheno = pheno_df['Response.deltaDAS'].values"
   ]
  },
  {
   "cell_type": "markdown",
   "metadata": {},
   "source": [
    "###  first try fit lasso without adding covariates as additional features\n"
   ]
  },
  {
   "cell_type": "code",
   "execution_count": 16,
   "metadata": {},
   "outputs": [
    {
     "name": "stdout",
     "output_type": "stream",
     "text": [
      "Mean Squared Error: 2.4119915003760917\n",
      "R-squared: -0.005537425180190292\n"
     ]
    }
   ],
   "source": [
    "# first split the data as 80% training and 20% testing\n",
    "X_train, X_test, y_train, y_test = train_test_split(dos_chr22_array, pheno, test_size=0.2, random_state=10)\n",
    "\n",
    "# initialize lasso model and start training\n",
    "lasso_model = Lasso(alpha=0.1)\n",
    "lasso_model.fit(X_train, y_train)\n",
    "\n",
    "# evaluation by MSE\n",
    "y_pred = lasso_model.predict(X_test)\n",
    "mse = mean_squared_error(y_test, y_pred)\n",
    "print(f\"Mean Squared Error: {mse}\")\n",
    "\n",
    "\n",
    "r_squared = r2_score(y_test, y_pred)\n",
    "print(f\"R-squared: {r_squared}\")\n",
    "\n",
    "\n"
   ]
  },
  {
   "cell_type": "markdown",
   "metadata": {},
   "source": [
    "###  first try fit lasso with covariates added as additional features\n"
   ]
  },
  {
   "cell_type": "code",
   "execution_count": 17,
   "metadata": {},
   "outputs": [],
   "source": [
    "# first read in the covariates file\n",
    "cov_df = pd.read_csv(\"/home/mcb/users/yzhu439/RA_Project/data/Dosage_for_PCA/chr22_covariates.csv\", sep=\"\\t\")\n",
    "cov_df_filter = cov_df[['baselineDAS', 'Age', 'Gender']]\n",
    "cov = cov_df_filter.values\n"
   ]
  },
  {
   "cell_type": "code",
   "execution_count": 18,
   "metadata": {},
   "outputs": [],
   "source": [
    "# some patients do not have age or sex information\n",
    "# Find the row indices where NaN values are present\n",
    "nan_row_indices = np.any(np.isnan(cov), axis=1)\n",
    "ambiguous_pt = np.where(nan_row_indices)[0]\n",
    "\n",
    "\n",
    "# remove these ambiguous patients from cov and the patient by SNPs array\n",
    "cov_filtered = np.delete(cov, ambiguous_pt, axis=0)\n",
    "chr22_array_filtered = np.delete(dos_chr22_array, ambiguous_pt, axis=0)\n",
    "\n",
    "# now combine the two, treating covariates as additional features\n",
    "chr22_withCOV = np.hstack((cov_filtered, chr22_array_filtered))\n",
    "\n",
    "# delete these ambiguous patients from pheno array\n",
    "pheno_filtered = np.delete(pheno, ambiguous_pt, axis=0)"
   ]
  },
  {
   "cell_type": "code",
   "execution_count": 19,
   "metadata": {},
   "outputs": [
    {
     "name": "stdout",
     "output_type": "stream",
     "text": [
      "(2417, 33748)\n",
      "(2417,)\n"
     ]
    }
   ],
   "source": [
    "print(chr22_withCOV.shape)\n",
    "print(pheno_filtered.shape)"
   ]
  },
  {
   "cell_type": "code",
   "execution_count": 20,
   "metadata": {},
   "outputs": [
    {
     "name": "stdout",
     "output_type": "stream",
     "text": [
      "Mean Squared Error: 1.9234603878062995\n",
      "R-squared: 0.19066598405817292\n"
     ]
    }
   ],
   "source": [
    "# first split the data as 80% training and 20% testing\n",
    "X_train, X_test, y_train, y_test = train_test_split(chr22_withCOV, pheno_filtered, test_size=0.2, random_state=10)\n",
    "\n",
    "# initialize lasso model and start training\n",
    "lasso_model = Lasso(alpha=0.1)\n",
    "lasso_model.fit(X_train, y_train)\n",
    "\n",
    "# evaluation by MSE\n",
    "y_pred = lasso_model.predict(X_test)\n",
    "mse = mean_squared_error(y_test, y_pred)\n",
    "print(f\"Mean Squared Error: {mse}\")\n",
    "\n",
    "r_squared = r2_score(y_test, y_pred)\n",
    "\n",
    "print(f\"R-squared: {r_squared}\")\n"
   ]
  },
  {
   "cell_type": "markdown",
   "metadata": {},
   "source": [
    "### recreate covariates file without header"
   ]
  },
  {
   "cell_type": "code",
   "execution_count": 21,
   "metadata": {},
   "outputs": [],
   "source": [
    "# read out the old covariates file\n",
    "cov_df = pd.read_csv(\"/home/mcb/users/yzhu439/RA_Project/data/Dosage_for_PCA/chr22_covariates.csv\", sep=\"\\t\")\n",
    "cov_df\n",
    "\n",
    "# save it setting header=None\n",
    "cov_df.to_csv('/home/mcb/users/yzhu439/RA_Project/data/Dosage_for_PCA/chr22_covNoHeader.csv', header=False, index=False, sep='\\t')  "
   ]
  }
 ],
 "metadata": {
  "kernelspec": {
   "display_name": "Python 3",
   "language": "python",
   "name": "python3"
  },
  "language_info": {
   "codemirror_mode": {
    "name": "ipython",
    "version": 3
   },
   "file_extension": ".py",
   "mimetype": "text/x-python",
   "name": "python",
   "nbconvert_exporter": "python",
   "pygments_lexer": "ipython3",
   "version": "3.7.5"
  },
  "orig_nbformat": 4
 },
 "nbformat": 4,
 "nbformat_minor": 2
}
