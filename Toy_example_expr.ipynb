{
 "cells": [
  {
   "attachments": {},
   "cell_type": "markdown",
   "metadata": {},
   "source": [
    "<h3>Toy example experiment 6.18</h3>\n",
    "\n",
    "Use the magenpy simulation based on RA's genotypes data to simulate phenotypes.  \n",
    "the heritibility = 0.5, pi = [.85, .15]"
   ]
  },
  {
   "cell_type": "code",
   "execution_count": 28,
   "metadata": {},
   "outputs": [],
   "source": [
    "import numpy as np\n",
    "import pandas as pd\n",
    "import magenpy as mgp\n",
    "import viprs as vp"
   ]
  },
  {
   "cell_type": "code",
   "execution_count": 29,
   "metadata": {},
   "outputs": [
    {
     "name": "stdout",
     "output_type": "stream",
     "text": [
      "> Reading BED file...\n",
      "> Generating polygenic scores...\n"
     ]
    },
    {
     "data": {
      "text/html": [
       "<div>\n",
       "<style scoped>\n",
       "    .dataframe tbody tr th:only-of-type {\n",
       "        vertical-align: middle;\n",
       "    }\n",
       "\n",
       "    .dataframe tbody tr th {\n",
       "        vertical-align: top;\n",
       "    }\n",
       "\n",
       "    .dataframe thead th {\n",
       "        text-align: right;\n",
       "    }\n",
       "</style>\n",
       "<table border=\"1\" class=\"dataframe\">\n",
       "  <thead>\n",
       "    <tr style=\"text-align: right;\">\n",
       "      <th></th>\n",
       "      <th>FID</th>\n",
       "      <th>IID</th>\n",
       "      <th>phenotype</th>\n",
       "    </tr>\n",
       "  </thead>\n",
       "  <tbody>\n",
       "    <tr>\n",
       "      <th>0</th>\n",
       "      <td>0</td>\n",
       "      <td>1721000</td>\n",
       "      <td>-0.701273</td>\n",
       "    </tr>\n",
       "    <tr>\n",
       "      <th>1</th>\n",
       "      <td>0</td>\n",
       "      <td>1722000</td>\n",
       "      <td>-1.206671</td>\n",
       "    </tr>\n",
       "    <tr>\n",
       "      <th>2</th>\n",
       "      <td>0</td>\n",
       "      <td>1723000</td>\n",
       "      <td>-0.333882</td>\n",
       "    </tr>\n",
       "    <tr>\n",
       "      <th>3</th>\n",
       "      <td>0</td>\n",
       "      <td>1725000</td>\n",
       "      <td>-1.146859</td>\n",
       "    </tr>\n",
       "    <tr>\n",
       "      <th>4</th>\n",
       "      <td>0</td>\n",
       "      <td>1726000</td>\n",
       "      <td>-0.050690</td>\n",
       "    </tr>\n",
       "    <tr>\n",
       "      <th>...</th>\n",
       "      <td>...</td>\n",
       "      <td>...</td>\n",
       "      <td>...</td>\n",
       "    </tr>\n",
       "    <tr>\n",
       "      <th>172</th>\n",
       "      <td>0</td>\n",
       "      <td>1921000</td>\n",
       "      <td>0.753812</td>\n",
       "    </tr>\n",
       "    <tr>\n",
       "      <th>173</th>\n",
       "      <td>0</td>\n",
       "      <td>1922000</td>\n",
       "      <td>-0.743467</td>\n",
       "    </tr>\n",
       "    <tr>\n",
       "      <th>174</th>\n",
       "      <td>0</td>\n",
       "      <td>1923000</td>\n",
       "      <td>-1.466426</td>\n",
       "    </tr>\n",
       "    <tr>\n",
       "      <th>175</th>\n",
       "      <td>0</td>\n",
       "      <td>1924000</td>\n",
       "      <td>0.161289</td>\n",
       "    </tr>\n",
       "    <tr>\n",
       "      <th>176</th>\n",
       "      <td>0</td>\n",
       "      <td>1925000</td>\n",
       "      <td>0.352273</td>\n",
       "    </tr>\n",
       "  </tbody>\n",
       "</table>\n",
       "<p>177 rows × 3 columns</p>\n",
       "</div>"
      ],
      "text/plain": [
       "    FID      IID  phenotype\n",
       "0     0  1721000  -0.701273\n",
       "1     0  1722000  -1.206671\n",
       "2     0  1723000  -0.333882\n",
       "3     0  1725000  -1.146859\n",
       "4     0  1726000  -0.050690\n",
       "..   ..      ...        ...\n",
       "172   0  1921000   0.753812\n",
       "173   0  1922000  -0.743467\n",
       "174   0  1923000  -1.466426\n",
       "175   0  1924000   0.161289\n",
       "176   0  1925000   0.352273\n",
       "\n",
       "[177 rows x 3 columns]"
      ]
     },
     "execution_count": 29,
     "metadata": {},
     "output_type": "execute_result"
    }
   ],
   "source": [
    "#simulate \n",
    "g_sim = mgp.GWASimulator(\"CMdream1/chr22/d1CM22_sorted\",\n",
    "                         pi = [.85, .15],\n",
    "                         h2=0.5)\n",
    "g_sim.simulate()\n",
    "g_sim.to_phenotype_table()"
   ]
  },
  {
   "cell_type": "code",
   "execution_count": 30,
   "metadata": {},
   "outputs": [
    {
     "name": "stdout",
     "output_type": "stream",
     "text": [
      "> Performing GWAS...\n"
     ]
    }
   ],
   "source": [
    "g_sim.perform_gwas()\n",
    "g_sim.to_summary_statistics_table().to_csv(\n",
    "    \"Toy_example_expr/d1CM22_sorted.sumstats\", sep=\"\\t\", index=False\n",
    ")"
   ]
  },
  {
   "cell_type": "code",
   "execution_count": 33,
   "metadata": {},
   "outputs": [
    {
     "name": "stdout",
     "output_type": "stream",
     "text": [
      "> Reading BED file...\n",
      "> Reading summary statistics file...\n",
      "> Harmonizing data...\n"
     ]
    }
   ],
   "source": [
    "# Load summary statistics（simulate phenotype from above) and match them with perviously\n",
    "gdl_sim = mgp.GWADataLoader(bed_files=\"CMdream1/chr22/d1CM22_sorted\",\n",
    "                            sumstats_files=\"Toy_example_expr/d1CM22_sorted.sumstats\",\n",
    "                            sumstats_format=\"magenpy\")"
   ]
  },
  {
   "cell_type": "code",
   "execution_count": 34,
   "metadata": {},
   "outputs": [
    {
     "name": "stdout",
     "output_type": "stream",
     "text": [
      "> Computing LD matrix...\n"
     ]
    }
   ],
   "source": [
    "gdl_sim.compute_ld(estimator='sample',\n",
    "                   output_dir='Toy_example_expr/out/ld/')"
   ]
  },
  {
   "attachments": {},
   "cell_type": "markdown",
   "metadata": {},
   "source": [
    "Use Viprs, initialize the viprs model based on the <code> gdl_sim model</code> containing the GWAS data and the LD matrix (using xarray method) for the chr22."
   ]
  },
  {
   "cell_type": "code",
   "execution_count": 35,
   "metadata": {},
   "outputs": [],
   "source": [
    "v = vp.VIPRS(gdl_sim)"
   ]
  },
  {
   "cell_type": "code",
   "execution_count": 36,
   "metadata": {},
   "outputs": [
    {
     "name": "stdout",
     "output_type": "stream",
     "text": [
      "> Initializing model parameters\n",
      "> Loading LD matrices into memory...\n",
      "> Performing model fit...\n",
      "> Using up to 1 threads.\n"
     ]
    },
    {
     "name": "stderr",
     "output_type": "stream",
     "text": [
      " 15%|█▍        | 146/1000 [00:18<01:50,  7.74it/s]"
     ]
    },
    {
     "name": "stdout",
     "output_type": "stream",
     "text": [
      "Converged at iteration 147 || ELBO: -251.202769\n",
      "> Final ELBO: -251.202769\n",
      "> Estimated heritability: 0.067588\n",
      "> Estimated proportion of causal variants: 0.041090\n"
     ]
    },
    {
     "name": "stderr",
     "output_type": "stream",
     "text": [
      "\n"
     ]
    },
    {
     "data": {
      "text/plain": [
       "<viprs.model.VIPRS.VIPRS at 0x7fc648986450>"
      ]
     },
     "execution_count": 36,
     "metadata": {},
     "output_type": "execute_result"
    }
   ],
   "source": [
    "v.fit()"
   ]
  },
  {
   "cell_type": "code",
   "execution_count": 40,
   "metadata": {},
   "outputs": [
    {
     "name": "stdout",
     "output_type": "stream",
     "text": [
      "> Generating polygenic scores...\n",
      "177\n"
     ]
    },
    {
     "data": {
      "text/plain": [
       "array([-0.01322787, -0.04338083,  0.00690452, -0.03258025,  0.04015512,\n",
       "        0.07871269,  0.00207145, -0.00631253,  0.02086705, -0.01193981,\n",
       "        0.02009405,  0.04749557, -0.00043509, -0.03310957,  0.07359187,\n",
       "        0.03287316, -0.01108459, -0.03136597,  0.03471232,  0.02332235,\n",
       "       -0.01609183,  0.02822507, -0.02461119,  0.05168075, -0.03946149,\n",
       "       -0.02100665, -0.04873011, -0.01667031, -0.01821481,  0.00503828,\n",
       "       -0.0713005 , -0.03858792,  0.04647137,  0.01011799,  0.0272981 ,\n",
       "        0.02866421,  0.03773123, -0.00318141, -0.04779182,  0.0340658 ,\n",
       "       -0.05632992,  0.05654194,  0.0411492 , -0.00538794,  0.00406185,\n",
       "        0.02761771,  0.00349042,  0.03386615,  0.0358069 , -0.01443407,\n",
       "       -0.0625502 ,  0.05536363,  0.01482886, -0.0501609 ,  0.08087607,\n",
       "        0.06288023,  0.00544061,  0.01655643, -0.00636051, -0.05222085,\n",
       "        0.01673932,  0.00278977,  0.01290677, -0.04790704, -0.02393883,\n",
       "        0.04974956,  0.08722729,  0.06590089, -0.01015788,  0.01375874,\n",
       "       -0.01372541,  0.07664019,  0.0345494 ,  0.03464722, -0.02766192,\n",
       "        0.0207184 ,  0.05053673,  0.08532782,  0.00501382, -0.04241161,\n",
       "        0.08195832,  0.0219818 ,  0.07981492,  0.07244846, -0.03358199,\n",
       "       -0.02221481,  0.0125581 , -0.06798683,  0.01128667, -0.03958185,\n",
       "       -0.02452949,  0.02340815, -0.00688204,  0.00691954,  0.02928964,\n",
       "       -0.05725612, -0.00512732,  0.05570751, -0.045738  ,  0.00126233,\n",
       "       -0.05047126, -0.00462531,  0.01057513,  0.05510571,  0.04989877,\n",
       "        0.03422216,  0.00799771,  0.01807569,  0.03444823,  0.01440214,\n",
       "        0.03843655,  0.03605477,  0.01216002,  0.0413539 ,  0.02559704,\n",
       "        0.00745497,  0.00725301, -0.02559707,  0.00391082,  0.03931403,\n",
       "        0.09272927, -0.0268041 ,  0.05737583, -0.00033056,  0.03172463,\n",
       "        0.05930848, -0.0041797 , -0.04024841,  0.00333277,  0.03494352,\n",
       "        0.02257947,  0.01784115,  0.0101407 ,  0.05895454,  0.04246827,\n",
       "       -0.04487648, -0.0621566 , -0.0204978 ,  0.07291052, -0.02458353,\n",
       "        0.03943513,  0.10399348, -0.00603729,  0.02644083,  0.01302287,\n",
       "        0.04124289,  0.02204099,  0.02823494, -0.04698531,  0.02489184,\n",
       "       -0.05471864,  0.00177452, -0.01651777,  0.04622397, -0.02207379,\n",
       "        0.02162247, -0.00177894, -0.03997161,  0.04847245, -0.02668633,\n",
       "       -0.05337071, -0.00629798,  0.01043076,  0.04432759,  0.05248557,\n",
       "        0.03080237,  0.00858798,  0.01035579, -0.07722454, -0.05657643,\n",
       "        0.01440145, -0.02256097,  0.03085385, -0.01630222, -0.03912267,\n",
       "        0.07972159,  0.01309926])"
      ]
     },
     "execution_count": 40,
     "metadata": {},
     "output_type": "execute_result"
    }
   ],
   "source": [
    "# Once the model converges, we can generate PRS estimates \n",
    "prs_chr22 = v.predict()\n",
    "print(len(prs_chr22))\n",
    "prs_chr22"
   ]
  },
  {
   "cell_type": "code",
   "execution_count": 41,
   "metadata": {},
   "outputs": [
    {
     "data": {
      "text/html": [
       "<div>\n",
       "<style scoped>\n",
       "    .dataframe tbody tr th:only-of-type {\n",
       "        vertical-align: middle;\n",
       "    }\n",
       "\n",
       "    .dataframe tbody tr th {\n",
       "        vertical-align: top;\n",
       "    }\n",
       "\n",
       "    .dataframe thead th {\n",
       "        text-align: right;\n",
       "    }\n",
       "</style>\n",
       "<table border=\"1\" class=\"dataframe\">\n",
       "  <thead>\n",
       "    <tr style=\"text-align: right;\">\n",
       "      <th></th>\n",
       "      <th>CHR</th>\n",
       "      <th>SNP</th>\n",
       "      <th>A1</th>\n",
       "      <th>A2</th>\n",
       "      <th>BETA</th>\n",
       "      <th>PIP</th>\n",
       "      <th>VAR_BETA</th>\n",
       "    </tr>\n",
       "  </thead>\n",
       "  <tbody>\n",
       "    <tr>\n",
       "      <th>0</th>\n",
       "      <td>22</td>\n",
       "      <td>rs4911642</td>\n",
       "      <td>G</td>\n",
       "      <td>A</td>\n",
       "      <td>-0.000051</td>\n",
       "      <td>0.040620</td>\n",
       "      <td>0.000008</td>\n",
       "    </tr>\n",
       "    <tr>\n",
       "      <th>1</th>\n",
       "      <td>22</td>\n",
       "      <td>rs2027653</td>\n",
       "      <td>G</td>\n",
       "      <td>A</td>\n",
       "      <td>-0.000009</td>\n",
       "      <td>0.040453</td>\n",
       "      <td>0.000008</td>\n",
       "    </tr>\n",
       "    <tr>\n",
       "      <th>2</th>\n",
       "      <td>22</td>\n",
       "      <td>rs5747620</td>\n",
       "      <td>G</td>\n",
       "      <td>A</td>\n",
       "      <td>-0.000015</td>\n",
       "      <td>0.040457</td>\n",
       "      <td>0.000008</td>\n",
       "    </tr>\n",
       "    <tr>\n",
       "      <th>3</th>\n",
       "      <td>22</td>\n",
       "      <td>rs5747968</td>\n",
       "      <td>C</td>\n",
       "      <td>A</td>\n",
       "      <td>0.000169</td>\n",
       "      <td>0.042121</td>\n",
       "      <td>0.000009</td>\n",
       "    </tr>\n",
       "    <tr>\n",
       "      <th>4</th>\n",
       "      <td>22</td>\n",
       "      <td>rs2236639</td>\n",
       "      <td>A</td>\n",
       "      <td>G</td>\n",
       "      <td>0.000151</td>\n",
       "      <td>0.041792</td>\n",
       "      <td>0.000008</td>\n",
       "    </tr>\n",
       "    <tr>\n",
       "      <th>...</th>\n",
       "      <td>...</td>\n",
       "      <td>...</td>\n",
       "      <td>...</td>\n",
       "      <td>...</td>\n",
       "      <td>...</td>\n",
       "      <td>...</td>\n",
       "      <td>...</td>\n",
       "    </tr>\n",
       "    <tr>\n",
       "      <th>7915</th>\n",
       "      <td>22</td>\n",
       "      <td>rs715586</td>\n",
       "      <td>A</td>\n",
       "      <td>G</td>\n",
       "      <td>-0.000070</td>\n",
       "      <td>0.040734</td>\n",
       "      <td>0.000008</td>\n",
       "    </tr>\n",
       "    <tr>\n",
       "      <th>7916</th>\n",
       "      <td>22</td>\n",
       "      <td>rs8137951</td>\n",
       "      <td>A</td>\n",
       "      <td>G</td>\n",
       "      <td>0.000042</td>\n",
       "      <td>0.040535</td>\n",
       "      <td>0.000008</td>\n",
       "    </tr>\n",
       "    <tr>\n",
       "      <th>7917</th>\n",
       "      <td>22</td>\n",
       "      <td>rs756638</td>\n",
       "      <td>A</td>\n",
       "      <td>G</td>\n",
       "      <td>0.000056</td>\n",
       "      <td>0.040622</td>\n",
       "      <td>0.000008</td>\n",
       "    </tr>\n",
       "    <tr>\n",
       "      <th>7918</th>\n",
       "      <td>22</td>\n",
       "      <td>rs3810648</td>\n",
       "      <td>G</td>\n",
       "      <td>A</td>\n",
       "      <td>-0.000066</td>\n",
       "      <td>0.040699</td>\n",
       "      <td>0.000008</td>\n",
       "    </tr>\n",
       "    <tr>\n",
       "      <th>7919</th>\n",
       "      <td>22</td>\n",
       "      <td>rs2285395</td>\n",
       "      <td>A</td>\n",
       "      <td>G</td>\n",
       "      <td>-0.000047</td>\n",
       "      <td>0.040561</td>\n",
       "      <td>0.000008</td>\n",
       "    </tr>\n",
       "  </tbody>\n",
       "</table>\n",
       "<p>7920 rows × 7 columns</p>\n",
       "</div>"
      ],
      "text/plain": [
       "      CHR        SNP A1 A2      BETA       PIP  VAR_BETA\n",
       "0      22  rs4911642  G  A -0.000051  0.040620  0.000008\n",
       "1      22  rs2027653  G  A -0.000009  0.040453  0.000008\n",
       "2      22  rs5747620  G  A -0.000015  0.040457  0.000008\n",
       "3      22  rs5747968  C  A  0.000169  0.042121  0.000009\n",
       "4      22  rs2236639  A  G  0.000151  0.041792  0.000008\n",
       "...   ...        ... .. ..       ...       ...       ...\n",
       "7915   22   rs715586  A  G -0.000070  0.040734  0.000008\n",
       "7916   22  rs8137951  A  G  0.000042  0.040535  0.000008\n",
       "7917   22   rs756638  A  G  0.000056  0.040622  0.000008\n",
       "7918   22  rs3810648  G  A -0.000066  0.040699  0.000008\n",
       "7919   22  rs2285395  A  G -0.000047  0.040561  0.000008\n",
       "\n",
       "[7920 rows x 7 columns]"
      ]
     },
     "execution_count": 41,
     "metadata": {},
     "output_type": "execute_result"
    }
   ],
   "source": [
    "# To examine posterior estimates for the model parameters, you can simply invoke the .to_table() method:\n",
    "v.to_table()"
   ]
  },
  {
   "attachments": {},
   "cell_type": "markdown",
   "metadata": {},
   "source": [
    "Try directly use the magenpy simulator with mag.path() 下面东西测试readme上面的代码，不太重要的"
   ]
  },
  {
   "cell_type": "code",
   "execution_count": 14,
   "metadata": {},
   "outputs": [
    {
     "name": "stdout",
     "output_type": "stream",
     "text": [
      "> Reading BED file...\n",
      "> Computing LD matrix...\n",
      "15938 (1062, None)\n"
     ]
    },
    {
     "name": "stderr",
     "output_type": "stream",
     "text": [
      "/home/mcb/users/yzhu439/RA_Project/.venv/lib/python3.7/site-packages/scipy/sparse/_index.py:125: SparseEfficiencyWarning: Changing the sparsity structure of a csr_matrix is expensive. lil_matrix is more efficient.\n",
      "  self._set_arrayXarray(i, j, x)\n"
     ]
    },
    {
     "ename": "ValueError",
     "evalue": "Invalid LD Matrix: Element 0 does not have matching LD boundaries!",
     "output_type": "error",
     "traceback": [
      "\u001b[0;31m---------------------------------------------------------------------------\u001b[0m",
      "\u001b[0;31mValueError\u001b[0m                                Traceback (most recent call last)",
      "\u001b[0;32m/tmp/ipykernel_27505/4023920996.py\u001b[0m in \u001b[0;36m<module>\u001b[0;34m\u001b[0m\n\u001b[1;32m      3\u001b[0m \u001b[0;34m\u001b[0m\u001b[0m\n\u001b[1;32m      4\u001b[0m gdl.compute_ld(estimator='sample',\n\u001b[0;32m----> 5\u001b[0;31m                \u001b[0moutput_dir\u001b[0m\u001b[0;34m=\u001b[0m\u001b[0;34m'output/sample_ld/'\u001b[0m\u001b[0;34m,\u001b[0m\u001b[0;34m\u001b[0m\u001b[0;34m\u001b[0m\u001b[0m\n\u001b[0m\u001b[1;32m      6\u001b[0m                )\n",
      "\u001b[0;32m~/RA_Project/.venv/lib/python3.7/site-packages/magenpy/GWADataLoader.py\u001b[0m in \u001b[0;36mcompute_ld\u001b[0;34m(self, estimator, output_dir, **ld_kwargs)\u001b[0m\n\u001b[1;32m    561\u001b[0m                              \u001b[0mtotal\u001b[0m\u001b[0;34m=\u001b[0m\u001b[0mlen\u001b[0m\u001b[0;34m(\u001b[0m\u001b[0mself\u001b[0m\u001b[0;34m.\u001b[0m\u001b[0mgenotype\u001b[0m\u001b[0;34m)\u001b[0m\u001b[0;34m,\u001b[0m\u001b[0;34m\u001b[0m\u001b[0;34m\u001b[0m\u001b[0m\n\u001b[1;32m    562\u001b[0m                              \u001b[0mdesc\u001b[0m\u001b[0;34m=\u001b[0m\u001b[0;34m'Computing LD matrices'\u001b[0m\u001b[0;34m,\u001b[0m\u001b[0;34m\u001b[0m\u001b[0;34m\u001b[0m\u001b[0m\n\u001b[0;32m--> 563\u001b[0;31m                              disable=not self.verbose or len(self.genotype) < 2)\n\u001b[0m\u001b[1;32m    564\u001b[0m         }\n\u001b[1;32m    565\u001b[0m \u001b[0;34m\u001b[0m\u001b[0m\n",
      "\u001b[0;32m~/RA_Project/.venv/lib/python3.7/site-packages/magenpy/GWADataLoader.py\u001b[0m in \u001b[0;36m<dictcomp>\u001b[0;34m(.0)\u001b[0m\n\u001b[1;32m    558\u001b[0m         self.ld = {\n\u001b[1;32m    559\u001b[0m             \u001b[0mc\u001b[0m\u001b[0;34m:\u001b[0m \u001b[0mg\u001b[0m\u001b[0;34m.\u001b[0m\u001b[0mcompute_ld\u001b[0m\u001b[0;34m(\u001b[0m\u001b[0mestimator\u001b[0m\u001b[0;34m,\u001b[0m \u001b[0moutput_dir\u001b[0m\u001b[0;34m,\u001b[0m \u001b[0;34m**\u001b[0m\u001b[0mld_kwargs\u001b[0m\u001b[0;34m)\u001b[0m\u001b[0;34m\u001b[0m\u001b[0;34m\u001b[0m\u001b[0m\n\u001b[0;32m--> 560\u001b[0;31m             for c, g in tqdm(sorted(self.genotype.items(), key=lambda x: x[0]),\n\u001b[0m\u001b[1;32m    561\u001b[0m                              \u001b[0mtotal\u001b[0m\u001b[0;34m=\u001b[0m\u001b[0mlen\u001b[0m\u001b[0;34m(\u001b[0m\u001b[0mself\u001b[0m\u001b[0;34m.\u001b[0m\u001b[0mgenotype\u001b[0m\u001b[0;34m)\u001b[0m\u001b[0;34m,\u001b[0m\u001b[0;34m\u001b[0m\u001b[0;34m\u001b[0m\u001b[0m\n\u001b[1;32m    562\u001b[0m                              \u001b[0mdesc\u001b[0m\u001b[0;34m=\u001b[0m\u001b[0;34m'Computing LD matrices'\u001b[0m\u001b[0;34m,\u001b[0m\u001b[0;34m\u001b[0m\u001b[0;34m\u001b[0m\u001b[0m\n",
      "\u001b[0;32m~/RA_Project/.venv/lib/python3.7/site-packages/magenpy/GenotypeMatrix.py\u001b[0m in \u001b[0;36mcompute_ld\u001b[0;34m(self, estimator, output_dir, **ld_kwargs)\u001b[0m\n\u001b[1;32m    258\u001b[0m         \u001b[0mself\u001b[0m\u001b[0;34m.\u001b[0m\u001b[0mcleanup_dir_list\u001b[0m\u001b[0;34m.\u001b[0m\u001b[0mappend\u001b[0m\u001b[0;34m(\u001b[0m\u001b[0mtmp_ld_dir\u001b[0m\u001b[0;34m)\u001b[0m\u001b[0;34m\u001b[0m\u001b[0;34m\u001b[0m\u001b[0m\n\u001b[1;32m    259\u001b[0m \u001b[0;34m\u001b[0m\u001b[0m\n\u001b[0;32m--> 260\u001b[0;31m         \u001b[0;32mreturn\u001b[0m \u001b[0mld_est\u001b[0m\u001b[0;34m.\u001b[0m\u001b[0mcompute\u001b[0m\u001b[0;34m(\u001b[0m\u001b[0moutput_dir\u001b[0m\u001b[0;34m,\u001b[0m \u001b[0mtemp_dir\u001b[0m\u001b[0;34m=\u001b[0m\u001b[0mtmp_ld_dir\u001b[0m\u001b[0;34m.\u001b[0m\u001b[0mname\u001b[0m\u001b[0;34m)\u001b[0m\u001b[0;34m\u001b[0m\u001b[0;34m\u001b[0m\u001b[0m\n\u001b[0m\u001b[1;32m    261\u001b[0m \u001b[0;34m\u001b[0m\u001b[0m\n\u001b[1;32m    262\u001b[0m     \u001b[0;32mdef\u001b[0m \u001b[0mset_sample_table\u001b[0m\u001b[0;34m(\u001b[0m\u001b[0mself\u001b[0m\u001b[0;34m,\u001b[0m \u001b[0msample_table\u001b[0m\u001b[0;34m)\u001b[0m\u001b[0;34m:\u001b[0m\u001b[0;34m\u001b[0m\u001b[0;34m\u001b[0m\u001b[0m\n",
      "\u001b[0;32m~/RA_Project/.venv/lib/python3.7/site-packages/magenpy/stats/ld/estimator.py\u001b[0m in \u001b[0;36mcompute\u001b[0;34m(self, output_dir, temp_dir)\u001b[0m\n\u001b[1;32m     88\u001b[0m         \u001b[0mld_mat\u001b[0m\u001b[0;34m.\u001b[0m\u001b[0mset_store_attr\u001b[0m\u001b[0;34m(\u001b[0m\u001b[0;34m'LDScore'\u001b[0m\u001b[0;34m,\u001b[0m \u001b[0mld_mat\u001b[0m\u001b[0;34m.\u001b[0m\u001b[0mcompute_ld_scores\u001b[0m\u001b[0;34m(\u001b[0m\u001b[0;34m)\u001b[0m\u001b[0;34m.\u001b[0m\u001b[0mtolist\u001b[0m\u001b[0;34m(\u001b[0m\u001b[0;34m)\u001b[0m\u001b[0;34m)\u001b[0m\u001b[0;34m\u001b[0m\u001b[0;34m\u001b[0m\u001b[0m\n\u001b[1;32m     89\u001b[0m \u001b[0;34m\u001b[0m\u001b[0m\n\u001b[0;32m---> 90\u001b[0;31m         \u001b[0;32mif\u001b[0m \u001b[0m_validate_ld_matrix\u001b[0m\u001b[0;34m(\u001b[0m\u001b[0mld_mat\u001b[0m\u001b[0;34m)\u001b[0m\u001b[0;34m:\u001b[0m\u001b[0;34m\u001b[0m\u001b[0;34m\u001b[0m\u001b[0m\n\u001b[0m\u001b[1;32m     91\u001b[0m             \u001b[0;32mreturn\u001b[0m \u001b[0mld_mat\u001b[0m\u001b[0;34m\u001b[0m\u001b[0;34m\u001b[0m\u001b[0m\n\u001b[1;32m     92\u001b[0m \u001b[0;34m\u001b[0m\u001b[0m\n",
      "\u001b[0;32m~/RA_Project/.venv/lib/python3.7/site-packages/magenpy/stats/ld/utils.py\u001b[0m in \u001b[0;36m_validate_ld_matrix\u001b[0;34m(ld_mat)\u001b[0m\n\u001b[1;32m     43\u001b[0m     \u001b[0;32mfor\u001b[0m \u001b[0mi\u001b[0m\u001b[0;34m,\u001b[0m \u001b[0md\u001b[0m \u001b[0;32min\u001b[0m \u001b[0menumerate\u001b[0m\u001b[0;34m(\u001b[0m\u001b[0mld_mat\u001b[0m\u001b[0;34m)\u001b[0m\u001b[0;34m:\u001b[0m\u001b[0;34m\u001b[0m\u001b[0;34m\u001b[0m\u001b[0m\n\u001b[1;32m     44\u001b[0m         \u001b[0;32mif\u001b[0m \u001b[0mlen\u001b[0m\u001b[0;34m(\u001b[0m\u001b[0md\u001b[0m\u001b[0;34m)\u001b[0m \u001b[0;34m!=\u001b[0m \u001b[0mld_block_lengths\u001b[0m\u001b[0;34m[\u001b[0m\u001b[0mi\u001b[0m\u001b[0;34m]\u001b[0m\u001b[0;34m:\u001b[0m\u001b[0;34m\u001b[0m\u001b[0;34m\u001b[0m\u001b[0m\n\u001b[0;32m---> 45\u001b[0;31m             \u001b[0;32mraise\u001b[0m \u001b[0mValueError\u001b[0m\u001b[0;34m(\u001b[0m\u001b[0;34mf\"Invalid LD Matrix: Element {i} does not have matching LD boundaries!\"\u001b[0m\u001b[0;34m)\u001b[0m\u001b[0;34m\u001b[0m\u001b[0;34m\u001b[0m\u001b[0m\n\u001b[0m\u001b[1;32m     46\u001b[0m \u001b[0;34m\u001b[0m\u001b[0m\n\u001b[1;32m     47\u001b[0m     \u001b[0;32mif\u001b[0m \u001b[0mi\u001b[0m \u001b[0;34m!=\u001b[0m \u001b[0;34m(\u001b[0m\u001b[0mld_mat\u001b[0m\u001b[0;34m.\u001b[0m\u001b[0mn_elements\u001b[0m \u001b[0;34m-\u001b[0m \u001b[0;36m1\u001b[0m\u001b[0;34m)\u001b[0m\u001b[0;34m:\u001b[0m\u001b[0;34m\u001b[0m\u001b[0;34m\u001b[0m\u001b[0m\n",
      "\u001b[0;31mValueError\u001b[0m: Invalid LD Matrix: Element 0 does not have matching LD boundaries!"
     ]
    }
   ],
   "source": [
    "gdl = mgp.GWADataLoader(mgp.tgp_eur_data_path(),\n",
    "                        backend=\"plink\")\n",
    "\n",
    "gdl.compute_ld(estimator='sample',\n",
    "               output_dir='output/sample_ld/',\n",
    "               )"
   ]
  },
  {
   "cell_type": "code",
   "execution_count": 9,
   "metadata": {},
   "outputs": [
    {
     "name": "stdout",
     "output_type": "stream",
     "text": [
      "> Cleaning up workspace.\n"
     ]
    }
   ],
   "source": [
    "gdl.cleanup()"
   ]
  }
 ],
 "metadata": {
  "kernelspec": {
   "display_name": ".venv",
   "language": "python",
   "name": "python3"
  },
  "language_info": {
   "codemirror_mode": {
    "name": "ipython",
    "version": 3
   },
   "file_extension": ".py",
   "mimetype": "text/x-python",
   "name": "python",
   "nbconvert_exporter": "python",
   "pygments_lexer": "ipython3",
   "version": "3.7.5"
  },
  "orig_nbformat": 4
 },
 "nbformat": 4,
 "nbformat_minor": 2
}
