{
 "cells": [
  {
   "attachments": {},
   "cell_type": "markdown",
   "metadata": {},
   "source": [
    "<h3>Toy example experiment 6.18</h3>\n",
    "\n",
    "Use the magenpy GWASimulator based on RA's genotypes data (d1CM22_sorted.bed) to simulate phenotypes.  \n",
    "the heritibility = 0.5, (Gaussian Mixture Proportion)pi = [.85, .15]"
   ]
  },
  {
   "cell_type": "code",
   "execution_count": 1,
   "metadata": {},
   "outputs": [],
   "source": [
    "import numpy as np\n",
    "import pandas as pd\n",
    "import magenpy as mgp\n",
    "import viprs as vp"
   ]
  },
  {
   "cell_type": "code",
   "execution_count": 2,
   "metadata": {},
   "outputs": [
    {
     "name": "stdout",
     "output_type": "stream",
     "text": [
      "> Reading BED file...\n",
      "> Generating polygenic scores...\n"
     ]
    },
    {
     "data": {
      "text/html": [
       "<div>\n",
       "<style scoped>\n",
       "    .dataframe tbody tr th:only-of-type {\n",
       "        vertical-align: middle;\n",
       "    }\n",
       "\n",
       "    .dataframe tbody tr th {\n",
       "        vertical-align: top;\n",
       "    }\n",
       "\n",
       "    .dataframe thead th {\n",
       "        text-align: right;\n",
       "    }\n",
       "</style>\n",
       "<table border=\"1\" class=\"dataframe\">\n",
       "  <thead>\n",
       "    <tr style=\"text-align: right;\">\n",
       "      <th></th>\n",
       "      <th>FID</th>\n",
       "      <th>IID</th>\n",
       "      <th>phenotype</th>\n",
       "    </tr>\n",
       "  </thead>\n",
       "  <tbody>\n",
       "    <tr>\n",
       "      <th>0</th>\n",
       "      <td>0</td>\n",
       "      <td>1721000</td>\n",
       "      <td>-1.010706</td>\n",
       "    </tr>\n",
       "    <tr>\n",
       "      <th>1</th>\n",
       "      <td>0</td>\n",
       "      <td>1722000</td>\n",
       "      <td>0.865608</td>\n",
       "    </tr>\n",
       "    <tr>\n",
       "      <th>2</th>\n",
       "      <td>0</td>\n",
       "      <td>1723000</td>\n",
       "      <td>0.122068</td>\n",
       "    </tr>\n",
       "    <tr>\n",
       "      <th>3</th>\n",
       "      <td>0</td>\n",
       "      <td>1725000</td>\n",
       "      <td>0.454301</td>\n",
       "    </tr>\n",
       "    <tr>\n",
       "      <th>4</th>\n",
       "      <td>0</td>\n",
       "      <td>1726000</td>\n",
       "      <td>0.268947</td>\n",
       "    </tr>\n",
       "    <tr>\n",
       "      <th>...</th>\n",
       "      <td>...</td>\n",
       "      <td>...</td>\n",
       "      <td>...</td>\n",
       "    </tr>\n",
       "    <tr>\n",
       "      <th>172</th>\n",
       "      <td>0</td>\n",
       "      <td>1921000</td>\n",
       "      <td>-1.507169</td>\n",
       "    </tr>\n",
       "    <tr>\n",
       "      <th>173</th>\n",
       "      <td>0</td>\n",
       "      <td>1922000</td>\n",
       "      <td>1.224331</td>\n",
       "    </tr>\n",
       "    <tr>\n",
       "      <th>174</th>\n",
       "      <td>0</td>\n",
       "      <td>1923000</td>\n",
       "      <td>-1.111359</td>\n",
       "    </tr>\n",
       "    <tr>\n",
       "      <th>175</th>\n",
       "      <td>0</td>\n",
       "      <td>1924000</td>\n",
       "      <td>-1.780030</td>\n",
       "    </tr>\n",
       "    <tr>\n",
       "      <th>176</th>\n",
       "      <td>0</td>\n",
       "      <td>1925000</td>\n",
       "      <td>0.866972</td>\n",
       "    </tr>\n",
       "  </tbody>\n",
       "</table>\n",
       "<p>177 rows × 3 columns</p>\n",
       "</div>"
      ],
      "text/plain": [
       "    FID      IID  phenotype\n",
       "0     0  1721000  -1.010706\n",
       "1     0  1722000   0.865608\n",
       "2     0  1723000   0.122068\n",
       "3     0  1725000   0.454301\n",
       "4     0  1726000   0.268947\n",
       "..   ..      ...        ...\n",
       "172   0  1921000  -1.507169\n",
       "173   0  1922000   1.224331\n",
       "174   0  1923000  -1.111359\n",
       "175   0  1924000  -1.780030\n",
       "176   0  1925000   0.866972\n",
       "\n",
       "[177 rows x 3 columns]"
      ]
     },
     "execution_count": 2,
     "metadata": {},
     "output_type": "execute_result"
    }
   ],
   "source": [
    "#simulate \n",
    "g_sim = mgp.GWASimulator(\"CMdream1/chr22/d1CM22_sorted\",\n",
    "                         pi = [.99, .01],\n",
    "                         h2=0.5)\n",
    "g_sim.simulate()\n",
    "g_sim.to_phenotype_table()"
   ]
  },
  {
   "cell_type": "code",
   "execution_count": 3,
   "metadata": {},
   "outputs": [
    {
     "data": {
      "text/html": [
       "<div>\n",
       "<style scoped>\n",
       "    .dataframe tbody tr th:only-of-type {\n",
       "        vertical-align: middle;\n",
       "    }\n",
       "\n",
       "    .dataframe tbody tr th {\n",
       "        vertical-align: top;\n",
       "    }\n",
       "\n",
       "    .dataframe thead th {\n",
       "        text-align: right;\n",
       "    }\n",
       "</style>\n",
       "<table border=\"1\" class=\"dataframe\">\n",
       "  <thead>\n",
       "    <tr style=\"text-align: right;\">\n",
       "      <th></th>\n",
       "      <th>0</th>\n",
       "      <th>1</th>\n",
       "      <th>2</th>\n",
       "      <th>3</th>\n",
       "      <th>4</th>\n",
       "      <th>5</th>\n",
       "    </tr>\n",
       "  </thead>\n",
       "  <tbody>\n",
       "    <tr>\n",
       "      <th>0</th>\n",
       "      <td>22</td>\n",
       "      <td>rs4911642</td>\n",
       "      <td>-11.277499</td>\n",
       "      <td>14884399</td>\n",
       "      <td>G</td>\n",
       "      <td>A</td>\n",
       "    </tr>\n",
       "    <tr>\n",
       "      <th>1</th>\n",
       "      <td>22</td>\n",
       "      <td>rs2027653</td>\n",
       "      <td>-7.277181</td>\n",
       "      <td>15298335</td>\n",
       "      <td>G</td>\n",
       "      <td>A</td>\n",
       "    </tr>\n",
       "    <tr>\n",
       "      <th>2</th>\n",
       "      <td>22</td>\n",
       "      <td>rs5747620</td>\n",
       "      <td>-6.171966</td>\n",
       "      <td>15412698</td>\n",
       "      <td>G</td>\n",
       "      <td>A</td>\n",
       "    </tr>\n",
       "    <tr>\n",
       "      <th>3</th>\n",
       "      <td>22</td>\n",
       "      <td>rs5747968</td>\n",
       "      <td>-5.835598</td>\n",
       "      <td>15447504</td>\n",
       "      <td>C</td>\n",
       "      <td>A</td>\n",
       "    </tr>\n",
       "    <tr>\n",
       "      <th>4</th>\n",
       "      <td>22</td>\n",
       "      <td>rs2236639</td>\n",
       "      <td>-5.787480</td>\n",
       "      <td>15452483</td>\n",
       "      <td>A</td>\n",
       "      <td>G</td>\n",
       "    </tr>\n",
       "    <tr>\n",
       "      <th>...</th>\n",
       "      <td>...</td>\n",
       "      <td>...</td>\n",
       "      <td>...</td>\n",
       "      <td>...</td>\n",
       "      <td>...</td>\n",
       "      <td>...</td>\n",
       "    </tr>\n",
       "    <tr>\n",
       "      <th>7915</th>\n",
       "      <td>22</td>\n",
       "      <td>rs715586</td>\n",
       "      <td>70.074142</td>\n",
       "      <td>49510004</td>\n",
       "      <td>A</td>\n",
       "      <td>G</td>\n",
       "    </tr>\n",
       "    <tr>\n",
       "      <th>7916</th>\n",
       "      <td>22</td>\n",
       "      <td>rs8137951</td>\n",
       "      <td>70.076278</td>\n",
       "      <td>49512530</td>\n",
       "      <td>A</td>\n",
       "      <td>G</td>\n",
       "    </tr>\n",
       "    <tr>\n",
       "      <th>7917</th>\n",
       "      <td>22</td>\n",
       "      <td>rs756638</td>\n",
       "      <td>70.084762</td>\n",
       "      <td>49518559</td>\n",
       "      <td>A</td>\n",
       "      <td>G</td>\n",
       "    </tr>\n",
       "    <tr>\n",
       "      <th>7918</th>\n",
       "      <td>22</td>\n",
       "      <td>rs3810648</td>\n",
       "      <td>70.168330</td>\n",
       "      <td>49522492</td>\n",
       "      <td>G</td>\n",
       "      <td>A</td>\n",
       "    </tr>\n",
       "    <tr>\n",
       "      <th>7919</th>\n",
       "      <td>22</td>\n",
       "      <td>rs2285395</td>\n",
       "      <td>70.221644</td>\n",
       "      <td>49524956</td>\n",
       "      <td>A</td>\n",
       "      <td>G</td>\n",
       "    </tr>\n",
       "  </tbody>\n",
       "</table>\n",
       "<p>7920 rows × 6 columns</p>\n",
       "</div>"
      ],
      "text/plain": [
       "       0          1          2         3  4  5\n",
       "0     22  rs4911642 -11.277499  14884399  G  A\n",
       "1     22  rs2027653  -7.277181  15298335  G  A\n",
       "2     22  rs5747620  -6.171966  15412698  G  A\n",
       "3     22  rs5747968  -5.835598  15447504  C  A\n",
       "4     22  rs2236639  -5.787480  15452483  A  G\n",
       "...   ..        ...        ...       ... .. ..\n",
       "7915  22   rs715586  70.074142  49510004  A  G\n",
       "7916  22  rs8137951  70.076278  49512530  A  G\n",
       "7917  22   rs756638  70.084762  49518559  A  G\n",
       "7918  22  rs3810648  70.168330  49522492  G  A\n",
       "7919  22  rs2285395  70.221644  49524956  A  G\n",
       "\n",
       "[7920 rows x 6 columns]"
      ]
     },
     "execution_count": 3,
     "metadata": {},
     "output_type": "execute_result"
    }
   ],
   "source": [
    "pd.read_csv(\"CMdream1/chr22/d1CM22_sorted.bim\", sep=\"\\t\", header=None)\n"
   ]
  },
  {
   "cell_type": "code",
   "execution_count": 4,
   "metadata": {},
   "outputs": [
    {
     "name": "stdout",
     "output_type": "stream",
     "text": [
      "> Performing GWAS...\n"
     ]
    }
   ],
   "source": [
    "g_sim.perform_gwas()\n",
    "g_sim.to_summary_statistics_table().to_csv(\n",
    "    \"Toy_example_expr/d1CM22_sorted.sumstats\", sep=\"\\t\", index=False\n",
    ")"
   ]
  },
  {
   "cell_type": "code",
   "execution_count": 5,
   "metadata": {},
   "outputs": [
    {
     "name": "stdout",
     "output_type": "stream",
     "text": [
      "> Reading BED file...\n",
      "> Reading summary statistics file...\n",
      "> Harmonizing data...\n"
     ]
    }
   ],
   "source": [
    "# Load summary statistics（simulate phenotype from above) and match them with perviously\n",
    "gdl_sim = mgp.GWADataLoader(bed_files=\"CMdream1/chr22/d1CM22_sorted\",\n",
    "                            sumstats_files=\"Toy_example_expr/d1CM22_sorted.sumstats\",\n",
    "                            sumstats_format=\"magenpy\")"
   ]
  },
  {
   "cell_type": "code",
   "execution_count": 6,
   "metadata": {},
   "outputs": [
    {
     "data": {
      "text/html": [
       "<div>\n",
       "<style scoped>\n",
       "    .dataframe tbody tr th:only-of-type {\n",
       "        vertical-align: middle;\n",
       "    }\n",
       "\n",
       "    .dataframe tbody tr th {\n",
       "        vertical-align: top;\n",
       "    }\n",
       "\n",
       "    .dataframe thead th {\n",
       "        text-align: right;\n",
       "    }\n",
       "</style>\n",
       "<table border=\"1\" class=\"dataframe\">\n",
       "  <thead>\n",
       "    <tr style=\"text-align: right;\">\n",
       "      <th></th>\n",
       "      <th>0</th>\n",
       "      <th>1</th>\n",
       "      <th>2</th>\n",
       "      <th>3</th>\n",
       "      <th>4</th>\n",
       "      <th>5</th>\n",
       "      <th>6</th>\n",
       "      <th>7</th>\n",
       "      <th>8</th>\n",
       "      <th>9</th>\n",
       "      <th>10</th>\n",
       "    </tr>\n",
       "  </thead>\n",
       "  <tbody>\n",
       "    <tr>\n",
       "      <th>0</th>\n",
       "      <td>CHR</td>\n",
       "      <td>SNP</td>\n",
       "      <td>POS</td>\n",
       "      <td>A1</td>\n",
       "      <td>A2</td>\n",
       "      <td>MAF</td>\n",
       "      <td>N</td>\n",
       "      <td>BETA</td>\n",
       "      <td>Z</td>\n",
       "      <td>SE</td>\n",
       "      <td>PVAL</td>\n",
       "    </tr>\n",
       "    <tr>\n",
       "      <th>1</th>\n",
       "      <td>22</td>\n",
       "      <td>rs4911642</td>\n",
       "      <td>14884399</td>\n",
       "      <td>G</td>\n",
       "      <td>A</td>\n",
       "      <td>0.12721893491124261</td>\n",
       "      <td>169</td>\n",
       "      <td>0.06405049344662028</td>\n",
       "      <td>0.8326564148060637</td>\n",
       "      <td>0.07692307692307693</td>\n",
       "      <td>0.405038532309158</td>\n",
       "    </tr>\n",
       "    <tr>\n",
       "      <th>2</th>\n",
       "      <td>22</td>\n",
       "      <td>rs2027653</td>\n",
       "      <td>15298335</td>\n",
       "      <td>G</td>\n",
       "      <td>A</td>\n",
       "      <td>0.3742690058479532</td>\n",
       "      <td>171</td>\n",
       "      <td>-0.015638625018954477</td>\n",
       "      <td>-0.20450155822064825</td>\n",
       "      <td>0.07647191129018725</td>\n",
       "      <td>0.83796157444101</td>\n",
       "    </tr>\n",
       "    <tr>\n",
       "      <th>3</th>\n",
       "      <td>22</td>\n",
       "      <td>rs5747620</td>\n",
       "      <td>15412698</td>\n",
       "      <td>G</td>\n",
       "      <td>A</td>\n",
       "      <td>0.3953488372093023</td>\n",
       "      <td>172</td>\n",
       "      <td>-0.09178566334704852</td>\n",
       "      <td>-1.2037576896211002</td>\n",
       "      <td>0.07624928516630233</td>\n",
       "      <td>0.22868324742188484</td>\n",
       "    </tr>\n",
       "    <tr>\n",
       "      <th>4</th>\n",
       "      <td>22</td>\n",
       "      <td>rs5747968</td>\n",
       "      <td>15447504</td>\n",
       "      <td>C</td>\n",
       "      <td>A</td>\n",
       "      <td>0.3700564971751412</td>\n",
       "      <td>177</td>\n",
       "      <td>-0.042020555905944904</td>\n",
       "      <td>-0.5590471357587852</td>\n",
       "      <td>0.07516460280028288</td>\n",
       "      <td>0.5761295517091787</td>\n",
       "    </tr>\n",
       "    <tr>\n",
       "      <th>...</th>\n",
       "      <td>...</td>\n",
       "      <td>...</td>\n",
       "      <td>...</td>\n",
       "      <td>...</td>\n",
       "      <td>...</td>\n",
       "      <td>...</td>\n",
       "      <td>...</td>\n",
       "      <td>...</td>\n",
       "      <td>...</td>\n",
       "      <td>...</td>\n",
       "      <td>...</td>\n",
       "    </tr>\n",
       "    <tr>\n",
       "      <th>7916</th>\n",
       "      <td>22</td>\n",
       "      <td>rs715586</td>\n",
       "      <td>49510004</td>\n",
       "      <td>A</td>\n",
       "      <td>G</td>\n",
       "      <td>0.14204545454545456</td>\n",
       "      <td>176</td>\n",
       "      <td>0.070783797882582</td>\n",
       "      <td>0.9390531952515101</td>\n",
       "      <td>0.07537783614444091</td>\n",
       "      <td>0.3477034332638703</td>\n",
       "    </tr>\n",
       "    <tr>\n",
       "      <th>7917</th>\n",
       "      <td>22</td>\n",
       "      <td>rs8137951</td>\n",
       "      <td>49512530</td>\n",
       "      <td>A</td>\n",
       "      <td>G</td>\n",
       "      <td>0.2768361581920904</td>\n",
       "      <td>177</td>\n",
       "      <td>-0.039066507371861674</td>\n",
       "      <td>-0.5197460761638542</td>\n",
       "      <td>0.07516460280028288</td>\n",
       "      <td>0.6032405678882882</td>\n",
       "    </tr>\n",
       "    <tr>\n",
       "      <th>7918</th>\n",
       "      <td>22</td>\n",
       "      <td>rs756638</td>\n",
       "      <td>49518559</td>\n",
       "      <td>A</td>\n",
       "      <td>G</td>\n",
       "      <td>0.2471590909090909</td>\n",
       "      <td>176</td>\n",
       "      <td>0.1017155631818596</td>\n",
       "      <td>1.3494094336556661</td>\n",
       "      <td>0.07537783614444091</td>\n",
       "      <td>0.1772054923890033</td>\n",
       "    </tr>\n",
       "    <tr>\n",
       "      <th>7919</th>\n",
       "      <td>22</td>\n",
       "      <td>rs3810648</td>\n",
       "      <td>49522492</td>\n",
       "      <td>G</td>\n",
       "      <td>A</td>\n",
       "      <td>0.048295454545454544</td>\n",
       "      <td>176</td>\n",
       "      <td>0.12056290315911831</td>\n",
       "      <td>1.5994476536589965</td>\n",
       "      <td>0.07537783614444091</td>\n",
       "      <td>0.1097211709879028</td>\n",
       "    </tr>\n",
       "    <tr>\n",
       "      <th>7920</th>\n",
       "      <td>22</td>\n",
       "      <td>rs2285395</td>\n",
       "      <td>49524956</td>\n",
       "      <td>A</td>\n",
       "      <td>G</td>\n",
       "      <td>0.03954802259887006</td>\n",
       "      <td>177</td>\n",
       "      <td>0.13082365298741766</td>\n",
       "      <td>1.7404955007215885</td>\n",
       "      <td>0.07516460280028288</td>\n",
       "      <td>0.08177204942476542</td>\n",
       "    </tr>\n",
       "  </tbody>\n",
       "</table>\n",
       "<p>7921 rows × 11 columns</p>\n",
       "</div>"
      ],
      "text/plain": [
       "       0          1         2   3   4                     5    6   \\\n",
       "0     CHR        SNP       POS  A1  A2                   MAF    N   \n",
       "1      22  rs4911642  14884399   G   A   0.12721893491124261  169   \n",
       "2      22  rs2027653  15298335   G   A    0.3742690058479532  171   \n",
       "3      22  rs5747620  15412698   G   A    0.3953488372093023  172   \n",
       "4      22  rs5747968  15447504   C   A    0.3700564971751412  177   \n",
       "...   ...        ...       ...  ..  ..                   ...  ...   \n",
       "7916   22   rs715586  49510004   A   G   0.14204545454545456  176   \n",
       "7917   22  rs8137951  49512530   A   G    0.2768361581920904  177   \n",
       "7918   22   rs756638  49518559   A   G    0.2471590909090909  176   \n",
       "7919   22  rs3810648  49522492   G   A  0.048295454545454544  176   \n",
       "7920   22  rs2285395  49524956   A   G   0.03954802259887006  177   \n",
       "\n",
       "                         7                     8                    9   \\\n",
       "0                      BETA                     Z                   SE   \n",
       "1       0.06405049344662028    0.8326564148060637  0.07692307692307693   \n",
       "2     -0.015638625018954477  -0.20450155822064825  0.07647191129018725   \n",
       "3      -0.09178566334704852   -1.2037576896211002  0.07624928516630233   \n",
       "4     -0.042020555905944904   -0.5590471357587852  0.07516460280028288   \n",
       "...                     ...                   ...                  ...   \n",
       "7916      0.070783797882582    0.9390531952515101  0.07537783614444091   \n",
       "7917  -0.039066507371861674   -0.5197460761638542  0.07516460280028288   \n",
       "7918     0.1017155631818596    1.3494094336556661  0.07537783614444091   \n",
       "7919    0.12056290315911831    1.5994476536589965  0.07537783614444091   \n",
       "7920    0.13082365298741766    1.7404955007215885  0.07516460280028288   \n",
       "\n",
       "                       10  \n",
       "0                    PVAL  \n",
       "1       0.405038532309158  \n",
       "2        0.83796157444101  \n",
       "3     0.22868324742188484  \n",
       "4      0.5761295517091787  \n",
       "...                   ...  \n",
       "7916   0.3477034332638703  \n",
       "7917   0.6032405678882882  \n",
       "7918   0.1772054923890033  \n",
       "7919   0.1097211709879028  \n",
       "7920  0.08177204942476542  \n",
       "\n",
       "[7921 rows x 11 columns]"
      ]
     },
     "execution_count": 6,
     "metadata": {},
     "output_type": "execute_result"
    }
   ],
   "source": [
    "pd.read_csv(\"Toy_example_expr/d1CM22_sorted.sumstats\", sep=\"\\t\", header=None)"
   ]
  },
  {
   "cell_type": "code",
   "execution_count": 7,
   "metadata": {},
   "outputs": [
    {
     "name": "stdout",
     "output_type": "stream",
     "text": [
      "> Computing LD matrix...\n"
     ]
    }
   ],
   "source": [
    "# gdl_sim.compute_ld(estimator='sample',\n",
    "#                    output_dir='Toy_example_expr/out/ld/')\n",
    "gdl_sim.compute_ld(estimator='windowed',\n",
    "                   output_dir='Toy_example_expr/out/ld/',\n",
    "                   window_size=100)"
   ]
  },
  {
   "cell_type": "code",
   "execution_count": 8,
   "metadata": {},
   "outputs": [
    {
     "data": {
      "text/plain": [
       "{22: <magenpy.LDMatrix.LDMatrix at 0x7f95306180b0>}"
      ]
     },
     "execution_count": 8,
     "metadata": {},
     "output_type": "execute_result"
    }
   ],
   "source": [
    "# attempt to read the computed LD\n",
    "gdl_sim.load_ld()\n",
    "gdl_sim.ld"
   ]
  },
  {
   "cell_type": "code",
   "execution_count": 9,
   "metadata": {},
   "outputs": [],
   "source": [
    "# i =  10\n",
    "# d1_LD = mgp.LDMatrix.from_path(\"Toy_example_expr/out/ld/ld/chr_22\")\n",
    "# # for i in range(0,7920):\n",
    "# #     print(d1_LD[i].shape)\n",
    "\n",
    "# d1_LD[2]"
   ]
  },
  {
   "attachments": {},
   "cell_type": "markdown",
   "metadata": {},
   "source": [
    "Use Viprs, initialize the viprs model based on the <code> gdl_sim model</code> containing the GWAS data and the LD matrix (using xarray method) for the chr22."
   ]
  },
  {
   "cell_type": "code",
   "execution_count": 10,
   "metadata": {},
   "outputs": [],
   "source": [
    "v = vp.VIPRS(gdl_sim)"
   ]
  },
  {
   "cell_type": "code",
   "execution_count": 11,
   "metadata": {},
   "outputs": [
    {
     "name": "stdout",
     "output_type": "stream",
     "text": [
      "> Initializing model parameters\n",
      "> Loading LD matrices into memory...\n",
      "> Performing model fit...\n",
      "> Using up to 1 threads.\n"
     ]
    },
    {
     "name": "stderr",
     "output_type": "stream",
     "text": [
      "  0%|          | 4/1000 [00:00<00:38, 26.06it/s]"
     ]
    },
    {
     "name": "stderr",
     "output_type": "stream",
     "text": [
      "\n"
     ]
    },
    {
     "ename": "OptimizationDivergence",
     "evalue": "Stopping at iteration 5: The optimization algorithm is not converging!\nPrevious ELBO: -220.524828 | Current ELBO: 155017871180485.656250",
     "output_type": "error",
     "traceback": [
      "\u001b[0;31m---------------------------------------------------------------------------\u001b[0m",
      "\u001b[0;31mOptimizationDivergence\u001b[0m                    Traceback (most recent call last)",
      "\u001b[0;32m/tmp/ipykernel_14012/2937400109.py\u001b[0m in \u001b[0;36m<module>\u001b[0;34m\u001b[0m\n\u001b[0;32m----> 1\u001b[0;31m \u001b[0mv\u001b[0m\u001b[0;34m.\u001b[0m\u001b[0mfit\u001b[0m\u001b[0;34m(\u001b[0m\u001b[0;34m)\u001b[0m\u001b[0;34m\u001b[0m\u001b[0;34m\u001b[0m\u001b[0m\n\u001b[0m",
      "\u001b[0;32mviprs/model/VIPRS.pyx\u001b[0m in \u001b[0;36mviprs.model.VIPRS.VIPRS.fit\u001b[0;34m()\u001b[0m\n",
      "\u001b[0;32mviprs/model/VIPRS.pyx\u001b[0m in \u001b[0;36mviprs.model.VIPRS.VIPRS.fit\u001b[0;34m()\u001b[0m\n",
      "\u001b[0;31mOptimizationDivergence\u001b[0m: Stopping at iteration 5: The optimization algorithm is not converging!\nPrevious ELBO: -220.524828 | Current ELBO: 155017871180485.656250"
     ]
    }
   ],
   "source": [
    "v.fit()"
   ]
  },
  {
   "cell_type": "code",
   "execution_count": null,
   "metadata": {},
   "outputs": [
    {
     "name": "stdout",
     "output_type": "stream",
     "text": [
      "> Generating polygenic scores...\n",
      "177\n"
     ]
    },
    {
     "data": {
      "text/plain": [
       "array([-0.04869287, -0.05159315, -0.03341141, -0.04092102,  0.00800504,\n",
       "       -0.07446621, -0.02891326,  0.07615968, -0.00190596, -0.00153135,\n",
       "       -0.01466533,  0.00809267, -0.04965925,  0.08105793, -0.07767217,\n",
       "        0.11093063, -0.00467449,  0.04714662, -0.02972149, -0.03469132,\n",
       "       -0.03975939, -0.02460893,  0.06840094,  0.04667084, -0.04166952,\n",
       "        0.03044004, -0.04885707,  0.05560123, -0.04475551, -0.01026837,\n",
       "       -0.05393578,  0.0804356 , -0.02755772,  0.02766405, -0.02760438,\n",
       "        0.03990991,  0.01237181,  0.10902726,  0.02366103,  0.0189675 ,\n",
       "        0.04046421, -0.11356237, -0.04550571, -0.00087849, -0.04122994,\n",
       "        0.07447408, -0.11099115, -0.06686776,  0.01833978, -0.02180401,\n",
       "       -0.00475278, -0.10805256, -0.07335433,  0.13263711, -0.03423287,\n",
       "        0.02571957,  0.0739412 , -0.02307223, -0.01119488, -0.02195915,\n",
       "        0.01482855,  0.0877863 , -0.02144691,  0.06323041, -0.04707012,\n",
       "       -0.00137178, -0.01651207,  0.05696975, -0.00324996, -0.03076055,\n",
       "        0.04265525,  0.00059764, -0.00376875, -0.06672347, -0.04103273,\n",
       "        0.09312062, -0.01990195,  0.04774612, -0.04539319,  0.07053259,\n",
       "        0.0106722 , -0.05207259, -0.09349205,  0.00173152, -0.04059852,\n",
       "       -0.05208928, -0.04419792,  0.05826875,  0.01738598,  0.00789212,\n",
       "        0.03931381, -0.03269022, -0.02942831, -0.00106673, -0.03417705,\n",
       "        0.03907989, -0.03437695,  0.02558651,  0.04386815, -0.02083639,\n",
       "        0.00047972,  0.02908334,  0.03439554, -0.01722861,  0.07327631,\n",
       "        0.07769623,  0.0098854 , -0.00068195, -0.05432101,  0.01289495,\n",
       "        0.02815726,  0.01032164,  0.05706275,  0.0327865 ,  0.00722339,\n",
       "       -0.04441172,  0.00867595,  0.03978241, -0.01940383, -0.01124093,\n",
       "        0.01915823,  0.02085645, -0.02668506, -0.08677967, -0.05316504,\n",
       "        0.05435144, -0.03432691, -0.06370775,  0.0438676 ,  0.04584136,\n",
       "       -0.09979769,  0.00278589,  0.01219528, -0.03866012,  0.05404223,\n",
       "       -0.0778964 ,  0.05230268,  0.01871568, -0.08134793,  0.06469456,\n",
       "       -0.06338712, -0.04824287,  0.03007557, -0.02316719,  0.08524678,\n",
       "        0.03299479,  0.03470557, -0.03444044,  0.09048317, -0.08632535,\n",
       "        0.02696504,  0.06835877, -0.05612495, -0.08693677, -0.07028256,\n",
       "        0.06253402, -0.00064209,  0.0145637 ,  0.03556458, -0.02093253,\n",
       "        0.05688337,  0.02192728, -0.02699117, -0.08711397, -0.02626971,\n",
       "       -0.00556214,  0.02801646, -0.08089203,  0.00347693, -0.00932663,\n",
       "       -0.06795166,  0.08051651, -0.06844434,  0.10957563, -0.06115221,\n",
       "       -0.09366142, -0.04951695])"
      ]
     },
     "execution_count": 155,
     "metadata": {},
     "output_type": "execute_result"
    }
   ],
   "source": [
    "# Once the model converges, we can generate PRS estimates \n",
    "prs_chr22 = v.predict()\n",
    "print(len(prs_chr22))\n",
    "prs_chr22"
   ]
  },
  {
   "cell_type": "code",
   "execution_count": null,
   "metadata": {},
   "outputs": [
    {
     "data": {
      "text/html": [
       "<div>\n",
       "<style scoped>\n",
       "    .dataframe tbody tr th:only-of-type {\n",
       "        vertical-align: middle;\n",
       "    }\n",
       "\n",
       "    .dataframe tbody tr th {\n",
       "        vertical-align: top;\n",
       "    }\n",
       "\n",
       "    .dataframe thead th {\n",
       "        text-align: right;\n",
       "    }\n",
       "</style>\n",
       "<table border=\"1\" class=\"dataframe\">\n",
       "  <thead>\n",
       "    <tr style=\"text-align: right;\">\n",
       "      <th></th>\n",
       "      <th>CHR</th>\n",
       "      <th>SNP</th>\n",
       "      <th>A1</th>\n",
       "      <th>A2</th>\n",
       "      <th>BETA</th>\n",
       "      <th>PIP</th>\n",
       "      <th>VAR_BETA</th>\n",
       "    </tr>\n",
       "  </thead>\n",
       "  <tbody>\n",
       "    <tr>\n",
       "      <th>0</th>\n",
       "      <td>22</td>\n",
       "      <td>rs4911642</td>\n",
       "      <td>G</td>\n",
       "      <td>A</td>\n",
       "      <td>-0.000205</td>\n",
       "      <td>0.050554</td>\n",
       "      <td>0.000011</td>\n",
       "    </tr>\n",
       "    <tr>\n",
       "      <th>1</th>\n",
       "      <td>22</td>\n",
       "      <td>rs2027653</td>\n",
       "      <td>G</td>\n",
       "      <td>A</td>\n",
       "      <td>-0.000277</td>\n",
       "      <td>0.052010</td>\n",
       "      <td>0.000012</td>\n",
       "    </tr>\n",
       "    <tr>\n",
       "      <th>2</th>\n",
       "      <td>22</td>\n",
       "      <td>rs5747620</td>\n",
       "      <td>G</td>\n",
       "      <td>A</td>\n",
       "      <td>0.000092</td>\n",
       "      <td>0.048995</td>\n",
       "      <td>0.000010</td>\n",
       "    </tr>\n",
       "    <tr>\n",
       "      <th>3</th>\n",
       "      <td>22</td>\n",
       "      <td>rs5747968</td>\n",
       "      <td>C</td>\n",
       "      <td>A</td>\n",
       "      <td>-0.000058</td>\n",
       "      <td>0.048725</td>\n",
       "      <td>0.000010</td>\n",
       "    </tr>\n",
       "    <tr>\n",
       "      <th>4</th>\n",
       "      <td>22</td>\n",
       "      <td>rs2236639</td>\n",
       "      <td>A</td>\n",
       "      <td>G</td>\n",
       "      <td>0.000131</td>\n",
       "      <td>0.049394</td>\n",
       "      <td>0.000010</td>\n",
       "    </tr>\n",
       "    <tr>\n",
       "      <th>...</th>\n",
       "      <td>...</td>\n",
       "      <td>...</td>\n",
       "      <td>...</td>\n",
       "      <td>...</td>\n",
       "      <td>...</td>\n",
       "      <td>...</td>\n",
       "      <td>...</td>\n",
       "    </tr>\n",
       "    <tr>\n",
       "      <th>7915</th>\n",
       "      <td>22</td>\n",
       "      <td>rs715586</td>\n",
       "      <td>A</td>\n",
       "      <td>G</td>\n",
       "      <td>-0.000012</td>\n",
       "      <td>0.048570</td>\n",
       "      <td>0.000010</td>\n",
       "    </tr>\n",
       "    <tr>\n",
       "      <th>7916</th>\n",
       "      <td>22</td>\n",
       "      <td>rs8137951</td>\n",
       "      <td>A</td>\n",
       "      <td>G</td>\n",
       "      <td>0.000035</td>\n",
       "      <td>0.048620</td>\n",
       "      <td>0.000010</td>\n",
       "    </tr>\n",
       "    <tr>\n",
       "      <th>7917</th>\n",
       "      <td>22</td>\n",
       "      <td>rs756638</td>\n",
       "      <td>A</td>\n",
       "      <td>G</td>\n",
       "      <td>0.000100</td>\n",
       "      <td>0.049048</td>\n",
       "      <td>0.000010</td>\n",
       "    </tr>\n",
       "    <tr>\n",
       "      <th>7918</th>\n",
       "      <td>22</td>\n",
       "      <td>rs3810648</td>\n",
       "      <td>G</td>\n",
       "      <td>A</td>\n",
       "      <td>0.000134</td>\n",
       "      <td>0.049437</td>\n",
       "      <td>0.000010</td>\n",
       "    </tr>\n",
       "    <tr>\n",
       "      <th>7919</th>\n",
       "      <td>22</td>\n",
       "      <td>rs2285395</td>\n",
       "      <td>A</td>\n",
       "      <td>G</td>\n",
       "      <td>0.000136</td>\n",
       "      <td>0.049449</td>\n",
       "      <td>0.000010</td>\n",
       "    </tr>\n",
       "  </tbody>\n",
       "</table>\n",
       "<p>7920 rows × 7 columns</p>\n",
       "</div>"
      ],
      "text/plain": [
       "      CHR        SNP A1 A2      BETA       PIP  VAR_BETA\n",
       "0      22  rs4911642  G  A -0.000205  0.050554  0.000011\n",
       "1      22  rs2027653  G  A -0.000277  0.052010  0.000012\n",
       "2      22  rs5747620  G  A  0.000092  0.048995  0.000010\n",
       "3      22  rs5747968  C  A -0.000058  0.048725  0.000010\n",
       "4      22  rs2236639  A  G  0.000131  0.049394  0.000010\n",
       "...   ...        ... .. ..       ...       ...       ...\n",
       "7915   22   rs715586  A  G -0.000012  0.048570  0.000010\n",
       "7916   22  rs8137951  A  G  0.000035  0.048620  0.000010\n",
       "7917   22   rs756638  A  G  0.000100  0.049048  0.000010\n",
       "7918   22  rs3810648  G  A  0.000134  0.049437  0.000010\n",
       "7919   22  rs2285395  A  G  0.000136  0.049449  0.000010\n",
       "\n",
       "[7920 rows x 7 columns]"
      ]
     },
     "execution_count": 156,
     "metadata": {},
     "output_type": "execute_result"
    }
   ],
   "source": [
    "# To examine posterior estimates for the model parameters, you can simply invoke the .to_table() method:\n",
    "v.to_table()"
   ]
  },
  {
   "attachments": {},
   "cell_type": "markdown",
   "metadata": {},
   "source": [
    "<code>Validation</code> use another the simulate phenotype still on the d1chr22_sorted.bed as the validation part. "
   ]
  },
  {
   "cell_type": "code",
   "execution_count": null,
   "metadata": {},
   "outputs": [
    {
     "name": "stdout",
     "output_type": "stream",
     "text": [
      "> Reading BED file...\n",
      "> Generating polygenic scores...\n",
      "> Performing GWAS...\n"
     ]
    },
    {
     "name": "stdout",
     "output_type": "stream",
     "text": [
      "> Reading BED file...\n",
      "> Reading phenotype file...\n",
      "> Reading summary statistics file...\n",
      "> Harmonizing data...\n",
      "> Computing LD matrix...\n"
     ]
    }
   ],
   "source": [
    "#simulate \n",
    "g2_sim = mgp.GWASimulator(\"CMdream1/chr22/d1CM22_sorted\",\n",
    "                         pi = [.85, .15],\n",
    "                         h2=0.5)\n",
    "g2_sim.simulate()\n",
    "a = g2_sim.to_phenotype_table()\n",
    "a.to_csv(\"Toy_example_expr/phenotype/g2_sim_pheno.txt\",sep='\\t', index=False, header=False)\n",
    "g2_sim.perform_gwas()\n",
    "g2_sim.to_summary_statistics_table().to_csv(\n",
    "    \"Toy_example_expr/d1CM22_sorted_valid.sumstats\", sep=\"\\t\", index=False\n",
    ")\n",
    "\n",
    "# Load summary statistics（simulate phenotype from above) and match them with perviously\n",
    "gdl2_sim = mgp.GWADataLoader(bed_files=\"CMdream1/chr22/d1CM22_sorted\",\n",
    "                            phenotype_file=\"Toy_example_expr/phenotype/g2_sim_pheno.txt\",\n",
    "                            sumstats_files=\"Toy_example_expr/d1CM22_sorted_valid.sumstats\",\n",
    "                            sumstats_format=\"magenpy\")\n",
    "gdl2_sim.compute_ld(estimator='sample',\n",
    "                   output_dir='Toy_example_expr/out/ld_val/')\n"
   ]
  },
  {
   "cell_type": "code",
   "execution_count": null,
   "metadata": {},
   "outputs": [
    {
     "name": "stdout",
     "output_type": "stream",
     "text": [
      "> Generating polygenic scores...\n"
     ]
    }
   ],
   "source": [
    "val_prs = v.predict(gdl2_sim)"
   ]
  },
  {
   "cell_type": "code",
   "execution_count": null,
   "metadata": {},
   "outputs": [
    {
     "data": {
      "text/plain": [
       "0.0030078829752389377"
      ]
     },
     "execution_count": 159,
     "metadata": {},
     "output_type": "execute_result"
    }
   ],
   "source": [
    "from viprs.eval.metrics import r2 \n",
    "r2(val_prs, gdl2_sim.sample_table.phenotype)"
   ]
  },
  {
   "attachments": {},
   "cell_type": "markdown",
   "metadata": {},
   "source": [
    "Validation use the chr22 genotypes in <code> dream2 </code> file sets.  \n",
    "Do the same steps as before to got <code>\"CMdream2/chr22/d2CM22_sorted\"</code> binary file sets (.bed + .fam + .bim).  \n",
    "Sorted the SNPs from dream2 for chromosome 22 and add CM values to it. "
   ]
  },
  {
   "cell_type": "code",
   "execution_count": null,
   "metadata": {},
   "outputs": [],
   "source": [
    "d2_bim = pd.read_csv(\"data/RA_challenge_qced_genotypes/dream2.bim\", sep=\"\\t\", header=None)\n",
    "d2_filter_bim = d2_bim[d2_bim[0] ==22][1]\n",
    "d2_sorted_chr22 = d2_filter_bim.sort_values()\n",
    "d2_sorted_chr22.to_csv(\"CMdream2/d2_sorted_chr22_bim.txt\", header=False,\n",
    "                       index=False, sep=\"\\t\")"
   ]
  },
  {
   "cell_type": "code",
   "execution_count": null,
   "metadata": {},
   "outputs": [
    {
     "name": "stdout",
     "output_type": "stream",
     "text": [
      "> Reading BED file...\n",
      "> Generating polygenic scores...\n",
      "> Performing GWAS...\n",
      "> Reading BED file...\n",
      "> Reading phenotype file...\n",
      "> Reading summary statistics file...\n",
      "> Harmonizing data...\n",
      "> Computing LD matrix...\n"
     ]
    },
    {
     "name": "stderr",
     "output_type": "stream",
     "text": [
      "Exception ignored in: <finalize object at 0x7fd075eb7030; dead>\n",
      "Traceback (most recent call last):\n",
      "  File \"/usr/lib/python3.7/weakref.py\", line 572, in __call__\n",
      "    return info.func(*info.args, **(info.kwargs or {}))\n",
      "  File \"/usr/lib/python3.7/tempfile.py\", line 934, in _cleanup\n",
      "    _rmtree(name)\n",
      "  File \"/usr/lib/python3.7/shutil.py\", line 485, in rmtree\n",
      "    onerror(os.lstat, path, sys.exc_info())\n",
      "  File \"/usr/lib/python3.7/shutil.py\", line 483, in rmtree\n",
      "    orig_st = os.lstat(path)\n",
      "FileNotFoundError: [Errno 2] No such file or directory: 'temp/ld_aqvxu2v_'\n"
     ]
    }
   ],
   "source": [
    "# Use simulate method to create phenotpyes \n",
    "#simulate \n",
    "g3_sim = mgp.GWASimulator(\"CMdream2/chr22/d2CM22_sorted\",\n",
    "                         pi = [.85, .15],\n",
    "                         h2=0.5)\n",
    "g3_sim.simulate()\n",
    "a = g3_sim.to_phenotype_table()\n",
    "a.to_csv(\"Toy_example_expr/phenotype/val_d2chr22_pheno.txt\",sep='\\t', index=False, header=False)\n",
    "g3_sim.perform_gwas()\n",
    "g3_sim.to_summary_statistics_table().to_csv(\n",
    "    \"Toy_example_expr/val_d2chr22_valid.sumstats\", sep=\"\\t\", index=False\n",
    ")\n",
    "\n",
    "# Load summary statistics（simulate phenotype from above) and match them with perviously\n",
    "gdl3_sim = mgp.GWADataLoader(bed_files=\"CMdream2/chr22/d2CM22_sorted\",\n",
    "                            phenotype_file=\"Toy_example_expr/phenotype/val_d2chr22_pheno.txt\",\n",
    "                            sumstats_files=\"Toy_example_expr/val_d2chr22_valid.sumstats\",\n",
    "                            sumstats_format=\"magenpy\")\n",
    "gdl3_sim.compute_ld(estimator='sample',\n",
    "                   output_dir='Toy_example_expr/d2chr22_out/ld_val/')"
   ]
  },
  {
   "cell_type": "code",
   "execution_count": null,
   "metadata": {},
   "outputs": [
    {
     "name": "stdout",
     "output_type": "stream",
     "text": [
      "> Generating polygenic scores...\n"
     ]
    }
   ],
   "source": [
    "val2_prs = v.predict(gdl3_sim)"
   ]
  },
  {
   "cell_type": "code",
   "execution_count": null,
   "metadata": {},
   "outputs": [
    {
     "data": {
      "text/plain": [
       "0.011801941348497371"
      ]
     },
     "execution_count": 163,
     "metadata": {},
     "output_type": "execute_result"
    }
   ],
   "source": [
    "#To evaluate the accuracy of the polygenic score, \n",
    "# you can use some of the provided metrics with the viprs package. \n",
    "# For quantitative traits, it is customary to report the prediction R^2, \n",
    "# or the proportion of variance explained by the PRS:\n",
    "r2(val2_prs, gdl3_sim.sample_table.phenotype)"
   ]
  },
  {
   "cell_type": "code",
   "execution_count": null,
   "metadata": {},
   "outputs": [
    {
     "name": "stdout",
     "output_type": "stream",
     "text": [
      "> Reading BED file...\n"
     ]
    },
    {
     "name": "stderr",
     "output_type": "stream",
     "text": [
      "Generating polygenic scores: 100%|██████████| 27/27 [00:06<00:00,  4.33it/s]\n"
     ]
    }
   ],
   "source": [
    "#simulate \n",
    "g2_sim = mgp.GWASimulator(\"data/RA_challenge_qced_genotypes/dream3\",\n",
    "                         pi = [.85, .15],\n",
    "                         h2=0.5)\n",
    "g2_sim.simulate()\n",
    "a = g2_sim.to_phenotype_table()"
   ]
  },
  {
   "cell_type": "code",
   "execution_count": null,
   "metadata": {},
   "outputs": [
    {
     "data": {
      "text/html": [
       "<div>\n",
       "<style scoped>\n",
       "    .dataframe tbody tr th:only-of-type {\n",
       "        vertical-align: middle;\n",
       "    }\n",
       "\n",
       "    .dataframe tbody tr th {\n",
       "        vertical-align: top;\n",
       "    }\n",
       "\n",
       "    .dataframe thead th {\n",
       "        text-align: right;\n",
       "    }\n",
       "</style>\n",
       "<table border=\"1\" class=\"dataframe\">\n",
       "  <thead>\n",
       "    <tr style=\"text-align: right;\">\n",
       "      <th></th>\n",
       "      <th>FID</th>\n",
       "      <th>IID</th>\n",
       "      <th>phenotype</th>\n",
       "    </tr>\n",
       "  </thead>\n",
       "  <tbody>\n",
       "    <tr>\n",
       "      <th>0</th>\n",
       "      <td>0</td>\n",
       "      <td>2280000</td>\n",
       "      <td>-1.159332</td>\n",
       "    </tr>\n",
       "    <tr>\n",
       "      <th>1</th>\n",
       "      <td>0</td>\n",
       "      <td>2282000</td>\n",
       "      <td>0.457723</td>\n",
       "    </tr>\n",
       "    <tr>\n",
       "      <th>2</th>\n",
       "      <td>0</td>\n",
       "      <td>2283000</td>\n",
       "      <td>0.709957</td>\n",
       "    </tr>\n",
       "    <tr>\n",
       "      <th>3</th>\n",
       "      <td>0</td>\n",
       "      <td>2284000</td>\n",
       "      <td>-0.482596</td>\n",
       "    </tr>\n",
       "    <tr>\n",
       "      <th>4</th>\n",
       "      <td>0</td>\n",
       "      <td>2285000</td>\n",
       "      <td>0.660879</td>\n",
       "    </tr>\n",
       "    <tr>\n",
       "      <th>...</th>\n",
       "      <td>...</td>\n",
       "      <td>...</td>\n",
       "      <td>...</td>\n",
       "    </tr>\n",
       "    <tr>\n",
       "      <th>412</th>\n",
       "      <td>0</td>\n",
       "      <td>2767000</td>\n",
       "      <td>-1.817492</td>\n",
       "    </tr>\n",
       "    <tr>\n",
       "      <th>413</th>\n",
       "      <td>0</td>\n",
       "      <td>2768000</td>\n",
       "      <td>-0.738611</td>\n",
       "    </tr>\n",
       "    <tr>\n",
       "      <th>414</th>\n",
       "      <td>0</td>\n",
       "      <td>2769000</td>\n",
       "      <td>-0.103463</td>\n",
       "    </tr>\n",
       "    <tr>\n",
       "      <th>415</th>\n",
       "      <td>0</td>\n",
       "      <td>2770000</td>\n",
       "      <td>-1.178744</td>\n",
       "    </tr>\n",
       "    <tr>\n",
       "      <th>416</th>\n",
       "      <td>0</td>\n",
       "      <td>2772000</td>\n",
       "      <td>0.305074</td>\n",
       "    </tr>\n",
       "  </tbody>\n",
       "</table>\n",
       "<p>417 rows × 3 columns</p>\n",
       "</div>"
      ],
      "text/plain": [
       "    FID      IID  phenotype\n",
       "0     0  2280000  -1.159332\n",
       "1     0  2282000   0.457723\n",
       "2     0  2283000   0.709957\n",
       "3     0  2284000  -0.482596\n",
       "4     0  2285000   0.660879\n",
       "..   ..      ...        ...\n",
       "412   0  2767000  -1.817492\n",
       "413   0  2768000  -0.738611\n",
       "414   0  2769000  -0.103463\n",
       "415   0  2770000  -1.178744\n",
       "416   0  2772000   0.305074\n",
       "\n",
       "[417 rows x 3 columns]"
      ]
     },
     "execution_count": 10,
     "metadata": {},
     "output_type": "execute_result"
    }
   ],
   "source": [
    "a"
   ]
  },
  {
   "attachments": {},
   "cell_type": "markdown",
   "metadata": {},
   "source": [
    "<h3>June 24th repeat above experiment with the ALL_CM_chr22 data</h3>\n",
    "We checked dream1,2,3 binary files they contain <code>880</code> patients in total. To get the <code>2706 patients</code> we need to <code>merge all</code> RA_challenge_qced_genotypes data together. \n",
    "\n",
    "We used the command below to created merge files:  \n",
    "<code>cd data/RA_challenge_qced_genotypes && bash ../utils/mergeSNPS.sh</code>  \n",
    "The last file <code> merge10 </code> is the complete file that contains all 11 experiments data, which sums up to 2706 patients.  \n",
    "\n",
    "Therefore, now we use the <code> merge10.bed + .bim + .fam </code> files to repeat our experiments with magenpy and viprs use the simulator. \n",
    "\n"
   ]
  },
  {
   "cell_type": "code",
   "execution_count": 1,
   "metadata": {},
   "outputs": [],
   "source": [
    "import numpy as np\n",
    "import pandas as pd\n",
    "import magenpy as mgp\n",
    "import viprs as vp"
   ]
  },
  {
   "cell_type": "code",
   "execution_count": 3,
   "metadata": {},
   "outputs": [
    {
     "name": "stdout",
     "output_type": "stream",
     "text": [
      "> Reading BED file...\n",
      "> Generating polygenic scores...\n"
     ]
    },
    {
     "data": {
      "text/html": [
       "<div>\n",
       "<style scoped>\n",
       "    .dataframe tbody tr th:only-of-type {\n",
       "        vertical-align: middle;\n",
       "    }\n",
       "\n",
       "    .dataframe tbody tr th {\n",
       "        vertical-align: top;\n",
       "    }\n",
       "\n",
       "    .dataframe thead th {\n",
       "        text-align: right;\n",
       "    }\n",
       "</style>\n",
       "<table border=\"1\" class=\"dataframe\">\n",
       "  <thead>\n",
       "    <tr style=\"text-align: right;\">\n",
       "      <th></th>\n",
       "      <th>FID</th>\n",
       "      <th>IID</th>\n",
       "      <th>phenotype</th>\n",
       "    </tr>\n",
       "  </thead>\n",
       "  <tbody>\n",
       "    <tr>\n",
       "      <th>0</th>\n",
       "      <td>0</td>\n",
       "      <td>1000</td>\n",
       "      <td>0.117538</td>\n",
       "    </tr>\n",
       "    <tr>\n",
       "      <th>1</th>\n",
       "      <td>0</td>\n",
       "      <td>2000</td>\n",
       "      <td>-0.186721</td>\n",
       "    </tr>\n",
       "    <tr>\n",
       "      <th>2</th>\n",
       "      <td>0</td>\n",
       "      <td>3000</td>\n",
       "      <td>-0.929450</td>\n",
       "    </tr>\n",
       "    <tr>\n",
       "      <th>3</th>\n",
       "      <td>0</td>\n",
       "      <td>4000</td>\n",
       "      <td>0.151187</td>\n",
       "    </tr>\n",
       "    <tr>\n",
       "      <th>4</th>\n",
       "      <td>0</td>\n",
       "      <td>5000</td>\n",
       "      <td>-0.076602</td>\n",
       "    </tr>\n",
       "    <tr>\n",
       "      <th>...</th>\n",
       "      <td>...</td>\n",
       "      <td>...</td>\n",
       "      <td>...</td>\n",
       "    </tr>\n",
       "    <tr>\n",
       "      <th>2701</th>\n",
       "      <td>0</td>\n",
       "      <td>3061000</td>\n",
       "      <td>-0.432134</td>\n",
       "    </tr>\n",
       "    <tr>\n",
       "      <th>2702</th>\n",
       "      <td>0</td>\n",
       "      <td>3062000</td>\n",
       "      <td>0.094320</td>\n",
       "    </tr>\n",
       "    <tr>\n",
       "      <th>2703</th>\n",
       "      <td>0</td>\n",
       "      <td>3064000</td>\n",
       "      <td>-0.632079</td>\n",
       "    </tr>\n",
       "    <tr>\n",
       "      <th>2704</th>\n",
       "      <td>0</td>\n",
       "      <td>3065000</td>\n",
       "      <td>-0.628738</td>\n",
       "    </tr>\n",
       "    <tr>\n",
       "      <th>2705</th>\n",
       "      <td>0</td>\n",
       "      <td>3066000</td>\n",
       "      <td>1.128490</td>\n",
       "    </tr>\n",
       "  </tbody>\n",
       "</table>\n",
       "<p>2706 rows × 3 columns</p>\n",
       "</div>"
      ],
      "text/plain": [
       "     FID      IID  phenotype\n",
       "0      0     1000   0.117538\n",
       "1      0     2000  -0.186721\n",
       "2      0     3000  -0.929450\n",
       "3      0     4000   0.151187\n",
       "4      0     5000  -0.076602\n",
       "...   ..      ...        ...\n",
       "2701   0  3061000  -0.432134\n",
       "2702   0  3062000   0.094320\n",
       "2703   0  3064000  -0.632079\n",
       "2704   0  3065000  -0.628738\n",
       "2705   0  3066000   1.128490\n",
       "\n",
       "[2706 rows x 3 columns]"
      ]
     },
     "execution_count": 3,
     "metadata": {},
     "output_type": "execute_result"
    }
   ],
   "source": [
    "#simulate \n",
    "g_sim = mgp.GWASimulator(\"CMAll_qced/chr22/ALL_CM_chr22\",\n",
    "                         pi = [.99, .01],\n",
    "                         h2=0.5)\n",
    "g_sim.simulate()\n",
    "g_sim.to_phenotype_table()"
   ]
  },
  {
   "cell_type": "code",
   "execution_count": 4,
   "metadata": {},
   "outputs": [
    {
     "name": "stdout",
     "output_type": "stream",
     "text": [
      "> Performing GWAS...\n"
     ]
    },
    {
     "name": "stderr",
     "output_type": "stream",
     "text": [
      "/home/mcb/users/yzhu439/RA_Project/.venv/lib/python3.7/site-packages/dask/core.py:119: RuntimeWarning: invalid value encountered in true_divide\n",
      "  return func(*(_execute_task(a, cache) for a in args))\n"
     ]
    }
   ],
   "source": [
    "g_sim.perform_gwas()\n",
    "g_sim.to_summary_statistics_table().to_csv(\n",
    "    \"Toy_example_expr/ALL_CM22.sumstats\", sep=\"\\t\", index=False\n",
    ")"
   ]
  },
  {
   "cell_type": "code",
   "execution_count": 5,
   "metadata": {},
   "outputs": [
    {
     "name": "stdout",
     "output_type": "stream",
     "text": [
      "> Reading BED file...\n",
      "> Reading summary statistics file...\n",
      "> Harmonizing data...\n"
     ]
    }
   ],
   "source": [
    "# Load summary statistics（simulate phenotype from above) and match them with perviously\n",
    "gdl_sim = mgp.GWADataLoader(bed_files=\"CMAll_qced/chr22/ALL_CM_chr22\",\n",
    "                            sumstats_files=\"Toy_example_expr/ALL_CM22.sumstats\",\n",
    "                            sumstats_format=\"magenpy\")"
   ]
  },
  {
   "cell_type": "code",
   "execution_count": 6,
   "metadata": {},
   "outputs": [
    {
     "name": "stdout",
     "output_type": "stream",
     "text": [
      "> Computing LD matrix...\n"
     ]
    },
    {
     "name": "stderr",
     "output_type": "stream",
     "text": [
      "/home/mcb/users/yzhu439/RA_Project/.venv/lib/python3.7/site-packages/dask/array/routines.py:318: PerformanceWarning: Increasing number of chunks by factor of 18\n",
      "  axes=(left_axes, right_axes),\n",
      "/home/mcb/users/yzhu439/RA_Project/.venv/lib/python3.7/site-packages/dask/core.py:119: RuntimeWarning: invalid value encountered in true_divide\n",
      "  return func(*(_execute_task(a, cache) for a in args))\n"
     ]
    }
   ],
   "source": [
    "gdl_sim.compute_ld(estimator='sample',\n",
    "                   output_dir='Toy_example_expr/ALLchr22_out/')\n",
    "# gdl_sim.compute_ld(estimator='windowed',\n",
    "#                    output_dir='Toy_example_expr/out/ld/',\n",
    "#                    window_size=100)"
   ]
  },
  {
   "attachments": {},
   "cell_type": "markdown",
   "metadata": {},
   "source": [
    "Use Viprs, initialize the viprs model based on the <code> gdl_sim model</code> containing the GWAS data and the LD matrix (using xarray method) for the chr22 for all qced dataset (with 2706 individuals)."
   ]
  },
  {
   "cell_type": "code",
   "execution_count": 7,
   "metadata": {},
   "outputs": [],
   "source": [
    "v = vp.VIPRS(gdl_sim)"
   ]
  },
  {
   "cell_type": "code",
   "execution_count": 9,
   "metadata": {},
   "outputs": [
    {
     "name": "stdout",
     "output_type": "stream",
     "text": [
      "> Initializing model parameters\n",
      "> Loading LD matrices into memory...\n",
      "> Performing model fit...\n",
      "> Using up to 1 threads.\n"
     ]
    },
    {
     "name": "stderr",
     "output_type": "stream",
     "text": [
      " 37%|███▋      | 367/1000 [03:35<06:11,  1.70it/s]\n"
     ]
    },
    {
     "ename": "OptimizationDivergence",
     "evalue": "Stopping at iteration 368: The optimization algorithm is not converging!\nPrevious ELBO: -2997.439389 | Current ELBO: 713017877637161.125000",
     "output_type": "error",
     "traceback": [
      "\u001b[0;31m---------------------------------------------------------------------------\u001b[0m",
      "\u001b[0;31mOptimizationDivergence\u001b[0m                    Traceback (most recent call last)",
      "\u001b[0;32m/tmp/ipykernel_2383/2937400109.py\u001b[0m in \u001b[0;36m<module>\u001b[0;34m\u001b[0m\n\u001b[0;32m----> 1\u001b[0;31m \u001b[0mv\u001b[0m\u001b[0;34m.\u001b[0m\u001b[0mfit\u001b[0m\u001b[0;34m(\u001b[0m\u001b[0;34m)\u001b[0m\u001b[0;34m\u001b[0m\u001b[0;34m\u001b[0m\u001b[0m\n\u001b[0m",
      "\u001b[0;32mviprs/model/VIPRS.pyx\u001b[0m in \u001b[0;36mviprs.model.VIPRS.VIPRS.fit\u001b[0;34m()\u001b[0m\n",
      "\u001b[0;32mviprs/model/VIPRS.pyx\u001b[0m in \u001b[0;36mviprs.model.VIPRS.VIPRS.fit\u001b[0;34m()\u001b[0m\n",
      "\u001b[0;31mOptimizationDivergence\u001b[0m: Stopping at iteration 368: The optimization algorithm is not converging!\nPrevious ELBO: -2997.439389 | Current ELBO: 713017877637161.125000"
     ]
    }
   ],
   "source": [
    "v.fit()"
   ]
  }
 ],
 "metadata": {
  "kernelspec": {
   "display_name": ".venv",
   "language": "python",
   "name": "python3"
  },
  "language_info": {
   "codemirror_mode": {
    "name": "ipython",
    "version": 3
   },
   "file_extension": ".py",
   "mimetype": "text/x-python",
   "name": "python",
   "nbconvert_exporter": "python",
   "pygments_lexer": "ipython3",
   "version": "3.7.5"
  },
  "orig_nbformat": 4
 },
 "nbformat": 4,
 "nbformat_minor": 2
}
