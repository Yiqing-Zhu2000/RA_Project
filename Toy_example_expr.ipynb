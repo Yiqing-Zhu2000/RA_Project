{
 "cells": [
  {
   "attachments": {},
   "cell_type": "markdown",
   "metadata": {},
   "source": [
    "<h3>Toy example experiment 6.18</h3>\n",
    "\n",
    "Use the magenpy GWASimulator based on RA's genotypes data (d1CM22_sorted.bed) to simulate phenotypes.  \n",
    "the heritibility = 0.5, (Gaussian Mixture Proportion)pi = [.85, .15]"
   ]
  },
  {
   "cell_type": "code",
   "execution_count": 98,
   "metadata": {},
   "outputs": [],
   "source": [
    "import numpy as np\n",
    "import pandas as pd\n",
    "import magenpy as mgp\n",
    "import viprs as vp"
   ]
  },
  {
   "cell_type": "code",
   "execution_count": 99,
   "metadata": {},
   "outputs": [
    {
     "name": "stdout",
     "output_type": "stream",
     "text": [
      "> Reading BED file...\n",
      "> Generating polygenic scores...\n"
     ]
    },
    {
     "data": {
      "text/html": [
       "<div>\n",
       "<style scoped>\n",
       "    .dataframe tbody tr th:only-of-type {\n",
       "        vertical-align: middle;\n",
       "    }\n",
       "\n",
       "    .dataframe tbody tr th {\n",
       "        vertical-align: top;\n",
       "    }\n",
       "\n",
       "    .dataframe thead th {\n",
       "        text-align: right;\n",
       "    }\n",
       "</style>\n",
       "<table border=\"1\" class=\"dataframe\">\n",
       "  <thead>\n",
       "    <tr style=\"text-align: right;\">\n",
       "      <th></th>\n",
       "      <th>FID</th>\n",
       "      <th>IID</th>\n",
       "      <th>phenotype</th>\n",
       "    </tr>\n",
       "  </thead>\n",
       "  <tbody>\n",
       "    <tr>\n",
       "      <th>0</th>\n",
       "      <td>0</td>\n",
       "      <td>1721000</td>\n",
       "      <td>-1.431635</td>\n",
       "    </tr>\n",
       "    <tr>\n",
       "      <th>1</th>\n",
       "      <td>0</td>\n",
       "      <td>1722000</td>\n",
       "      <td>-1.189151</td>\n",
       "    </tr>\n",
       "    <tr>\n",
       "      <th>2</th>\n",
       "      <td>0</td>\n",
       "      <td>1723000</td>\n",
       "      <td>-0.241430</td>\n",
       "    </tr>\n",
       "    <tr>\n",
       "      <th>3</th>\n",
       "      <td>0</td>\n",
       "      <td>1725000</td>\n",
       "      <td>0.190855</td>\n",
       "    </tr>\n",
       "    <tr>\n",
       "      <th>4</th>\n",
       "      <td>0</td>\n",
       "      <td>1726000</td>\n",
       "      <td>0.096196</td>\n",
       "    </tr>\n",
       "    <tr>\n",
       "      <th>...</th>\n",
       "      <td>...</td>\n",
       "      <td>...</td>\n",
       "      <td>...</td>\n",
       "    </tr>\n",
       "    <tr>\n",
       "      <th>172</th>\n",
       "      <td>0</td>\n",
       "      <td>1921000</td>\n",
       "      <td>-0.254492</td>\n",
       "    </tr>\n",
       "    <tr>\n",
       "      <th>173</th>\n",
       "      <td>0</td>\n",
       "      <td>1922000</td>\n",
       "      <td>-1.141154</td>\n",
       "    </tr>\n",
       "    <tr>\n",
       "      <th>174</th>\n",
       "      <td>0</td>\n",
       "      <td>1923000</td>\n",
       "      <td>1.829900</td>\n",
       "    </tr>\n",
       "    <tr>\n",
       "      <th>175</th>\n",
       "      <td>0</td>\n",
       "      <td>1924000</td>\n",
       "      <td>-1.349220</td>\n",
       "    </tr>\n",
       "    <tr>\n",
       "      <th>176</th>\n",
       "      <td>0</td>\n",
       "      <td>1925000</td>\n",
       "      <td>0.170857</td>\n",
       "    </tr>\n",
       "  </tbody>\n",
       "</table>\n",
       "<p>177 rows × 3 columns</p>\n",
       "</div>"
      ],
      "text/plain": [
       "    FID      IID  phenotype\n",
       "0     0  1721000  -1.431635\n",
       "1     0  1722000  -1.189151\n",
       "2     0  1723000  -0.241430\n",
       "3     0  1725000   0.190855\n",
       "4     0  1726000   0.096196\n",
       "..   ..      ...        ...\n",
       "172   0  1921000  -0.254492\n",
       "173   0  1922000  -1.141154\n",
       "174   0  1923000   1.829900\n",
       "175   0  1924000  -1.349220\n",
       "176   0  1925000   0.170857\n",
       "\n",
       "[177 rows x 3 columns]"
      ]
     },
     "execution_count": 99,
     "metadata": {},
     "output_type": "execute_result"
    }
   ],
   "source": [
    "#simulate \n",
    "g_sim = mgp.GWASimulator(\"CMdream1/chr22/d1CM22_sorted\",\n",
    "                         pi = [.85, .15],\n",
    "                         h2=0.5)\n",
    "g_sim.simulate()\n",
    "g_sim.to_phenotype_table()"
   ]
  },
  {
   "cell_type": "code",
   "execution_count": 100,
   "metadata": {},
   "outputs": [
    {
     "data": {
      "text/html": [
       "<div>\n",
       "<style scoped>\n",
       "    .dataframe tbody tr th:only-of-type {\n",
       "        vertical-align: middle;\n",
       "    }\n",
       "\n",
       "    .dataframe tbody tr th {\n",
       "        vertical-align: top;\n",
       "    }\n",
       "\n",
       "    .dataframe thead th {\n",
       "        text-align: right;\n",
       "    }\n",
       "</style>\n",
       "<table border=\"1\" class=\"dataframe\">\n",
       "  <thead>\n",
       "    <tr style=\"text-align: right;\">\n",
       "      <th></th>\n",
       "      <th>0</th>\n",
       "      <th>1</th>\n",
       "      <th>2</th>\n",
       "      <th>3</th>\n",
       "      <th>4</th>\n",
       "      <th>5</th>\n",
       "    </tr>\n",
       "  </thead>\n",
       "  <tbody>\n",
       "    <tr>\n",
       "      <th>0</th>\n",
       "      <td>22</td>\n",
       "      <td>rs4911642</td>\n",
       "      <td>-11.277499</td>\n",
       "      <td>14884399</td>\n",
       "      <td>G</td>\n",
       "      <td>A</td>\n",
       "    </tr>\n",
       "    <tr>\n",
       "      <th>1</th>\n",
       "      <td>22</td>\n",
       "      <td>rs2027653</td>\n",
       "      <td>-7.277181</td>\n",
       "      <td>15298335</td>\n",
       "      <td>G</td>\n",
       "      <td>A</td>\n",
       "    </tr>\n",
       "    <tr>\n",
       "      <th>2</th>\n",
       "      <td>22</td>\n",
       "      <td>rs5747620</td>\n",
       "      <td>-6.171966</td>\n",
       "      <td>15412698</td>\n",
       "      <td>G</td>\n",
       "      <td>A</td>\n",
       "    </tr>\n",
       "    <tr>\n",
       "      <th>3</th>\n",
       "      <td>22</td>\n",
       "      <td>rs5747968</td>\n",
       "      <td>-5.835598</td>\n",
       "      <td>15447504</td>\n",
       "      <td>C</td>\n",
       "      <td>A</td>\n",
       "    </tr>\n",
       "    <tr>\n",
       "      <th>4</th>\n",
       "      <td>22</td>\n",
       "      <td>rs2236639</td>\n",
       "      <td>-5.787480</td>\n",
       "      <td>15452483</td>\n",
       "      <td>A</td>\n",
       "      <td>G</td>\n",
       "    </tr>\n",
       "    <tr>\n",
       "      <th>...</th>\n",
       "      <td>...</td>\n",
       "      <td>...</td>\n",
       "      <td>...</td>\n",
       "      <td>...</td>\n",
       "      <td>...</td>\n",
       "      <td>...</td>\n",
       "    </tr>\n",
       "    <tr>\n",
       "      <th>7915</th>\n",
       "      <td>22</td>\n",
       "      <td>rs715586</td>\n",
       "      <td>70.074142</td>\n",
       "      <td>49510004</td>\n",
       "      <td>A</td>\n",
       "      <td>G</td>\n",
       "    </tr>\n",
       "    <tr>\n",
       "      <th>7916</th>\n",
       "      <td>22</td>\n",
       "      <td>rs8137951</td>\n",
       "      <td>70.076278</td>\n",
       "      <td>49512530</td>\n",
       "      <td>A</td>\n",
       "      <td>G</td>\n",
       "    </tr>\n",
       "    <tr>\n",
       "      <th>7917</th>\n",
       "      <td>22</td>\n",
       "      <td>rs756638</td>\n",
       "      <td>70.084762</td>\n",
       "      <td>49518559</td>\n",
       "      <td>A</td>\n",
       "      <td>G</td>\n",
       "    </tr>\n",
       "    <tr>\n",
       "      <th>7918</th>\n",
       "      <td>22</td>\n",
       "      <td>rs3810648</td>\n",
       "      <td>70.168330</td>\n",
       "      <td>49522492</td>\n",
       "      <td>G</td>\n",
       "      <td>A</td>\n",
       "    </tr>\n",
       "    <tr>\n",
       "      <th>7919</th>\n",
       "      <td>22</td>\n",
       "      <td>rs2285395</td>\n",
       "      <td>70.221644</td>\n",
       "      <td>49524956</td>\n",
       "      <td>A</td>\n",
       "      <td>G</td>\n",
       "    </tr>\n",
       "  </tbody>\n",
       "</table>\n",
       "<p>7920 rows × 6 columns</p>\n",
       "</div>"
      ],
      "text/plain": [
       "       0          1          2         3  4  5\n",
       "0     22  rs4911642 -11.277499  14884399  G  A\n",
       "1     22  rs2027653  -7.277181  15298335  G  A\n",
       "2     22  rs5747620  -6.171966  15412698  G  A\n",
       "3     22  rs5747968  -5.835598  15447504  C  A\n",
       "4     22  rs2236639  -5.787480  15452483  A  G\n",
       "...   ..        ...        ...       ... .. ..\n",
       "7915  22   rs715586  70.074142  49510004  A  G\n",
       "7916  22  rs8137951  70.076278  49512530  A  G\n",
       "7917  22   rs756638  70.084762  49518559  A  G\n",
       "7918  22  rs3810648  70.168330  49522492  G  A\n",
       "7919  22  rs2285395  70.221644  49524956  A  G\n",
       "\n",
       "[7920 rows x 6 columns]"
      ]
     },
     "execution_count": 100,
     "metadata": {},
     "output_type": "execute_result"
    }
   ],
   "source": [
    "pd.read_csv(\"CMdream1/chr22/d1CM22_sorted.bim\", sep=\"\\t\", header=None)\n"
   ]
  },
  {
   "cell_type": "code",
   "execution_count": 101,
   "metadata": {},
   "outputs": [
    {
     "name": "stdout",
     "output_type": "stream",
     "text": [
      "> Performing GWAS...\n"
     ]
    }
   ],
   "source": [
    "g_sim.perform_gwas()\n",
    "g_sim.to_summary_statistics_table().to_csv(\n",
    "    \"Toy_example_expr/d1CM22_sorted.sumstats\", sep=\"\\t\", index=False\n",
    ")"
   ]
  },
  {
   "cell_type": "code",
   "execution_count": 102,
   "metadata": {},
   "outputs": [
    {
     "name": "stdout",
     "output_type": "stream",
     "text": [
      "> Reading BED file...\n",
      "> Reading summary statistics file...\n",
      "> Harmonizing data...\n"
     ]
    }
   ],
   "source": [
    "# Load summary statistics（simulate phenotype from above) and match them with perviously\n",
    "gdl_sim = mgp.GWADataLoader(bed_files=\"CMdream1/chr22/d1CM22_sorted\",\n",
    "                            sumstats_files=\"Toy_example_expr/d1CM22_sorted.sumstats\",\n",
    "                            sumstats_format=\"magenpy\")"
   ]
  },
  {
   "cell_type": "code",
   "execution_count": 103,
   "metadata": {},
   "outputs": [
    {
     "data": {
      "text/html": [
       "<div>\n",
       "<style scoped>\n",
       "    .dataframe tbody tr th:only-of-type {\n",
       "        vertical-align: middle;\n",
       "    }\n",
       "\n",
       "    .dataframe tbody tr th {\n",
       "        vertical-align: top;\n",
       "    }\n",
       "\n",
       "    .dataframe thead th {\n",
       "        text-align: right;\n",
       "    }\n",
       "</style>\n",
       "<table border=\"1\" class=\"dataframe\">\n",
       "  <thead>\n",
       "    <tr style=\"text-align: right;\">\n",
       "      <th></th>\n",
       "      <th>0</th>\n",
       "      <th>1</th>\n",
       "      <th>2</th>\n",
       "      <th>3</th>\n",
       "      <th>4</th>\n",
       "      <th>5</th>\n",
       "      <th>6</th>\n",
       "      <th>7</th>\n",
       "      <th>8</th>\n",
       "      <th>9</th>\n",
       "      <th>10</th>\n",
       "    </tr>\n",
       "  </thead>\n",
       "  <tbody>\n",
       "    <tr>\n",
       "      <th>0</th>\n",
       "      <td>CHR</td>\n",
       "      <td>SNP</td>\n",
       "      <td>POS</td>\n",
       "      <td>A1</td>\n",
       "      <td>A2</td>\n",
       "      <td>MAF</td>\n",
       "      <td>N</td>\n",
       "      <td>BETA</td>\n",
       "      <td>Z</td>\n",
       "      <td>SE</td>\n",
       "      <td>PVAL</td>\n",
       "    </tr>\n",
       "    <tr>\n",
       "      <th>1</th>\n",
       "      <td>22</td>\n",
       "      <td>rs4911642</td>\n",
       "      <td>14884399</td>\n",
       "      <td>G</td>\n",
       "      <td>A</td>\n",
       "      <td>0.12721893491124261</td>\n",
       "      <td>169</td>\n",
       "      <td>-0.08856489538651625</td>\n",
       "      <td>-1.1513436400247115</td>\n",
       "      <td>0.07692307692307691</td>\n",
       "      <td>0.24959089035359117</td>\n",
       "    </tr>\n",
       "    <tr>\n",
       "      <th>2</th>\n",
       "      <td>22</td>\n",
       "      <td>rs2027653</td>\n",
       "      <td>15298335</td>\n",
       "      <td>G</td>\n",
       "      <td>A</td>\n",
       "      <td>0.3742690058479532</td>\n",
       "      <td>171</td>\n",
       "      <td>0.04977639999618155</td>\n",
       "      <td>0.6509108920698413</td>\n",
       "      <td>0.07647191129018725</td>\n",
       "      <td>0.5151040099220117</td>\n",
       "    </tr>\n",
       "    <tr>\n",
       "      <th>3</th>\n",
       "      <td>22</td>\n",
       "      <td>rs5747620</td>\n",
       "      <td>15412698</td>\n",
       "      <td>G</td>\n",
       "      <td>A</td>\n",
       "      <td>0.3953488372093023</td>\n",
       "      <td>172</td>\n",
       "      <td>0.06601507655785453</td>\n",
       "      <td>0.8657796124104424</td>\n",
       "      <td>0.07624928516630233</td>\n",
       "      <td>0.3866110315765857</td>\n",
       "    </tr>\n",
       "    <tr>\n",
       "      <th>4</th>\n",
       "      <td>22</td>\n",
       "      <td>rs5747968</td>\n",
       "      <td>15447504</td>\n",
       "      <td>C</td>\n",
       "      <td>A</td>\n",
       "      <td>0.3700564971751412</td>\n",
       "      <td>177</td>\n",
       "      <td>0.03343685249011102</td>\n",
       "      <td>0.4448483893270195</td>\n",
       "      <td>0.07516460280028288</td>\n",
       "      <td>0.6564293221677902</td>\n",
       "    </tr>\n",
       "    <tr>\n",
       "      <th>...</th>\n",
       "      <td>...</td>\n",
       "      <td>...</td>\n",
       "      <td>...</td>\n",
       "      <td>...</td>\n",
       "      <td>...</td>\n",
       "      <td>...</td>\n",
       "      <td>...</td>\n",
       "      <td>...</td>\n",
       "      <td>...</td>\n",
       "      <td>...</td>\n",
       "      <td>...</td>\n",
       "    </tr>\n",
       "    <tr>\n",
       "      <th>7916</th>\n",
       "      <td>22</td>\n",
       "      <td>rs715586</td>\n",
       "      <td>49510004</td>\n",
       "      <td>A</td>\n",
       "      <td>G</td>\n",
       "      <td>0.14204545454545456</td>\n",
       "      <td>176</td>\n",
       "      <td>0.05810125755767564</td>\n",
       "      <td>0.7708002846664442</td>\n",
       "      <td>0.07537783614444091</td>\n",
       "      <td>0.4408253185027029</td>\n",
       "    </tr>\n",
       "    <tr>\n",
       "      <th>7917</th>\n",
       "      <td>22</td>\n",
       "      <td>rs8137951</td>\n",
       "      <td>49512530</td>\n",
       "      <td>A</td>\n",
       "      <td>G</td>\n",
       "      <td>0.2768361581920904</td>\n",
       "      <td>177</td>\n",
       "      <td>-0.006485122129547922</td>\n",
       "      <td>-0.08627893832924659</td>\n",
       "      <td>0.07516460280028288</td>\n",
       "      <td>0.9312446808125586</td>\n",
       "    </tr>\n",
       "    <tr>\n",
       "      <th>7918</th>\n",
       "      <td>22</td>\n",
       "      <td>rs756638</td>\n",
       "      <td>49518559</td>\n",
       "      <td>A</td>\n",
       "      <td>G</td>\n",
       "      <td>0.2471590909090909</td>\n",
       "      <td>176</td>\n",
       "      <td>-0.08099534300311903</td>\n",
       "      <td>-1.0745246500299335</td>\n",
       "      <td>0.07537783614444091</td>\n",
       "      <td>0.28258760286066265</td>\n",
       "    </tr>\n",
       "    <tr>\n",
       "      <th>7919</th>\n",
       "      <td>22</td>\n",
       "      <td>rs3810648</td>\n",
       "      <td>49522492</td>\n",
       "      <td>G</td>\n",
       "      <td>A</td>\n",
       "      <td>0.048295454545454544</td>\n",
       "      <td>176</td>\n",
       "      <td>-0.10198563588087782</td>\n",
       "      <td>-1.3529923528907142</td>\n",
       "      <td>0.07537783614444091</td>\n",
       "      <td>0.1760580734042253</td>\n",
       "    </tr>\n",
       "    <tr>\n",
       "      <th>7920</th>\n",
       "      <td>22</td>\n",
       "      <td>rs2285395</td>\n",
       "      <td>49524956</td>\n",
       "      <td>A</td>\n",
       "      <td>G</td>\n",
       "      <td>0.03954802259887006</td>\n",
       "      <td>177</td>\n",
       "      <td>-0.07376974554850187</td>\n",
       "      <td>-0.9814426312411011</td>\n",
       "      <td>0.07516460280028288</td>\n",
       "      <td>0.32637451188466426</td>\n",
       "    </tr>\n",
       "  </tbody>\n",
       "</table>\n",
       "<p>7921 rows × 11 columns</p>\n",
       "</div>"
      ],
      "text/plain": [
       "       0          1         2   3   4                     5    6   \\\n",
       "0     CHR        SNP       POS  A1  A2                   MAF    N   \n",
       "1      22  rs4911642  14884399   G   A   0.12721893491124261  169   \n",
       "2      22  rs2027653  15298335   G   A    0.3742690058479532  171   \n",
       "3      22  rs5747620  15412698   G   A    0.3953488372093023  172   \n",
       "4      22  rs5747968  15447504   C   A    0.3700564971751412  177   \n",
       "...   ...        ...       ...  ..  ..                   ...  ...   \n",
       "7916   22   rs715586  49510004   A   G   0.14204545454545456  176   \n",
       "7917   22  rs8137951  49512530   A   G    0.2768361581920904  177   \n",
       "7918   22   rs756638  49518559   A   G    0.2471590909090909  176   \n",
       "7919   22  rs3810648  49522492   G   A  0.048295454545454544  176   \n",
       "7920   22  rs2285395  49524956   A   G   0.03954802259887006  177   \n",
       "\n",
       "                         7                     8                    9   \\\n",
       "0                      BETA                     Z                   SE   \n",
       "1      -0.08856489538651625   -1.1513436400247115  0.07692307692307691   \n",
       "2       0.04977639999618155    0.6509108920698413  0.07647191129018725   \n",
       "3       0.06601507655785453    0.8657796124104424  0.07624928516630233   \n",
       "4       0.03343685249011102    0.4448483893270195  0.07516460280028288   \n",
       "...                     ...                   ...                  ...   \n",
       "7916    0.05810125755767564    0.7708002846664442  0.07537783614444091   \n",
       "7917  -0.006485122129547922  -0.08627893832924659  0.07516460280028288   \n",
       "7918   -0.08099534300311903   -1.0745246500299335  0.07537783614444091   \n",
       "7919   -0.10198563588087782   -1.3529923528907142  0.07537783614444091   \n",
       "7920   -0.07376974554850187   -0.9814426312411011  0.07516460280028288   \n",
       "\n",
       "                       10  \n",
       "0                    PVAL  \n",
       "1     0.24959089035359117  \n",
       "2      0.5151040099220117  \n",
       "3      0.3866110315765857  \n",
       "4      0.6564293221677902  \n",
       "...                   ...  \n",
       "7916   0.4408253185027029  \n",
       "7917   0.9312446808125586  \n",
       "7918  0.28258760286066265  \n",
       "7919   0.1760580734042253  \n",
       "7920  0.32637451188466426  \n",
       "\n",
       "[7921 rows x 11 columns]"
      ]
     },
     "execution_count": 103,
     "metadata": {},
     "output_type": "execute_result"
    }
   ],
   "source": [
    "pd.read_csv(\"Toy_example_expr/d1CM22_sorted.sumstats\", sep=\"\\t\", header=None)"
   ]
  },
  {
   "cell_type": "code",
   "execution_count": 104,
   "metadata": {},
   "outputs": [
    {
     "name": "stdout",
     "output_type": "stream",
     "text": [
      "> Computing LD matrix...\n"
     ]
    }
   ],
   "source": [
    "gdl_sim.compute_ld(estimator='sample',\n",
    "                   output_dir='Toy_example_expr/out/ld/')"
   ]
  },
  {
   "attachments": {},
   "cell_type": "markdown",
   "metadata": {},
   "source": [
    "Use Viprs, initialize the viprs model based on the <code> gdl_sim model</code> containing the GWAS data and the LD matrix (using xarray method) for the chr22."
   ]
  },
  {
   "cell_type": "code",
   "execution_count": 105,
   "metadata": {},
   "outputs": [],
   "source": [
    "v = vp.VIPRS(gdl_sim)"
   ]
  },
  {
   "cell_type": "code",
   "execution_count": 106,
   "metadata": {},
   "outputs": [
    {
     "name": "stdout",
     "output_type": "stream",
     "text": [
      "> Initializing model parameters\n",
      "> Loading LD matrices into memory...\n",
      "> Performing model fit...\n",
      "> Using up to 1 threads.\n"
     ]
    },
    {
     "name": "stderr",
     "output_type": "stream",
     "text": [
      "  9%|▉         | 91/1000 [00:12<02:01,  7.50it/s]"
     ]
    },
    {
     "name": "stdout",
     "output_type": "stream",
     "text": [
      "Converged at iteration 92 || ELBO: -251.181433\n",
      "> Final ELBO: -251.181433\n",
      "> Estimated heritability: 0.050218\n",
      "> Estimated proportion of causal variants: 0.015096\n"
     ]
    },
    {
     "name": "stderr",
     "output_type": "stream",
     "text": [
      "\n"
     ]
    },
    {
     "data": {
      "text/plain": [
       "<viprs.model.VIPRS.VIPRS at 0x7fd090232450>"
      ]
     },
     "execution_count": 106,
     "metadata": {},
     "output_type": "execute_result"
    }
   ],
   "source": [
    "v.fit()"
   ]
  },
  {
   "cell_type": "code",
   "execution_count": 107,
   "metadata": {},
   "outputs": [
    {
     "name": "stdout",
     "output_type": "stream",
     "text": [
      "> Generating polygenic scores...\n",
      "177\n"
     ]
    },
    {
     "data": {
      "text/plain": [
       "array([-0.04695673, -0.04185944, -0.0052989 ,  0.00449479,  0.00407263,\n",
       "        0.02464838, -0.01514396, -0.00339302, -0.00318481, -0.00699515,\n",
       "       -0.01998505, -0.02813454,  0.05392086, -0.00299689, -0.02087477,\n",
       "       -0.02607712, -0.02671616, -0.00085843, -0.05155679,  0.02365823,\n",
       "        0.02751247,  0.00518783, -0.02876384,  0.01920401, -0.00412389,\n",
       "       -0.04727499, -0.02427271,  0.00161893, -0.00186504, -0.01437977,\n",
       "        0.00758648, -0.01168766, -0.06093111, -0.01042816, -0.01988319,\n",
       "       -0.00726837, -0.02012914, -0.04258221,  0.05801946,  0.063678  ,\n",
       "       -0.02080692, -0.07065526,  0.01396433, -0.00506005, -0.04390519,\n",
       "        0.0291715 , -0.02503842, -0.01522802, -0.01644112,  0.02797354,\n",
       "       -0.03858466, -0.01110159, -0.01030724,  0.00684037,  0.05925087,\n",
       "        0.04945673, -0.01600061,  0.02109528,  0.0634981 , -0.00863217,\n",
       "        0.01152387,  0.02226593, -0.00377741, -0.00109598, -0.01427131,\n",
       "        0.02545948, -0.02000596, -0.0446569 ,  0.01242695,  0.00509162,\n",
       "       -0.01951653,  0.03236017,  0.01398081, -0.07397593, -0.01564314,\n",
       "        0.00189632, -0.02029516,  0.00110213,  0.03627766, -0.01366188,\n",
       "        0.01920128,  0.01527343, -0.07767325,  0.03804844, -0.0351352 ,\n",
       "       -0.01806046,  0.00715902, -0.01355929,  0.00940316,  0.00101058,\n",
       "        0.02689324,  0.00294025,  0.03898056, -0.03670349, -0.00169522,\n",
       "        0.06288153, -0.04375013, -0.01451204,  0.00654474, -0.02003834,\n",
       "       -0.05306895,  0.0142044 ,  0.01453196, -0.02895728,  0.0068527 ,\n",
       "        0.00239077,  0.01166562, -0.01239005,  0.03139407, -0.03835268,\n",
       "       -0.01574436, -0.02662201, -0.03727377, -0.07818374, -0.0013224 ,\n",
       "       -0.01660922,  0.00141873, -0.03244869, -0.028199  ,  0.02158989,\n",
       "       -0.00452417, -0.02747375,  0.01508126,  0.03824339,  0.07336973,\n",
       "       -0.01573628,  0.02730215, -0.04640669, -0.03142023,  0.01516313,\n",
       "        0.01931993,  0.02311711,  0.02355074, -0.04845485,  0.02207292,\n",
       "       -0.00987269,  0.0223174 , -0.00157096, -0.00367783,  0.02776121,\n",
       "        0.04504705, -0.00034736, -0.02454111, -0.03090145, -0.01471856,\n",
       "       -0.00411618, -0.0227311 , -0.03884463, -0.05171862, -0.03898686,\n",
       "       -0.03492278, -0.02367282, -0.01722029,  0.00059406, -0.04112337,\n",
       "        0.00291522, -0.01590306,  0.02153013, -0.00481153, -0.00043101,\n",
       "       -0.00618202, -0.04565432, -0.03674944, -0.03660847, -0.03441698,\n",
       "        0.03868415,  0.03031639,  0.0079495 , -0.01205887, -0.03602911,\n",
       "        0.01913373,  0.01579004, -0.0060715 , -0.02530167,  0.06900734,\n",
       "       -0.07755164, -0.00052728])"
      ]
     },
     "execution_count": 107,
     "metadata": {},
     "output_type": "execute_result"
    }
   ],
   "source": [
    "# Once the model converges, we can generate PRS estimates \n",
    "prs_chr22 = v.predict()\n",
    "print(len(prs_chr22))\n",
    "prs_chr22"
   ]
  },
  {
   "cell_type": "code",
   "execution_count": 108,
   "metadata": {},
   "outputs": [
    {
     "data": {
      "text/html": [
       "<div>\n",
       "<style scoped>\n",
       "    .dataframe tbody tr th:only-of-type {\n",
       "        vertical-align: middle;\n",
       "    }\n",
       "\n",
       "    .dataframe tbody tr th {\n",
       "        vertical-align: top;\n",
       "    }\n",
       "\n",
       "    .dataframe thead th {\n",
       "        text-align: right;\n",
       "    }\n",
       "</style>\n",
       "<table border=\"1\" class=\"dataframe\">\n",
       "  <thead>\n",
       "    <tr style=\"text-align: right;\">\n",
       "      <th></th>\n",
       "      <th>CHR</th>\n",
       "      <th>SNP</th>\n",
       "      <th>A1</th>\n",
       "      <th>A2</th>\n",
       "      <th>BETA</th>\n",
       "      <th>PIP</th>\n",
       "      <th>VAR_BETA</th>\n",
       "    </tr>\n",
       "  </thead>\n",
       "  <tbody>\n",
       "    <tr>\n",
       "      <th>0</th>\n",
       "      <td>22</td>\n",
       "      <td>rs4911642</td>\n",
       "      <td>G</td>\n",
       "      <td>A</td>\n",
       "      <td>-0.000090</td>\n",
       "      <td>0.015294</td>\n",
       "      <td>0.000006</td>\n",
       "    </tr>\n",
       "    <tr>\n",
       "      <th>1</th>\n",
       "      <td>22</td>\n",
       "      <td>rs2027653</td>\n",
       "      <td>G</td>\n",
       "      <td>A</td>\n",
       "      <td>0.000045</td>\n",
       "      <td>0.014796</td>\n",
       "      <td>0.000006</td>\n",
       "    </tr>\n",
       "    <tr>\n",
       "      <th>2</th>\n",
       "      <td>22</td>\n",
       "      <td>rs5747620</td>\n",
       "      <td>G</td>\n",
       "      <td>A</td>\n",
       "      <td>0.000063</td>\n",
       "      <td>0.014952</td>\n",
       "      <td>0.000006</td>\n",
       "    </tr>\n",
       "    <tr>\n",
       "      <th>3</th>\n",
       "      <td>22</td>\n",
       "      <td>rs5747968</td>\n",
       "      <td>C</td>\n",
       "      <td>A</td>\n",
       "      <td>0.000033</td>\n",
       "      <td>0.014691</td>\n",
       "      <td>0.000006</td>\n",
       "    </tr>\n",
       "    <tr>\n",
       "      <th>4</th>\n",
       "      <td>22</td>\n",
       "      <td>rs2236639</td>\n",
       "      <td>A</td>\n",
       "      <td>G</td>\n",
       "      <td>0.000039</td>\n",
       "      <td>0.014737</td>\n",
       "      <td>0.000006</td>\n",
       "    </tr>\n",
       "    <tr>\n",
       "      <th>...</th>\n",
       "      <td>...</td>\n",
       "      <td>...</td>\n",
       "      <td>...</td>\n",
       "      <td>...</td>\n",
       "      <td>...</td>\n",
       "      <td>...</td>\n",
       "      <td>...</td>\n",
       "    </tr>\n",
       "    <tr>\n",
       "      <th>7915</th>\n",
       "      <td>22</td>\n",
       "      <td>rs715586</td>\n",
       "      <td>A</td>\n",
       "      <td>G</td>\n",
       "      <td>0.000055</td>\n",
       "      <td>0.014869</td>\n",
       "      <td>0.000006</td>\n",
       "    </tr>\n",
       "    <tr>\n",
       "      <th>7916</th>\n",
       "      <td>22</td>\n",
       "      <td>rs8137951</td>\n",
       "      <td>A</td>\n",
       "      <td>G</td>\n",
       "      <td>-0.000007</td>\n",
       "      <td>0.014601</td>\n",
       "      <td>0.000005</td>\n",
       "    </tr>\n",
       "    <tr>\n",
       "      <th>7917</th>\n",
       "      <td>22</td>\n",
       "      <td>rs756638</td>\n",
       "      <td>A</td>\n",
       "      <td>G</td>\n",
       "      <td>-0.000080</td>\n",
       "      <td>0.015143</td>\n",
       "      <td>0.000006</td>\n",
       "    </tr>\n",
       "    <tr>\n",
       "      <th>7918</th>\n",
       "      <td>22</td>\n",
       "      <td>rs3810648</td>\n",
       "      <td>G</td>\n",
       "      <td>A</td>\n",
       "      <td>-0.000104</td>\n",
       "      <td>0.015495</td>\n",
       "      <td>0.000006</td>\n",
       "    </tr>\n",
       "    <tr>\n",
       "      <th>7919</th>\n",
       "      <td>22</td>\n",
       "      <td>rs2285395</td>\n",
       "      <td>A</td>\n",
       "      <td>G</td>\n",
       "      <td>-0.000074</td>\n",
       "      <td>0.015064</td>\n",
       "      <td>0.000006</td>\n",
       "    </tr>\n",
       "  </tbody>\n",
       "</table>\n",
       "<p>7920 rows × 7 columns</p>\n",
       "</div>"
      ],
      "text/plain": [
       "      CHR        SNP A1 A2      BETA       PIP  VAR_BETA\n",
       "0      22  rs4911642  G  A -0.000090  0.015294  0.000006\n",
       "1      22  rs2027653  G  A  0.000045  0.014796  0.000006\n",
       "2      22  rs5747620  G  A  0.000063  0.014952  0.000006\n",
       "3      22  rs5747968  C  A  0.000033  0.014691  0.000006\n",
       "4      22  rs2236639  A  G  0.000039  0.014737  0.000006\n",
       "...   ...        ... .. ..       ...       ...       ...\n",
       "7915   22   rs715586  A  G  0.000055  0.014869  0.000006\n",
       "7916   22  rs8137951  A  G -0.000007  0.014601  0.000005\n",
       "7917   22   rs756638  A  G -0.000080  0.015143  0.000006\n",
       "7918   22  rs3810648  G  A -0.000104  0.015495  0.000006\n",
       "7919   22  rs2285395  A  G -0.000074  0.015064  0.000006\n",
       "\n",
       "[7920 rows x 7 columns]"
      ]
     },
     "execution_count": 108,
     "metadata": {},
     "output_type": "execute_result"
    }
   ],
   "source": [
    "# To examine posterior estimates for the model parameters, you can simply invoke the .to_table() method:\n",
    "v.to_table()"
   ]
  },
  {
   "attachments": {},
   "cell_type": "markdown",
   "metadata": {},
   "source": [
    "<code>Validation</code> use another the simulate phenotype still on the d1chr22_sorted.bed as the validation part. "
   ]
  },
  {
   "cell_type": "code",
   "execution_count": 109,
   "metadata": {},
   "outputs": [
    {
     "name": "stdout",
     "output_type": "stream",
     "text": [
      "> Reading BED file...\n",
      "> Generating polygenic scores...\n",
      "> Performing GWAS...\n"
     ]
    },
    {
     "name": "stdout",
     "output_type": "stream",
     "text": [
      "> Reading BED file...\n",
      "> Reading phenotype file...\n",
      "> Reading summary statistics file...\n",
      "> Harmonizing data...\n",
      "> Computing LD matrix...\n"
     ]
    },
    {
     "name": "stderr",
     "output_type": "stream",
     "text": [
      "Exception ignored in: <finalize object at 0x7fd075efd040; dead>\n",
      "Traceback (most recent call last):\n",
      "  File \"/usr/lib/python3.7/weakref.py\", line 572, in __call__\n",
      "    return info.func(*info.args, **(info.kwargs or {}))\n",
      "  File \"/usr/lib/python3.7/tempfile.py\", line 934, in _cleanup\n",
      "    _rmtree(name)\n",
      "  File \"/usr/lib/python3.7/shutil.py\", line 485, in rmtree\n",
      "    onerror(os.lstat, path, sys.exc_info())\n",
      "  File \"/usr/lib/python3.7/shutil.py\", line 483, in rmtree\n",
      "    orig_st = os.lstat(path)\n",
      "FileNotFoundError: [Errno 2] No such file or directory: 'temp/ld_m8ksiz1k'\n"
     ]
    }
   ],
   "source": [
    "#simulate \n",
    "g2_sim = mgp.GWASimulator(\"CMdream1/chr22/d1CM22_sorted\",\n",
    "                         pi = [.85, .15],\n",
    "                         h2=0.5)\n",
    "g2_sim.simulate()\n",
    "a = g2_sim.to_phenotype_table()\n",
    "a.to_csv(\"Toy_example_expr/phenotype/g2_sim_pheno.txt\",sep='\\t', index=False, header=False)\n",
    "g2_sim.perform_gwas()\n",
    "g2_sim.to_summary_statistics_table().to_csv(\n",
    "    \"Toy_example_expr/d1CM22_sorted_valid.sumstats\", sep=\"\\t\", index=False\n",
    ")\n",
    "\n",
    "# Load summary statistics（simulate phenotype from above) and match them with perviously\n",
    "gdl2_sim = mgp.GWADataLoader(bed_files=\"CMdream1/chr22/d1CM22_sorted\",\n",
    "                            phenotype_file=\"Toy_example_expr/phenotype/g2_sim_pheno.txt\",\n",
    "                            sumstats_files=\"Toy_example_expr/d1CM22_sorted_valid.sumstats\",\n",
    "                            sumstats_format=\"magenpy\")\n",
    "gdl2_sim.compute_ld(estimator='sample',\n",
    "                   output_dir='Toy_example_expr/out/ld_val/')\n"
   ]
  },
  {
   "cell_type": "code",
   "execution_count": 110,
   "metadata": {},
   "outputs": [
    {
     "name": "stdout",
     "output_type": "stream",
     "text": [
      "> Generating polygenic scores...\n"
     ]
    }
   ],
   "source": [
    "val_prs = v.predict(gdl2_sim)"
   ]
  },
  {
   "cell_type": "code",
   "execution_count": 111,
   "metadata": {},
   "outputs": [
    {
     "data": {
      "text/plain": [
       "0.0018799913512445427"
      ]
     },
     "execution_count": 111,
     "metadata": {},
     "output_type": "execute_result"
    }
   ],
   "source": [
    "from viprs.eval.metrics import r2 \n",
    "r2(val_prs, gdl2_sim.sample_table.phenotype)"
   ]
  },
  {
   "attachments": {},
   "cell_type": "markdown",
   "metadata": {},
   "source": [
    "Validation use the chr22 genotypes in <code> dream2 </code> file sets.  \n",
    "Do the same steps as before to got <code>\"CMdream2/chr22/d2CM22_sorted\"</code> binary file sets (.bed + .fam + .bim).  \n",
    "Sorted the SNPs from dream2 for chromosome 22 and add CM values to it. "
   ]
  },
  {
   "cell_type": "code",
   "execution_count": 112,
   "metadata": {},
   "outputs": [],
   "source": [
    "d2_bim = pd.read_csv(\"data/RA_challenge_qced_genotypes/dream2.bim\", sep=\"\\t\", header=None)\n",
    "d2_filter_bim = d2_bim[d2_bim[0] ==22][1]\n",
    "d2_sorted_chr22 = d2_filter_bim.sort_values()\n",
    "d2_sorted_chr22.to_csv(\"CMdream2/d2_sorted_chr22_bim.txt\", header=False,\n",
    "                       index=False, sep=\"\\t\")"
   ]
  },
  {
   "cell_type": "code",
   "execution_count": 113,
   "metadata": {},
   "outputs": [
    {
     "name": "stdout",
     "output_type": "stream",
     "text": [
      "> Reading BED file...\n",
      "> Generating polygenic scores...\n",
      "> Performing GWAS...\n",
      "> Reading BED file...\n",
      "> Reading phenotype file...\n",
      "> Reading summary statistics file...\n",
      "> Harmonizing data...\n",
      "> Computing LD matrix...\n"
     ]
    },
    {
     "name": "stderr",
     "output_type": "stream",
     "text": [
      "Exception ignored in: <finalize object at 0x7fd0a8337af0; dead>\n",
      "Traceback (most recent call last):\n",
      "  File \"/usr/lib/python3.7/weakref.py\", line 572, in __call__\n",
      "    return info.func(*info.args, **(info.kwargs or {}))\n",
      "  File \"/usr/lib/python3.7/tempfile.py\", line 934, in _cleanup\n",
      "    _rmtree(name)\n",
      "  File \"/usr/lib/python3.7/shutil.py\", line 485, in rmtree\n",
      "    onerror(os.lstat, path, sys.exc_info())\n",
      "  File \"/usr/lib/python3.7/shutil.py\", line 483, in rmtree\n",
      "    orig_st = os.lstat(path)\n",
      "FileNotFoundError: [Errno 2] No such file or directory: 'temp/ld_w2vg4k6u'\n"
     ]
    }
   ],
   "source": [
    "# Use simulate method to create phenotpyes \n",
    "#simulate \n",
    "g3_sim = mgp.GWASimulator(\"CMdream2/chr22/d2CM22_sorted\",\n",
    "                         pi = [.85, .15],\n",
    "                         h2=0.5)\n",
    "g3_sim.simulate()\n",
    "a = g3_sim.to_phenotype_table()\n",
    "a.to_csv(\"Toy_example_expr/phenotype/val_d2chr22_pheno.txt\",sep='\\t', index=False, header=False)\n",
    "g3_sim.perform_gwas()\n",
    "g3_sim.to_summary_statistics_table().to_csv(\n",
    "    \"Toy_example_expr/val_d2chr22_valid.sumstats\", sep=\"\\t\", index=False\n",
    ")\n",
    "\n",
    "# Load summary statistics（simulate phenotype from above) and match them with perviously\n",
    "gdl3_sim = mgp.GWADataLoader(bed_files=\"CMdream2/chr22/d2CM22_sorted\",\n",
    "                            phenotype_file=\"Toy_example_expr/phenotype/val_d2chr22_pheno.txt\",\n",
    "                            sumstats_files=\"Toy_example_expr/val_d2chr22_valid.sumstats\",\n",
    "                            sumstats_format=\"magenpy\")\n",
    "gdl3_sim.compute_ld(estimator='sample',\n",
    "                   output_dir='Toy_example_expr/d2chr22_out/ld_val/')"
   ]
  },
  {
   "cell_type": "code",
   "execution_count": 114,
   "metadata": {},
   "outputs": [
    {
     "name": "stdout",
     "output_type": "stream",
     "text": [
      "> Generating polygenic scores...\n"
     ]
    }
   ],
   "source": [
    "val2_prs = v.predict(gdl3_sim)"
   ]
  },
  {
   "cell_type": "code",
   "execution_count": 115,
   "metadata": {},
   "outputs": [
    {
     "data": {
      "text/plain": [
       "0.03575236838564991"
      ]
     },
     "execution_count": 115,
     "metadata": {},
     "output_type": "execute_result"
    }
   ],
   "source": [
    "#To evaluate the accuracy of the polygenic score, \n",
    "# you can use some of the provided metrics with the viprs package. \n",
    "# For quantitative traits, it is customary to report the prediction R^2, \n",
    "# or the proportion of variance explained by the PRS:\n",
    "r2(val2_prs, gdl3_sim.sample_table.phenotype)"
   ]
  }
 ],
 "metadata": {
  "kernelspec": {
   "display_name": ".venv",
   "language": "python",
   "name": "python3"
  },
  "language_info": {
   "codemirror_mode": {
    "name": "ipython",
    "version": 3
   },
   "file_extension": ".py",
   "mimetype": "text/x-python",
   "name": "python",
   "nbconvert_exporter": "python",
   "pygments_lexer": "ipython3",
   "version": "3.7.5"
  },
  "orig_nbformat": 4
 },
 "nbformat": 4,
 "nbformat_minor": 2
}
