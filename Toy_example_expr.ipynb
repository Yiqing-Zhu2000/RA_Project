{
 "cells": [
  {
   "attachments": {},
   "cell_type": "markdown",
   "metadata": {},
   "source": [
    "<h3>Toy example experiment 6.18</h3>\n",
    "\n",
    "Use the magenpy GWASimulator based on RA's genotypes data (d1CM22_sorted.bed) to simulate phenotypes.  \n",
    "the heritibility = 0.5, (Gaussian Mixture Proportion)pi = [.85, .15]"
   ]
  },
  {
   "cell_type": "code",
   "execution_count": 48,
   "metadata": {},
   "outputs": [],
   "source": [
    "import numpy as np\n",
    "import pandas as pd\n",
    "import magenpy as mgp\n",
    "import viprs as vp"
   ]
  },
  {
   "cell_type": "code",
   "execution_count": 49,
   "metadata": {},
   "outputs": [
    {
     "name": "stdout",
     "output_type": "stream",
     "text": [
      "> Reading BED file...\n",
      "> Generating polygenic scores...\n"
     ]
    },
    {
     "data": {
      "text/html": [
       "<div>\n",
       "<style scoped>\n",
       "    .dataframe tbody tr th:only-of-type {\n",
       "        vertical-align: middle;\n",
       "    }\n",
       "\n",
       "    .dataframe tbody tr th {\n",
       "        vertical-align: top;\n",
       "    }\n",
       "\n",
       "    .dataframe thead th {\n",
       "        text-align: right;\n",
       "    }\n",
       "</style>\n",
       "<table border=\"1\" class=\"dataframe\">\n",
       "  <thead>\n",
       "    <tr style=\"text-align: right;\">\n",
       "      <th></th>\n",
       "      <th>FID</th>\n",
       "      <th>IID</th>\n",
       "      <th>phenotype</th>\n",
       "    </tr>\n",
       "  </thead>\n",
       "  <tbody>\n",
       "    <tr>\n",
       "      <th>0</th>\n",
       "      <td>0</td>\n",
       "      <td>1721000</td>\n",
       "      <td>0.907175</td>\n",
       "    </tr>\n",
       "    <tr>\n",
       "      <th>1</th>\n",
       "      <td>0</td>\n",
       "      <td>1722000</td>\n",
       "      <td>0.096401</td>\n",
       "    </tr>\n",
       "    <tr>\n",
       "      <th>2</th>\n",
       "      <td>0</td>\n",
       "      <td>1723000</td>\n",
       "      <td>-0.529977</td>\n",
       "    </tr>\n",
       "    <tr>\n",
       "      <th>3</th>\n",
       "      <td>0</td>\n",
       "      <td>1725000</td>\n",
       "      <td>-1.965584</td>\n",
       "    </tr>\n",
       "    <tr>\n",
       "      <th>4</th>\n",
       "      <td>0</td>\n",
       "      <td>1726000</td>\n",
       "      <td>-1.112442</td>\n",
       "    </tr>\n",
       "    <tr>\n",
       "      <th>...</th>\n",
       "      <td>...</td>\n",
       "      <td>...</td>\n",
       "      <td>...</td>\n",
       "    </tr>\n",
       "    <tr>\n",
       "      <th>172</th>\n",
       "      <td>0</td>\n",
       "      <td>1921000</td>\n",
       "      <td>-0.885473</td>\n",
       "    </tr>\n",
       "    <tr>\n",
       "      <th>173</th>\n",
       "      <td>0</td>\n",
       "      <td>1922000</td>\n",
       "      <td>-0.400395</td>\n",
       "    </tr>\n",
       "    <tr>\n",
       "      <th>174</th>\n",
       "      <td>0</td>\n",
       "      <td>1923000</td>\n",
       "      <td>-1.208614</td>\n",
       "    </tr>\n",
       "    <tr>\n",
       "      <th>175</th>\n",
       "      <td>0</td>\n",
       "      <td>1924000</td>\n",
       "      <td>-1.140223</td>\n",
       "    </tr>\n",
       "    <tr>\n",
       "      <th>176</th>\n",
       "      <td>0</td>\n",
       "      <td>1925000</td>\n",
       "      <td>-1.931153</td>\n",
       "    </tr>\n",
       "  </tbody>\n",
       "</table>\n",
       "<p>177 rows × 3 columns</p>\n",
       "</div>"
      ],
      "text/plain": [
       "    FID      IID  phenotype\n",
       "0     0  1721000   0.907175\n",
       "1     0  1722000   0.096401\n",
       "2     0  1723000  -0.529977\n",
       "3     0  1725000  -1.965584\n",
       "4     0  1726000  -1.112442\n",
       "..   ..      ...        ...\n",
       "172   0  1921000  -0.885473\n",
       "173   0  1922000  -0.400395\n",
       "174   0  1923000  -1.208614\n",
       "175   0  1924000  -1.140223\n",
       "176   0  1925000  -1.931153\n",
       "\n",
       "[177 rows x 3 columns]"
      ]
     },
     "execution_count": 49,
     "metadata": {},
     "output_type": "execute_result"
    }
   ],
   "source": [
    "#simulate \n",
    "g_sim = mgp.GWASimulator(\"CMdream1/chr22/d1CM22_sorted\",\n",
    "                         pi = [.85, .15],\n",
    "                         h2=0.5)\n",
    "g_sim.simulate()\n",
    "g_sim.to_phenotype_table()"
   ]
  },
  {
   "cell_type": "code",
   "execution_count": 50,
   "metadata": {},
   "outputs": [
    {
     "data": {
      "text/html": [
       "<div>\n",
       "<style scoped>\n",
       "    .dataframe tbody tr th:only-of-type {\n",
       "        vertical-align: middle;\n",
       "    }\n",
       "\n",
       "    .dataframe tbody tr th {\n",
       "        vertical-align: top;\n",
       "    }\n",
       "\n",
       "    .dataframe thead th {\n",
       "        text-align: right;\n",
       "    }\n",
       "</style>\n",
       "<table border=\"1\" class=\"dataframe\">\n",
       "  <thead>\n",
       "    <tr style=\"text-align: right;\">\n",
       "      <th></th>\n",
       "      <th>0</th>\n",
       "      <th>1</th>\n",
       "      <th>2</th>\n",
       "      <th>3</th>\n",
       "      <th>4</th>\n",
       "      <th>5</th>\n",
       "    </tr>\n",
       "  </thead>\n",
       "  <tbody>\n",
       "    <tr>\n",
       "      <th>0</th>\n",
       "      <td>22</td>\n",
       "      <td>rs4911642</td>\n",
       "      <td>-11.277499</td>\n",
       "      <td>14884399</td>\n",
       "      <td>G</td>\n",
       "      <td>A</td>\n",
       "    </tr>\n",
       "    <tr>\n",
       "      <th>1</th>\n",
       "      <td>22</td>\n",
       "      <td>rs2027653</td>\n",
       "      <td>-7.277181</td>\n",
       "      <td>15298335</td>\n",
       "      <td>G</td>\n",
       "      <td>A</td>\n",
       "    </tr>\n",
       "    <tr>\n",
       "      <th>2</th>\n",
       "      <td>22</td>\n",
       "      <td>rs5747620</td>\n",
       "      <td>-6.171966</td>\n",
       "      <td>15412698</td>\n",
       "      <td>G</td>\n",
       "      <td>A</td>\n",
       "    </tr>\n",
       "    <tr>\n",
       "      <th>3</th>\n",
       "      <td>22</td>\n",
       "      <td>rs5747968</td>\n",
       "      <td>-5.835598</td>\n",
       "      <td>15447504</td>\n",
       "      <td>C</td>\n",
       "      <td>A</td>\n",
       "    </tr>\n",
       "    <tr>\n",
       "      <th>4</th>\n",
       "      <td>22</td>\n",
       "      <td>rs2236639</td>\n",
       "      <td>-5.787480</td>\n",
       "      <td>15452483</td>\n",
       "      <td>A</td>\n",
       "      <td>G</td>\n",
       "    </tr>\n",
       "    <tr>\n",
       "      <th>...</th>\n",
       "      <td>...</td>\n",
       "      <td>...</td>\n",
       "      <td>...</td>\n",
       "      <td>...</td>\n",
       "      <td>...</td>\n",
       "      <td>...</td>\n",
       "    </tr>\n",
       "    <tr>\n",
       "      <th>7915</th>\n",
       "      <td>22</td>\n",
       "      <td>rs715586</td>\n",
       "      <td>70.074142</td>\n",
       "      <td>49510004</td>\n",
       "      <td>A</td>\n",
       "      <td>G</td>\n",
       "    </tr>\n",
       "    <tr>\n",
       "      <th>7916</th>\n",
       "      <td>22</td>\n",
       "      <td>rs8137951</td>\n",
       "      <td>70.076278</td>\n",
       "      <td>49512530</td>\n",
       "      <td>A</td>\n",
       "      <td>G</td>\n",
       "    </tr>\n",
       "    <tr>\n",
       "      <th>7917</th>\n",
       "      <td>22</td>\n",
       "      <td>rs756638</td>\n",
       "      <td>70.084762</td>\n",
       "      <td>49518559</td>\n",
       "      <td>A</td>\n",
       "      <td>G</td>\n",
       "    </tr>\n",
       "    <tr>\n",
       "      <th>7918</th>\n",
       "      <td>22</td>\n",
       "      <td>rs3810648</td>\n",
       "      <td>70.168330</td>\n",
       "      <td>49522492</td>\n",
       "      <td>G</td>\n",
       "      <td>A</td>\n",
       "    </tr>\n",
       "    <tr>\n",
       "      <th>7919</th>\n",
       "      <td>22</td>\n",
       "      <td>rs2285395</td>\n",
       "      <td>70.221644</td>\n",
       "      <td>49524956</td>\n",
       "      <td>A</td>\n",
       "      <td>G</td>\n",
       "    </tr>\n",
       "  </tbody>\n",
       "</table>\n",
       "<p>7920 rows × 6 columns</p>\n",
       "</div>"
      ],
      "text/plain": [
       "       0          1          2         3  4  5\n",
       "0     22  rs4911642 -11.277499  14884399  G  A\n",
       "1     22  rs2027653  -7.277181  15298335  G  A\n",
       "2     22  rs5747620  -6.171966  15412698  G  A\n",
       "3     22  rs5747968  -5.835598  15447504  C  A\n",
       "4     22  rs2236639  -5.787480  15452483  A  G\n",
       "...   ..        ...        ...       ... .. ..\n",
       "7915  22   rs715586  70.074142  49510004  A  G\n",
       "7916  22  rs8137951  70.076278  49512530  A  G\n",
       "7917  22   rs756638  70.084762  49518559  A  G\n",
       "7918  22  rs3810648  70.168330  49522492  G  A\n",
       "7919  22  rs2285395  70.221644  49524956  A  G\n",
       "\n",
       "[7920 rows x 6 columns]"
      ]
     },
     "execution_count": 50,
     "metadata": {},
     "output_type": "execute_result"
    }
   ],
   "source": [
    "pd.read_csv(\"CMdream1/chr22/d1CM22_sorted.bim\", sep=\"\\t\", header=None)\n"
   ]
  },
  {
   "cell_type": "code",
   "execution_count": 51,
   "metadata": {},
   "outputs": [
    {
     "name": "stdout",
     "output_type": "stream",
     "text": [
      "> Performing GWAS...\n"
     ]
    }
   ],
   "source": [
    "g_sim.perform_gwas()\n",
    "g_sim.to_summary_statistics_table().to_csv(\n",
    "    \"Toy_example_expr/d1CM22_sorted.sumstats\", sep=\"\\t\", index=False\n",
    ")"
   ]
  },
  {
   "cell_type": "code",
   "execution_count": 52,
   "metadata": {},
   "outputs": [
    {
     "name": "stdout",
     "output_type": "stream",
     "text": [
      "> Reading BED file...\n",
      "> Reading summary statistics file...\n",
      "> Harmonizing data...\n"
     ]
    }
   ],
   "source": [
    "# Load summary statistics（simulate phenotype from above) and match them with perviously\n",
    "gdl_sim = mgp.GWADataLoader(bed_files=\"CMdream1/chr22/d1CM22_sorted\",\n",
    "                            sumstats_files=\"Toy_example_expr/d1CM22_sorted.sumstats\",\n",
    "                            sumstats_format=\"magenpy\")"
   ]
  },
  {
   "cell_type": "code",
   "execution_count": 53,
   "metadata": {},
   "outputs": [
    {
     "data": {
      "text/html": [
       "<div>\n",
       "<style scoped>\n",
       "    .dataframe tbody tr th:only-of-type {\n",
       "        vertical-align: middle;\n",
       "    }\n",
       "\n",
       "    .dataframe tbody tr th {\n",
       "        vertical-align: top;\n",
       "    }\n",
       "\n",
       "    .dataframe thead th {\n",
       "        text-align: right;\n",
       "    }\n",
       "</style>\n",
       "<table border=\"1\" class=\"dataframe\">\n",
       "  <thead>\n",
       "    <tr style=\"text-align: right;\">\n",
       "      <th></th>\n",
       "      <th>0</th>\n",
       "      <th>1</th>\n",
       "      <th>2</th>\n",
       "      <th>3</th>\n",
       "      <th>4</th>\n",
       "      <th>5</th>\n",
       "      <th>6</th>\n",
       "      <th>7</th>\n",
       "      <th>8</th>\n",
       "      <th>9</th>\n",
       "      <th>10</th>\n",
       "    </tr>\n",
       "  </thead>\n",
       "  <tbody>\n",
       "    <tr>\n",
       "      <th>0</th>\n",
       "      <td>CHR</td>\n",
       "      <td>SNP</td>\n",
       "      <td>POS</td>\n",
       "      <td>A1</td>\n",
       "      <td>A2</td>\n",
       "      <td>MAF</td>\n",
       "      <td>N</td>\n",
       "      <td>BETA</td>\n",
       "      <td>Z</td>\n",
       "      <td>SE</td>\n",
       "      <td>PVAL</td>\n",
       "    </tr>\n",
       "    <tr>\n",
       "      <th>1</th>\n",
       "      <td>22</td>\n",
       "      <td>rs4911642</td>\n",
       "      <td>14884399</td>\n",
       "      <td>G</td>\n",
       "      <td>A</td>\n",
       "      <td>0.12721893491124261</td>\n",
       "      <td>169</td>\n",
       "      <td>-0.04265189418220031</td>\n",
       "      <td>-0.5544746243686042</td>\n",
       "      <td>0.07692307692307691</td>\n",
       "      <td>0.5792540674234714</td>\n",
       "    </tr>\n",
       "    <tr>\n",
       "      <th>2</th>\n",
       "      <td>22</td>\n",
       "      <td>rs2027653</td>\n",
       "      <td>15298335</td>\n",
       "      <td>G</td>\n",
       "      <td>A</td>\n",
       "      <td>0.3742690058479532</td>\n",
       "      <td>171</td>\n",
       "      <td>0.022917417786659317</td>\n",
       "      <td>0.2996841245368486</td>\n",
       "      <td>0.07647191129018725</td>\n",
       "      <td>0.764418109140301</td>\n",
       "    </tr>\n",
       "    <tr>\n",
       "      <th>3</th>\n",
       "      <td>22</td>\n",
       "      <td>rs5747620</td>\n",
       "      <td>15412698</td>\n",
       "      <td>G</td>\n",
       "      <td>A</td>\n",
       "      <td>0.3953488372093023</td>\n",
       "      <td>172</td>\n",
       "      <td>0.014003965819679977</td>\n",
       "      <td>0.18366028991795585</td>\n",
       "      <td>0.07624928516630233</td>\n",
       "      <td>0.8542799629683887</td>\n",
       "    </tr>\n",
       "    <tr>\n",
       "      <th>4</th>\n",
       "      <td>22</td>\n",
       "      <td>rs5747968</td>\n",
       "      <td>15447504</td>\n",
       "      <td>C</td>\n",
       "      <td>A</td>\n",
       "      <td>0.3700564971751412</td>\n",
       "      <td>177</td>\n",
       "      <td>0.06738289268960251</td>\n",
       "      <td>0.8964710805250063</td>\n",
       "      <td>0.07516460280028288</td>\n",
       "      <td>0.37000121905585104</td>\n",
       "    </tr>\n",
       "    <tr>\n",
       "      <th>...</th>\n",
       "      <td>...</td>\n",
       "      <td>...</td>\n",
       "      <td>...</td>\n",
       "      <td>...</td>\n",
       "      <td>...</td>\n",
       "      <td>...</td>\n",
       "      <td>...</td>\n",
       "      <td>...</td>\n",
       "      <td>...</td>\n",
       "      <td>...</td>\n",
       "      <td>...</td>\n",
       "    </tr>\n",
       "    <tr>\n",
       "      <th>7916</th>\n",
       "      <td>22</td>\n",
       "      <td>rs715586</td>\n",
       "      <td>49510004</td>\n",
       "      <td>A</td>\n",
       "      <td>G</td>\n",
       "      <td>0.14204545454545456</td>\n",
       "      <td>176</td>\n",
       "      <td>0.02605969181150253</td>\n",
       "      <td>0.34572087956420366</td>\n",
       "      <td>0.07537783614444091</td>\n",
       "      <td>0.7295524911541165</td>\n",
       "    </tr>\n",
       "    <tr>\n",
       "      <th>7917</th>\n",
       "      <td>22</td>\n",
       "      <td>rs8137951</td>\n",
       "      <td>49512530</td>\n",
       "      <td>A</td>\n",
       "      <td>G</td>\n",
       "      <td>0.2768361581920904</td>\n",
       "      <td>177</td>\n",
       "      <td>0.014883396930397884</td>\n",
       "      <td>0.19801071749083826</td>\n",
       "      <td>0.07516460280028288</td>\n",
       "      <td>0.8430366784096935</td>\n",
       "    </tr>\n",
       "    <tr>\n",
       "      <th>7918</th>\n",
       "      <td>22</td>\n",
       "      <td>rs756638</td>\n",
       "      <td>49518559</td>\n",
       "      <td>A</td>\n",
       "      <td>G</td>\n",
       "      <td>0.2471590909090909</td>\n",
       "      <td>176</td>\n",
       "      <td>-0.005179443115421703</td>\n",
       "      <td>-0.0687130777473729</td>\n",
       "      <td>0.07537783614444091</td>\n",
       "      <td>0.9452180082723375</td>\n",
       "    </tr>\n",
       "    <tr>\n",
       "      <th>7919</th>\n",
       "      <td>22</td>\n",
       "      <td>rs3810648</td>\n",
       "      <td>49522492</td>\n",
       "      <td>G</td>\n",
       "      <td>A</td>\n",
       "      <td>0.048295454545454544</td>\n",
       "      <td>176</td>\n",
       "      <td>-0.03548146288556614</td>\n",
       "      <td>-0.4707147976173748</td>\n",
       "      <td>0.07537783614444091</td>\n",
       "      <td>0.6378444157603079</td>\n",
       "    </tr>\n",
       "    <tr>\n",
       "      <th>7920</th>\n",
       "      <td>22</td>\n",
       "      <td>rs2285395</td>\n",
       "      <td>49524956</td>\n",
       "      <td>A</td>\n",
       "      <td>G</td>\n",
       "      <td>0.03954802259887006</td>\n",
       "      <td>177</td>\n",
       "      <td>-0.03492010511302062</td>\n",
       "      <td>-0.4645817820098851</td>\n",
       "      <td>0.07516460280028288</td>\n",
       "      <td>0.6422309810769571</td>\n",
       "    </tr>\n",
       "  </tbody>\n",
       "</table>\n",
       "<p>7921 rows × 11 columns</p>\n",
       "</div>"
      ],
      "text/plain": [
       "       0          1         2   3   4                     5    6   \\\n",
       "0     CHR        SNP       POS  A1  A2                   MAF    N   \n",
       "1      22  rs4911642  14884399   G   A   0.12721893491124261  169   \n",
       "2      22  rs2027653  15298335   G   A    0.3742690058479532  171   \n",
       "3      22  rs5747620  15412698   G   A    0.3953488372093023  172   \n",
       "4      22  rs5747968  15447504   C   A    0.3700564971751412  177   \n",
       "...   ...        ...       ...  ..  ..                   ...  ...   \n",
       "7916   22   rs715586  49510004   A   G   0.14204545454545456  176   \n",
       "7917   22  rs8137951  49512530   A   G    0.2768361581920904  177   \n",
       "7918   22   rs756638  49518559   A   G    0.2471590909090909  176   \n",
       "7919   22  rs3810648  49522492   G   A  0.048295454545454544  176   \n",
       "7920   22  rs2285395  49524956   A   G   0.03954802259887006  177   \n",
       "\n",
       "                         7                    8                    9   \\\n",
       "0                      BETA                    Z                   SE   \n",
       "1      -0.04265189418220031  -0.5544746243686042  0.07692307692307691   \n",
       "2      0.022917417786659317   0.2996841245368486  0.07647191129018725   \n",
       "3      0.014003965819679977  0.18366028991795585  0.07624928516630233   \n",
       "4       0.06738289268960251   0.8964710805250063  0.07516460280028288   \n",
       "...                     ...                  ...                  ...   \n",
       "7916    0.02605969181150253  0.34572087956420366  0.07537783614444091   \n",
       "7917   0.014883396930397884  0.19801071749083826  0.07516460280028288   \n",
       "7918  -0.005179443115421703  -0.0687130777473729  0.07537783614444091   \n",
       "7919   -0.03548146288556614  -0.4707147976173748  0.07537783614444091   \n",
       "7920   -0.03492010511302062  -0.4645817820098851  0.07516460280028288   \n",
       "\n",
       "                       10  \n",
       "0                    PVAL  \n",
       "1      0.5792540674234714  \n",
       "2       0.764418109140301  \n",
       "3      0.8542799629683887  \n",
       "4     0.37000121905585104  \n",
       "...                   ...  \n",
       "7916   0.7295524911541165  \n",
       "7917   0.8430366784096935  \n",
       "7918   0.9452180082723375  \n",
       "7919   0.6378444157603079  \n",
       "7920   0.6422309810769571  \n",
       "\n",
       "[7921 rows x 11 columns]"
      ]
     },
     "execution_count": 53,
     "metadata": {},
     "output_type": "execute_result"
    }
   ],
   "source": [
    "pd.read_csv(\"Toy_example_expr/d1CM22_sorted.sumstats\", sep=\"\\t\", header=None)"
   ]
  },
  {
   "cell_type": "code",
   "execution_count": 54,
   "metadata": {},
   "outputs": [
    {
     "name": "stdout",
     "output_type": "stream",
     "text": [
      "> Computing LD matrix...\n"
     ]
    }
   ],
   "source": [
    "gdl_sim.compute_ld(estimator='sample',\n",
    "                   output_dir='Toy_example_expr/out/ld/')"
   ]
  },
  {
   "attachments": {},
   "cell_type": "markdown",
   "metadata": {},
   "source": [
    "Use Viprs, initialize the viprs model based on the <code> gdl_sim model</code> containing the GWAS data and the LD matrix (using xarray method) for the chr22."
   ]
  },
  {
   "cell_type": "code",
   "execution_count": 55,
   "metadata": {},
   "outputs": [],
   "source": [
    "v = vp.VIPRS(gdl_sim)"
   ]
  },
  {
   "cell_type": "code",
   "execution_count": 56,
   "metadata": {},
   "outputs": [
    {
     "name": "stdout",
     "output_type": "stream",
     "text": [
      "> Initializing model parameters\n",
      "> Loading LD matrices into memory...\n",
      "> Performing model fit...\n",
      "> Using up to 1 threads.\n"
     ]
    },
    {
     "name": "stderr",
     "output_type": "stream",
     "text": [
      "  3%|▎         | 33/1000 [00:05<02:33,  6.32it/s]"
     ]
    },
    {
     "name": "stdout",
     "output_type": "stream",
     "text": [
      "Converged at iteration 34 || ELBO: -251.022620\n",
      "> Final ELBO: -251.022620\n",
      "> Estimated heritability: 0.063632\n",
      "> Estimated proportion of causal variants: 0.004769\n"
     ]
    },
    {
     "name": "stderr",
     "output_type": "stream",
     "text": [
      "\n"
     ]
    },
    {
     "data": {
      "text/plain": [
       "<viprs.model.VIPRS.VIPRS at 0x7f7b4b281550>"
      ]
     },
     "execution_count": 56,
     "metadata": {},
     "output_type": "execute_result"
    }
   ],
   "source": [
    "v.fit()"
   ]
  },
  {
   "cell_type": "code",
   "execution_count": 57,
   "metadata": {},
   "outputs": [
    {
     "name": "stdout",
     "output_type": "stream",
     "text": [
      "> Generating polygenic scores...\n",
      "177\n"
     ]
    },
    {
     "data": {
      "text/plain": [
       "array([ 0.02524362,  0.00340651, -0.02926352, -0.08015242, -0.05001765,\n",
       "       -0.01754011, -0.05930407,  0.04780193, -0.04495885, -0.06588032,\n",
       "       -0.00294896, -0.04289826, -0.05234844,  0.01234762, -0.03597946,\n",
       "        0.05572808, -0.00871157, -0.03428585, -0.0189071 , -0.01792462,\n",
       "       -0.03905429, -0.00810673, -0.07329661,  0.00371513, -0.0502091 ,\n",
       "        0.01321316,  0.00340567, -0.00755528, -0.00198109,  0.06531484,\n",
       "       -0.05079751,  0.04293674,  0.07368653,  0.08399345,  0.01447073,\n",
       "       -0.01233348,  0.03267192,  0.08306909,  0.04610853,  0.05215081,\n",
       "       -0.04226014, -0.04836083, -0.0148821 ,  0.01901929,  0.00442117,\n",
       "       -0.05467186, -0.01141341,  0.01739579, -0.0512659 ,  0.00913866,\n",
       "       -0.00750138, -0.06343894,  0.01013593,  0.0121281 , -0.00382063,\n",
       "       -0.007742  , -0.00643023, -0.02042649,  0.04363794, -0.09873318,\n",
       "        0.02001188,  0.04213866,  0.02244945,  0.02269127,  0.0296657 ,\n",
       "       -0.07756116,  0.05037002, -0.0365212 ,  0.09033644, -0.04786188,\n",
       "        0.0116494 ,  0.01076345,  0.0266352 ,  0.00592673,  0.05815049,\n",
       "        0.00354315,  0.01838166, -0.01421009,  0.00226339, -0.03475689,\n",
       "       -0.05288478, -0.03098368, -0.03376997, -0.02425652, -0.02838619,\n",
       "       -0.05508418, -0.00053843, -0.08101219,  0.02629325, -0.10431952,\n",
       "        0.04478946,  0.00421559, -0.00737067, -0.01822413, -0.00601868,\n",
       "       -0.01021768, -0.02573466,  0.06437625,  0.0621297 , -0.05230439,\n",
       "       -0.01853874,  0.01490158, -0.0174727 , -0.01567681,  0.11205409,\n",
       "        0.00439795,  0.02486424,  0.00569574,  0.01781616,  0.02676911,\n",
       "        0.02263049,  0.00654207, -0.01382622,  0.02466357, -0.01889571,\n",
       "        0.01525067, -0.01579043,  0.02719821, -0.04162871, -0.00595277,\n",
       "        0.02361297,  0.03327328,  0.01958838,  0.00867334, -0.01933558,\n",
       "       -0.03127544, -0.00722   , -0.00240862, -0.00170299,  0.00125091,\n",
       "       -0.01982983, -0.03590415, -0.0045711 , -0.0224753 ,  0.06421819,\n",
       "       -0.00235537,  0.06000638, -0.0465463 ,  0.06276431, -0.09372182,\n",
       "       -0.01185258,  0.03729553,  0.01306694, -0.00046596,  0.01451202,\n",
       "       -0.00262212, -0.01824929,  0.0001739 ,  0.0255972 ,  0.05769269,\n",
       "        0.01785311, -0.06141552,  0.03875048, -0.00177232, -0.03480519,\n",
       "        0.01628694, -0.03288993,  0.01100999,  0.02977911,  0.00977331,\n",
       "       -0.0006158 ,  0.01774722,  0.02108737, -0.06719817, -0.04851869,\n",
       "       -0.03051998, -0.02793769,  0.03781854, -0.01511571, -0.02106355,\n",
       "        0.01825358,  0.03222912, -0.02959061, -0.01074803, -0.02787616,\n",
       "       -0.0337865 , -0.0625606 ])"
      ]
     },
     "execution_count": 57,
     "metadata": {},
     "output_type": "execute_result"
    }
   ],
   "source": [
    "# Once the model converges, we can generate PRS estimates \n",
    "prs_chr22 = v.predict()\n",
    "print(len(prs_chr22))\n",
    "prs_chr22"
   ]
  },
  {
   "cell_type": "code",
   "execution_count": 58,
   "metadata": {},
   "outputs": [
    {
     "data": {
      "text/html": [
       "<div>\n",
       "<style scoped>\n",
       "    .dataframe tbody tr th:only-of-type {\n",
       "        vertical-align: middle;\n",
       "    }\n",
       "\n",
       "    .dataframe tbody tr th {\n",
       "        vertical-align: top;\n",
       "    }\n",
       "\n",
       "    .dataframe thead th {\n",
       "        text-align: right;\n",
       "    }\n",
       "</style>\n",
       "<table border=\"1\" class=\"dataframe\">\n",
       "  <thead>\n",
       "    <tr style=\"text-align: right;\">\n",
       "      <th></th>\n",
       "      <th>CHR</th>\n",
       "      <th>SNP</th>\n",
       "      <th>A1</th>\n",
       "      <th>A2</th>\n",
       "      <th>BETA</th>\n",
       "      <th>PIP</th>\n",
       "      <th>VAR_BETA</th>\n",
       "    </tr>\n",
       "  </thead>\n",
       "  <tbody>\n",
       "    <tr>\n",
       "      <th>0</th>\n",
       "      <td>22</td>\n",
       "      <td>rs4911642</td>\n",
       "      <td>G</td>\n",
       "      <td>A</td>\n",
       "      <td>-0.000040</td>\n",
       "      <td>0.004367</td>\n",
       "      <td>0.000006</td>\n",
       "    </tr>\n",
       "    <tr>\n",
       "      <th>1</th>\n",
       "      <td>22</td>\n",
       "      <td>rs2027653</td>\n",
       "      <td>G</td>\n",
       "      <td>A</td>\n",
       "      <td>0.000020</td>\n",
       "      <td>0.004255</td>\n",
       "      <td>0.000005</td>\n",
       "    </tr>\n",
       "    <tr>\n",
       "      <th>2</th>\n",
       "      <td>22</td>\n",
       "      <td>rs5747620</td>\n",
       "      <td>G</td>\n",
       "      <td>A</td>\n",
       "      <td>0.000015</td>\n",
       "      <td>0.004237</td>\n",
       "      <td>0.000005</td>\n",
       "    </tr>\n",
       "    <tr>\n",
       "      <th>3</th>\n",
       "      <td>22</td>\n",
       "      <td>rs5747968</td>\n",
       "      <td>C</td>\n",
       "      <td>A</td>\n",
       "      <td>0.000063</td>\n",
       "      <td>0.004547</td>\n",
       "      <td>0.000006</td>\n",
       "    </tr>\n",
       "    <tr>\n",
       "      <th>4</th>\n",
       "      <td>22</td>\n",
       "      <td>rs2236639</td>\n",
       "      <td>A</td>\n",
       "      <td>G</td>\n",
       "      <td>0.000023</td>\n",
       "      <td>0.004254</td>\n",
       "      <td>0.000005</td>\n",
       "    </tr>\n",
       "    <tr>\n",
       "      <th>...</th>\n",
       "      <td>...</td>\n",
       "      <td>...</td>\n",
       "      <td>...</td>\n",
       "      <td>...</td>\n",
       "      <td>...</td>\n",
       "      <td>...</td>\n",
       "      <td>...</td>\n",
       "    </tr>\n",
       "    <tr>\n",
       "      <th>7915</th>\n",
       "      <td>22</td>\n",
       "      <td>rs715586</td>\n",
       "      <td>A</td>\n",
       "      <td>G</td>\n",
       "      <td>0.000026</td>\n",
       "      <td>0.004271</td>\n",
       "      <td>0.000005</td>\n",
       "    </tr>\n",
       "    <tr>\n",
       "      <th>7916</th>\n",
       "      <td>22</td>\n",
       "      <td>rs8137951</td>\n",
       "      <td>A</td>\n",
       "      <td>G</td>\n",
       "      <td>0.000011</td>\n",
       "      <td>0.004213</td>\n",
       "      <td>0.000005</td>\n",
       "    </tr>\n",
       "    <tr>\n",
       "      <th>7917</th>\n",
       "      <td>22</td>\n",
       "      <td>rs756638</td>\n",
       "      <td>A</td>\n",
       "      <td>G</td>\n",
       "      <td>-0.000006</td>\n",
       "      <td>0.004209</td>\n",
       "      <td>0.000005</td>\n",
       "    </tr>\n",
       "    <tr>\n",
       "      <th>7918</th>\n",
       "      <td>22</td>\n",
       "      <td>rs3810648</td>\n",
       "      <td>G</td>\n",
       "      <td>A</td>\n",
       "      <td>-0.000030</td>\n",
       "      <td>0.004293</td>\n",
       "      <td>0.000005</td>\n",
       "    </tr>\n",
       "    <tr>\n",
       "      <th>7919</th>\n",
       "      <td>22</td>\n",
       "      <td>rs2285395</td>\n",
       "      <td>A</td>\n",
       "      <td>G</td>\n",
       "      <td>-0.000030</td>\n",
       "      <td>0.004288</td>\n",
       "      <td>0.000005</td>\n",
       "    </tr>\n",
       "  </tbody>\n",
       "</table>\n",
       "<p>7920 rows × 7 columns</p>\n",
       "</div>"
      ],
      "text/plain": [
       "      CHR        SNP A1 A2      BETA       PIP  VAR_BETA\n",
       "0      22  rs4911642  G  A -0.000040  0.004367  0.000006\n",
       "1      22  rs2027653  G  A  0.000020  0.004255  0.000005\n",
       "2      22  rs5747620  G  A  0.000015  0.004237  0.000005\n",
       "3      22  rs5747968  C  A  0.000063  0.004547  0.000006\n",
       "4      22  rs2236639  A  G  0.000023  0.004254  0.000005\n",
       "...   ...        ... .. ..       ...       ...       ...\n",
       "7915   22   rs715586  A  G  0.000026  0.004271  0.000005\n",
       "7916   22  rs8137951  A  G  0.000011  0.004213  0.000005\n",
       "7917   22   rs756638  A  G -0.000006  0.004209  0.000005\n",
       "7918   22  rs3810648  G  A -0.000030  0.004293  0.000005\n",
       "7919   22  rs2285395  A  G -0.000030  0.004288  0.000005\n",
       "\n",
       "[7920 rows x 7 columns]"
      ]
     },
     "execution_count": 58,
     "metadata": {},
     "output_type": "execute_result"
    }
   ],
   "source": [
    "# To examine posterior estimates for the model parameters, you can simply invoke the .to_table() method:\n",
    "v.to_table()"
   ]
  },
  {
   "attachments": {},
   "cell_type": "markdown",
   "metadata": {},
   "source": [
    "<code>Validation</code> use another the simulate phenotype still on the d1chr22_sorted.bed as the validation part. "
   ]
  },
  {
   "cell_type": "code",
   "execution_count": 62,
   "metadata": {},
   "outputs": [
    {
     "name": "stdout",
     "output_type": "stream",
     "text": [
      "> Reading BED file...\n",
      "> Generating polygenic scores...\n",
      "> Performing GWAS...\n",
      "> Reading BED file...\n",
      "> Reading phenotype file...\n",
      "> Reading summary statistics file...\n",
      "> Harmonizing data...\n",
      "> Computing LD matrix...\n"
     ]
    },
    {
     "name": "stderr",
     "output_type": "stream",
     "text": [
      "Exception ignored in: <finalize object at 0x7f7ad84addc0; dead>\n",
      "Traceback (most recent call last):\n",
      "  File \"/usr/lib/python3.7/weakref.py\", line 572, in __call__\n",
      "    return info.func(*info.args, **(info.kwargs or {}))\n",
      "  File \"/usr/lib/python3.7/tempfile.py\", line 934, in _cleanup\n",
      "    _rmtree(name)\n",
      "  File \"/usr/lib/python3.7/shutil.py\", line 485, in rmtree\n",
      "    onerror(os.lstat, path, sys.exc_info())\n",
      "  File \"/usr/lib/python3.7/shutil.py\", line 483, in rmtree\n",
      "    orig_st = os.lstat(path)\n",
      "FileNotFoundError: [Errno 2] No such file or directory: 'temp/ld_27inuwdj'\n"
     ]
    }
   ],
   "source": [
    "#simulate \n",
    "g2_sim = mgp.GWASimulator(\"CMdream1/chr22/d1CM22_sorted\",\n",
    "                         pi = [.85, .15],\n",
    "                         h2=0.5)\n",
    "g2_sim.simulate()\n",
    "a = g2_sim.to_phenotype_table()\n",
    "a.to_csv(\"Toy_example_expr/phenotype/g2_sim_pheno.txt\",sep='\\t', index=False, header=False)\n",
    "g2_sim.perform_gwas()\n",
    "g2_sim.to_summary_statistics_table().to_csv(\n",
    "    \"Toy_example_expr/d1CM22_sorted_valid.sumstats\", sep=\"\\t\", index=False\n",
    ")\n",
    "\n",
    "# Load summary statistics（simulate phenotype from above) and match them with perviously\n",
    "gdl2_sim = mgp.GWADataLoader(bed_files=\"CMdream1/chr22/d1CM22_sorted\",\n",
    "                            phenotype_file=\"Toy_example_expr/phenotype/g2_sim_pheno.txt\",\n",
    "                            sumstats_files=\"Toy_example_expr/d1CM22_sorted_valid.sumstats\",\n",
    "                            sumstats_format=\"magenpy\")\n",
    "gdl2_sim.compute_ld(estimator='sample',\n",
    "                   output_dir='Toy_example_expr/out/ld_val/')\n"
   ]
  },
  {
   "cell_type": "code",
   "execution_count": 63,
   "metadata": {},
   "outputs": [
    {
     "name": "stdout",
     "output_type": "stream",
     "text": [
      "> Generating polygenic scores...\n"
     ]
    }
   ],
   "source": [
    "val_prs = v.predict(gdl2_sim)"
   ]
  },
  {
   "cell_type": "code",
   "execution_count": 64,
   "metadata": {},
   "outputs": [
    {
     "data": {
      "text/plain": [
       "0.00010823635519292879"
      ]
     },
     "execution_count": 64,
     "metadata": {},
     "output_type": "execute_result"
    }
   ],
   "source": [
    "from viprs.eval.metrics import r2 \n",
    "r2(val_prs, gdl2_sim.sample_table.phenotype)"
   ]
  },
  {
   "attachments": {},
   "cell_type": "markdown",
   "metadata": {},
   "source": [
    "Validation use the chr22 genotypes in <code> dream2 </code> file sets.  \n",
    "Do the same steps as before to got <code>\"CMdream2/chr22/d2CM22_sorted\"</code> binary file sets (.bed + .fam + .bim).  \n",
    "Sorted the SNPs from dream2 for chromosome 22 and add CM values to it. "
   ]
  },
  {
   "cell_type": "code",
   "execution_count": 65,
   "metadata": {},
   "outputs": [],
   "source": [
    "d2_bim = pd.read_csv(\"data/RA_challenge_qced_genotypes/dream2.bim\", sep=\"\\t\", header=None)\n",
    "d2_filter_bim = d2_bim[d2_bim[0] ==22][1]\n",
    "d2_sorted_chr22 = d2_filter_bim.sort_values()\n",
    "d2_sorted_chr22.to_csv(\"CMdream2/d2_sorted_chr22_bim.txt\", header=False,\n",
    "                       index=False, sep=\"\\t\")"
   ]
  },
  {
   "cell_type": "code",
   "execution_count": 66,
   "metadata": {},
   "outputs": [
    {
     "name": "stdout",
     "output_type": "stream",
     "text": [
      "> Reading BED file...\n",
      "> Generating polygenic scores...\n",
      "> Performing GWAS...\n",
      "> Reading BED file...\n",
      "> Reading phenotype file...\n",
      "> Reading summary statistics file...\n",
      "> Harmonizing data...\n",
      "> Computing LD matrix...\n"
     ]
    }
   ],
   "source": [
    "# Use simulate method to create phenotpyes \n",
    "#simulate \n",
    "g3_sim = mgp.GWASimulator(\"CMdream2/chr22/d2CM22_sorted\",\n",
    "                         pi = [.85, .15],\n",
    "                         h2=0.5)\n",
    "g3_sim.simulate()\n",
    "a = g3_sim.to_phenotype_table()\n",
    "a.to_csv(\"Toy_example_expr/phenotype/val_d2chr22_pheno.txt\",sep='\\t', index=False, header=False)\n",
    "g3_sim.perform_gwas()\n",
    "g3_sim.to_summary_statistics_table().to_csv(\n",
    "    \"Toy_example_expr/val_d2chr22_valid.sumstats\", sep=\"\\t\", index=False\n",
    ")\n",
    "\n",
    "# Load summary statistics（simulate phenotype from above) and match them with perviously\n",
    "gdl3_sim = mgp.GWADataLoader(bed_files=\"CMdream2/chr22/d2CM22_sorted\",\n",
    "                            phenotype_file=\"Toy_example_expr/phenotype/val_d2chr22_pheno.txt\",\n",
    "                            sumstats_files=\"Toy_example_expr/val_d2chr22_valid.sumstats\",\n",
    "                            sumstats_format=\"magenpy\")\n",
    "gdl3_sim.compute_ld(estimator='sample',\n",
    "                   output_dir='Toy_example_expr/d2chr22_out/ld_val/')"
   ]
  },
  {
   "cell_type": "code",
   "execution_count": 67,
   "metadata": {},
   "outputs": [
    {
     "name": "stdout",
     "output_type": "stream",
     "text": [
      "> Generating polygenic scores...\n"
     ]
    }
   ],
   "source": [
    "val2_prs = v.predict(gdl3_sim)"
   ]
  },
  {
   "cell_type": "code",
   "execution_count": 70,
   "metadata": {},
   "outputs": [
    {
     "data": {
      "text/plain": [
       "0.0066335364334810295"
      ]
     },
     "execution_count": 70,
     "metadata": {},
     "output_type": "execute_result"
    }
   ],
   "source": [
    "#To evaluate the accuracy of the polygenic score, \n",
    "# you can use some of the provided metrics with the viprs package. \n",
    "# For quantitative traits, it is customary to report the prediction R^2, \n",
    "# or the proportion of variance explained by the PRS:\n",
    "r2(val2_prs, gdl3_sim.sample_table.phenotype)"
   ]
  }
 ],
 "metadata": {
  "kernelspec": {
   "display_name": ".venv",
   "language": "python",
   "name": "python3"
  },
  "language_info": {
   "codemirror_mode": {
    "name": "ipython",
    "version": 3
   },
   "file_extension": ".py",
   "mimetype": "text/x-python",
   "name": "python",
   "nbconvert_exporter": "python",
   "pygments_lexer": "ipython3",
   "version": "3.7.5"
  },
  "orig_nbformat": 4
 },
 "nbformat": 4,
 "nbformat_minor": 2
}
