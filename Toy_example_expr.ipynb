{
 "cells": [
  {
   "attachments": {},
   "cell_type": "markdown",
   "metadata": {},
   "source": [
    "<h3>Toy example experiment 6.18</h3>\n",
    "\n",
    "Use the magenpy GWASimulator based on RA's genotypes data (d1CM22_sorted.bed) to simulate phenotypes.  \n",
    "the heritibility = 0.5, (Gaussian Mixture Proportion)pi = [.85, .15]"
   ]
  },
  {
   "cell_type": "code",
   "execution_count": 2,
   "metadata": {},
   "outputs": [],
   "source": [
    "import numpy as np\n",
    "import pandas as pd\n",
    "import magenpy as mgp\n",
    "import viprs as vp\n",
    "import subprocess\n",
    "import io"
   ]
  },
  {
   "cell_type": "code",
   "execution_count": 2,
   "metadata": {},
   "outputs": [
    {
     "name": "stdout",
     "output_type": "stream",
     "text": [
      "> Reading BED file...\n",
      "> Generating polygenic scores...\n"
     ]
    },
    {
     "data": {
      "text/html": [
       "<div>\n",
       "<style scoped>\n",
       "    .dataframe tbody tr th:only-of-type {\n",
       "        vertical-align: middle;\n",
       "    }\n",
       "\n",
       "    .dataframe tbody tr th {\n",
       "        vertical-align: top;\n",
       "    }\n",
       "\n",
       "    .dataframe thead th {\n",
       "        text-align: right;\n",
       "    }\n",
       "</style>\n",
       "<table border=\"1\" class=\"dataframe\">\n",
       "  <thead>\n",
       "    <tr style=\"text-align: right;\">\n",
       "      <th></th>\n",
       "      <th>FID</th>\n",
       "      <th>IID</th>\n",
       "      <th>phenotype</th>\n",
       "    </tr>\n",
       "  </thead>\n",
       "  <tbody>\n",
       "    <tr>\n",
       "      <th>0</th>\n",
       "      <td>0</td>\n",
       "      <td>1721000</td>\n",
       "      <td>0.086540</td>\n",
       "    </tr>\n",
       "    <tr>\n",
       "      <th>1</th>\n",
       "      <td>0</td>\n",
       "      <td>1722000</td>\n",
       "      <td>-0.837612</td>\n",
       "    </tr>\n",
       "    <tr>\n",
       "      <th>2</th>\n",
       "      <td>0</td>\n",
       "      <td>1723000</td>\n",
       "      <td>-0.257485</td>\n",
       "    </tr>\n",
       "    <tr>\n",
       "      <th>3</th>\n",
       "      <td>0</td>\n",
       "      <td>1725000</td>\n",
       "      <td>1.127502</td>\n",
       "    </tr>\n",
       "    <tr>\n",
       "      <th>4</th>\n",
       "      <td>0</td>\n",
       "      <td>1726000</td>\n",
       "      <td>1.515211</td>\n",
       "    </tr>\n",
       "    <tr>\n",
       "      <th>...</th>\n",
       "      <td>...</td>\n",
       "      <td>...</td>\n",
       "      <td>...</td>\n",
       "    </tr>\n",
       "    <tr>\n",
       "      <th>172</th>\n",
       "      <td>0</td>\n",
       "      <td>1921000</td>\n",
       "      <td>0.183324</td>\n",
       "    </tr>\n",
       "    <tr>\n",
       "      <th>173</th>\n",
       "      <td>0</td>\n",
       "      <td>1922000</td>\n",
       "      <td>1.215019</td>\n",
       "    </tr>\n",
       "    <tr>\n",
       "      <th>174</th>\n",
       "      <td>0</td>\n",
       "      <td>1923000</td>\n",
       "      <td>0.757003</td>\n",
       "    </tr>\n",
       "    <tr>\n",
       "      <th>175</th>\n",
       "      <td>0</td>\n",
       "      <td>1924000</td>\n",
       "      <td>0.591174</td>\n",
       "    </tr>\n",
       "    <tr>\n",
       "      <th>176</th>\n",
       "      <td>0</td>\n",
       "      <td>1925000</td>\n",
       "      <td>-0.643670</td>\n",
       "    </tr>\n",
       "  </tbody>\n",
       "</table>\n",
       "<p>177 rows × 3 columns</p>\n",
       "</div>"
      ],
      "text/plain": [
       "    FID      IID  phenotype\n",
       "0     0  1721000   0.086540\n",
       "1     0  1722000  -0.837612\n",
       "2     0  1723000  -0.257485\n",
       "3     0  1725000   1.127502\n",
       "4     0  1726000   1.515211\n",
       "..   ..      ...        ...\n",
       "172   0  1921000   0.183324\n",
       "173   0  1922000   1.215019\n",
       "174   0  1923000   0.757003\n",
       "175   0  1924000   0.591174\n",
       "176   0  1925000  -0.643670\n",
       "\n",
       "[177 rows x 3 columns]"
      ]
     },
     "execution_count": 2,
     "metadata": {},
     "output_type": "execute_result"
    }
   ],
   "source": [
    "#simulate \n",
    "g_sim = mgp.GWASimulator(\"CMdream1/chr22/d1CM22_sorted\",\n",
    "                         pi = [.99, .01],\n",
    "                         h2=0.5)\n",
    "g_sim.simulate()\n",
    "g_sim.to_phenotype_table()"
   ]
  },
  {
   "cell_type": "code",
   "execution_count": 47,
   "metadata": {},
   "outputs": [
    {
     "data": {
      "text/html": [
       "<div>\n",
       "<style scoped>\n",
       "    .dataframe tbody tr th:only-of-type {\n",
       "        vertical-align: middle;\n",
       "    }\n",
       "\n",
       "    .dataframe tbody tr th {\n",
       "        vertical-align: top;\n",
       "    }\n",
       "\n",
       "    .dataframe thead th {\n",
       "        text-align: right;\n",
       "    }\n",
       "</style>\n",
       "<table border=\"1\" class=\"dataframe\">\n",
       "  <thead>\n",
       "    <tr style=\"text-align: right;\">\n",
       "      <th></th>\n",
       "      <th>0</th>\n",
       "      <th>1</th>\n",
       "      <th>2</th>\n",
       "      <th>3</th>\n",
       "      <th>4</th>\n",
       "      <th>5</th>\n",
       "    </tr>\n",
       "  </thead>\n",
       "  <tbody>\n",
       "    <tr>\n",
       "      <th>0</th>\n",
       "      <td>22</td>\n",
       "      <td>rs4911642</td>\n",
       "      <td>-11.277499</td>\n",
       "      <td>14884399</td>\n",
       "      <td>G</td>\n",
       "      <td>A</td>\n",
       "    </tr>\n",
       "    <tr>\n",
       "      <th>1</th>\n",
       "      <td>22</td>\n",
       "      <td>rs2027653</td>\n",
       "      <td>-7.277181</td>\n",
       "      <td>15298335</td>\n",
       "      <td>G</td>\n",
       "      <td>A</td>\n",
       "    </tr>\n",
       "    <tr>\n",
       "      <th>2</th>\n",
       "      <td>22</td>\n",
       "      <td>rs9605903</td>\n",
       "      <td>-5.959143</td>\n",
       "      <td>15434720</td>\n",
       "      <td>G</td>\n",
       "      <td>A</td>\n",
       "    </tr>\n",
       "    <tr>\n",
       "      <th>3</th>\n",
       "      <td>22</td>\n",
       "      <td>rs4819849</td>\n",
       "      <td>-5.013115</td>\n",
       "      <td>15532611</td>\n",
       "      <td>G</td>\n",
       "      <td>A</td>\n",
       "    </tr>\n",
       "    <tr>\n",
       "      <th>4</th>\n",
       "      <td>22</td>\n",
       "      <td>rs2845380</td>\n",
       "      <td>-4.525156</td>\n",
       "      <td>15583103</td>\n",
       "      <td>A</td>\n",
       "      <td>G</td>\n",
       "    </tr>\n",
       "    <tr>\n",
       "      <th>...</th>\n",
       "      <td>...</td>\n",
       "      <td>...</td>\n",
       "      <td>...</td>\n",
       "      <td>...</td>\n",
       "      <td>...</td>\n",
       "      <td>...</td>\n",
       "    </tr>\n",
       "    <tr>\n",
       "      <th>18287</th>\n",
       "      <td>22</td>\n",
       "      <td>rs3810648</td>\n",
       "      <td>75.083207</td>\n",
       "      <td>51175626</td>\n",
       "      <td>G</td>\n",
       "      <td>A</td>\n",
       "    </tr>\n",
       "    <tr>\n",
       "      <th>18288</th>\n",
       "      <td>22</td>\n",
       "      <td>rs2285395</td>\n",
       "      <td>75.085202</td>\n",
       "      <td>51178090</td>\n",
       "      <td>A</td>\n",
       "      <td>G</td>\n",
       "    </tr>\n",
       "    <tr>\n",
       "      <th>18289</th>\n",
       "      <td>22</td>\n",
       "      <td>rs2238837</td>\n",
       "      <td>75.111632</td>\n",
       "      <td>51212875</td>\n",
       "      <td>C</td>\n",
       "      <td>A</td>\n",
       "    </tr>\n",
       "    <tr>\n",
       "      <th>18290</th>\n",
       "      <td>22</td>\n",
       "      <td>rs34726907</td>\n",
       "      <td>75.112193</td>\n",
       "      <td>51213613</td>\n",
       "      <td>T</td>\n",
       "      <td>C</td>\n",
       "    </tr>\n",
       "    <tr>\n",
       "      <th>18291</th>\n",
       "      <td>22</td>\n",
       "      <td>rs28729663</td>\n",
       "      <td>75.116298</td>\n",
       "      <td>51219006</td>\n",
       "      <td>A</td>\n",
       "      <td>G</td>\n",
       "    </tr>\n",
       "  </tbody>\n",
       "</table>\n",
       "<p>18292 rows × 6 columns</p>\n",
       "</div>"
      ],
      "text/plain": [
       "        0           1          2         3  4  5\n",
       "0      22   rs4911642 -11.277499  14884399  G  A\n",
       "1      22   rs2027653  -7.277181  15298335  G  A\n",
       "2      22   rs9605903  -5.959143  15434720  G  A\n",
       "3      22   rs4819849  -5.013115  15532611  G  A\n",
       "4      22   rs2845380  -4.525156  15583103  A  G\n",
       "...    ..         ...        ...       ... .. ..\n",
       "18287  22   rs3810648  75.083207  51175626  G  A\n",
       "18288  22   rs2285395  75.085202  51178090  A  G\n",
       "18289  22   rs2238837  75.111632  51212875  C  A\n",
       "18290  22  rs34726907  75.112193  51213613  T  C\n",
       "18291  22  rs28729663  75.116298  51219006  A  G\n",
       "\n",
       "[18292 rows x 6 columns]"
      ]
     },
     "execution_count": 47,
     "metadata": {},
     "output_type": "execute_result"
    }
   ],
   "source": [
    "import pandas as pd\n",
    "pd.read_csv(\"CMAll_qced/chr22/ALL_CM_chr22.bim\", sep=\"\\t\", header=None)\n"
   ]
  },
  {
   "cell_type": "code",
   "execution_count": null,
   "metadata": {},
   "outputs": [],
   "source": []
  },
  {
   "cell_type": "code",
   "execution_count": 48,
   "metadata": {},
   "outputs": [
    {
     "name": "stdout",
     "output_type": "stream",
     "text": [
      "> Performing GWAS...\n"
     ]
    }
   ],
   "source": [
    "g_sim.perform_gwas()\n",
    "g_sim.to_summary_statistics_table().to_csv(\n",
    "    \"Toy_example_expr/d1CM22_sorted.sumstats\", sep=\"\\t\", index=False\n",
    ")"
   ]
  },
  {
   "cell_type": "code",
   "execution_count": 49,
   "metadata": {},
   "outputs": [
    {
     "name": "stdout",
     "output_type": "stream",
     "text": [
      "> Reading BED file...\n",
      "> Reading summary statistics file...\n",
      "> Harmonizing data...\n"
     ]
    }
   ],
   "source": [
    "# Load summary statistics（simulate phenotype from above) and match them with perviously\n",
    "gdl_sim = mgp.GWADataLoader(bed_files=\"CMdream1/chr22/d1CM22_sorted\",\n",
    "                            sumstats_files=\"Toy_example_expr/d1CM22_sorted.sumstats\",\n",
    "                            sumstats_format=\"magenpy\")"
   ]
  },
  {
   "cell_type": "code",
   "execution_count": 50,
   "metadata": {},
   "outputs": [
    {
     "data": {
      "text/html": [
       "<div>\n",
       "<style scoped>\n",
       "    .dataframe tbody tr th:only-of-type {\n",
       "        vertical-align: middle;\n",
       "    }\n",
       "\n",
       "    .dataframe tbody tr th {\n",
       "        vertical-align: top;\n",
       "    }\n",
       "\n",
       "    .dataframe thead th {\n",
       "        text-align: right;\n",
       "    }\n",
       "</style>\n",
       "<table border=\"1\" class=\"dataframe\">\n",
       "  <thead>\n",
       "    <tr style=\"text-align: right;\">\n",
       "      <th></th>\n",
       "      <th>0</th>\n",
       "      <th>1</th>\n",
       "      <th>2</th>\n",
       "      <th>3</th>\n",
       "      <th>4</th>\n",
       "      <th>5</th>\n",
       "      <th>6</th>\n",
       "      <th>7</th>\n",
       "      <th>8</th>\n",
       "      <th>9</th>\n",
       "      <th>10</th>\n",
       "    </tr>\n",
       "  </thead>\n",
       "  <tbody>\n",
       "    <tr>\n",
       "      <th>0</th>\n",
       "      <td>CHR</td>\n",
       "      <td>SNP</td>\n",
       "      <td>POS</td>\n",
       "      <td>A1</td>\n",
       "      <td>A2</td>\n",
       "      <td>MAF</td>\n",
       "      <td>N</td>\n",
       "      <td>BETA</td>\n",
       "      <td>Z</td>\n",
       "      <td>SE</td>\n",
       "      <td>PVAL</td>\n",
       "    </tr>\n",
       "    <tr>\n",
       "      <th>1</th>\n",
       "      <td>22</td>\n",
       "      <td>rs4911642</td>\n",
       "      <td>14884399</td>\n",
       "      <td>G</td>\n",
       "      <td>A</td>\n",
       "      <td>0.12721893491124261</td>\n",
       "      <td>169</td>\n",
       "      <td>-0.10066811602744873</td>\n",
       "      <td>-1.3086855083568336</td>\n",
       "      <td>0.07692307692307691</td>\n",
       "      <td>0.19064090255884392</td>\n",
       "    </tr>\n",
       "    <tr>\n",
       "      <th>2</th>\n",
       "      <td>22</td>\n",
       "      <td>rs2027653</td>\n",
       "      <td>15298335</td>\n",
       "      <td>G</td>\n",
       "      <td>A</td>\n",
       "      <td>0.3742690058479532</td>\n",
       "      <td>171</td>\n",
       "      <td>0.06575746971452175</td>\n",
       "      <td>0.8598904958056102</td>\n",
       "      <td>0.07647191129018724</td>\n",
       "      <td>0.38984940805409973</td>\n",
       "    </tr>\n",
       "    <tr>\n",
       "      <th>3</th>\n",
       "      <td>22</td>\n",
       "      <td>rs5747620</td>\n",
       "      <td>15412698</td>\n",
       "      <td>G</td>\n",
       "      <td>A</td>\n",
       "      <td>0.3953488372093023</td>\n",
       "      <td>172</td>\n",
       "      <td>-0.06470192859415928</td>\n",
       "      <td>-0.8485578383199547</td>\n",
       "      <td>0.07624928516630232</td>\n",
       "      <td>0.3961273759060673</td>\n",
       "    </tr>\n",
       "    <tr>\n",
       "      <th>4</th>\n",
       "      <td>22</td>\n",
       "      <td>rs5747968</td>\n",
       "      <td>15447504</td>\n",
       "      <td>C</td>\n",
       "      <td>A</td>\n",
       "      <td>0.3700564971751412</td>\n",
       "      <td>177</td>\n",
       "      <td>0.144060947338801</td>\n",
       "      <td>1.9166062477783603</td>\n",
       "      <td>0.07516460280028288</td>\n",
       "      <td>0.055287973686047466</td>\n",
       "    </tr>\n",
       "    <tr>\n",
       "      <th>...</th>\n",
       "      <td>...</td>\n",
       "      <td>...</td>\n",
       "      <td>...</td>\n",
       "      <td>...</td>\n",
       "      <td>...</td>\n",
       "      <td>...</td>\n",
       "      <td>...</td>\n",
       "      <td>...</td>\n",
       "      <td>...</td>\n",
       "      <td>...</td>\n",
       "      <td>...</td>\n",
       "    </tr>\n",
       "    <tr>\n",
       "      <th>7916</th>\n",
       "      <td>22</td>\n",
       "      <td>rs715586</td>\n",
       "      <td>49510004</td>\n",
       "      <td>A</td>\n",
       "      <td>G</td>\n",
       "      <td>0.14204545454545456</td>\n",
       "      <td>176</td>\n",
       "      <td>0.03129676816135106</td>\n",
       "      <td>0.4151985485677701</td>\n",
       "      <td>0.0753778361444409</td>\n",
       "      <td>0.67799656125441</td>\n",
       "    </tr>\n",
       "    <tr>\n",
       "      <th>7917</th>\n",
       "      <td>22</td>\n",
       "      <td>rs8137951</td>\n",
       "      <td>49512530</td>\n",
       "      <td>A</td>\n",
       "      <td>G</td>\n",
       "      <td>0.2768361581920904</td>\n",
       "      <td>177</td>\n",
       "      <td>0.053257697016744224</td>\n",
       "      <td>0.7085475746908861</td>\n",
       "      <td>0.07516460280028288</td>\n",
       "      <td>0.47860527923270757</td>\n",
       "    </tr>\n",
       "    <tr>\n",
       "      <th>7918</th>\n",
       "      <td>22</td>\n",
       "      <td>rs756638</td>\n",
       "      <td>49518559</td>\n",
       "      <td>A</td>\n",
       "      <td>G</td>\n",
       "      <td>0.2471590909090909</td>\n",
       "      <td>176</td>\n",
       "      <td>0.02591073316897566</td>\n",
       "      <td>0.3437447198580345</td>\n",
       "      <td>0.0753778361444409</td>\n",
       "      <td>0.731038276628504</td>\n",
       "    </tr>\n",
       "    <tr>\n",
       "      <th>7919</th>\n",
       "      <td>22</td>\n",
       "      <td>rs3810648</td>\n",
       "      <td>49522492</td>\n",
       "      <td>G</td>\n",
       "      <td>A</td>\n",
       "      <td>0.048295454545454544</td>\n",
       "      <td>176</td>\n",
       "      <td>0.06135576764892377</td>\n",
       "      <td>0.8139762400628258</td>\n",
       "      <td>0.0753778361444409</td>\n",
       "      <td>0.4156585625484429</td>\n",
       "    </tr>\n",
       "    <tr>\n",
       "      <th>7920</th>\n",
       "      <td>22</td>\n",
       "      <td>rs2285395</td>\n",
       "      <td>49524956</td>\n",
       "      <td>A</td>\n",
       "      <td>G</td>\n",
       "      <td>0.03954802259887006</td>\n",
       "      <td>177</td>\n",
       "      <td>0.059648179929215665</td>\n",
       "      <td>0.7935674201286563</td>\n",
       "      <td>0.07516460280028288</td>\n",
       "      <td>0.4274473054434068</td>\n",
       "    </tr>\n",
       "  </tbody>\n",
       "</table>\n",
       "<p>7921 rows × 11 columns</p>\n",
       "</div>"
      ],
      "text/plain": [
       "       0          1         2   3   4                     5    6   \\\n",
       "0     CHR        SNP       POS  A1  A2                   MAF    N   \n",
       "1      22  rs4911642  14884399   G   A   0.12721893491124261  169   \n",
       "2      22  rs2027653  15298335   G   A    0.3742690058479532  171   \n",
       "3      22  rs5747620  15412698   G   A    0.3953488372093023  172   \n",
       "4      22  rs5747968  15447504   C   A    0.3700564971751412  177   \n",
       "...   ...        ...       ...  ..  ..                   ...  ...   \n",
       "7916   22   rs715586  49510004   A   G   0.14204545454545456  176   \n",
       "7917   22  rs8137951  49512530   A   G    0.2768361581920904  177   \n",
       "7918   22   rs756638  49518559   A   G    0.2471590909090909  176   \n",
       "7919   22  rs3810648  49522492   G   A  0.048295454545454544  176   \n",
       "7920   22  rs2285395  49524956   A   G   0.03954802259887006  177   \n",
       "\n",
       "                        7                    8                    9   \\\n",
       "0                     BETA                    Z                   SE   \n",
       "1     -0.10066811602744873  -1.3086855083568336  0.07692307692307691   \n",
       "2      0.06575746971452175   0.8598904958056102  0.07647191129018724   \n",
       "3     -0.06470192859415928  -0.8485578383199547  0.07624928516630232   \n",
       "4        0.144060947338801   1.9166062477783603  0.07516460280028288   \n",
       "...                    ...                  ...                  ...   \n",
       "7916   0.03129676816135106   0.4151985485677701   0.0753778361444409   \n",
       "7917  0.053257697016744224   0.7085475746908861  0.07516460280028288   \n",
       "7918   0.02591073316897566   0.3437447198580345   0.0753778361444409   \n",
       "7919   0.06135576764892377   0.8139762400628258   0.0753778361444409   \n",
       "7920  0.059648179929215665   0.7935674201286563  0.07516460280028288   \n",
       "\n",
       "                        10  \n",
       "0                     PVAL  \n",
       "1      0.19064090255884392  \n",
       "2      0.38984940805409973  \n",
       "3       0.3961273759060673  \n",
       "4     0.055287973686047466  \n",
       "...                    ...  \n",
       "7916      0.67799656125441  \n",
       "7917   0.47860527923270757  \n",
       "7918     0.731038276628504  \n",
       "7919    0.4156585625484429  \n",
       "7920    0.4274473054434068  \n",
       "\n",
       "[7921 rows x 11 columns]"
      ]
     },
     "execution_count": 50,
     "metadata": {},
     "output_type": "execute_result"
    }
   ],
   "source": [
    "pd.read_csv(\"Toy_example_expr/d1CM22_sorted.sumstats\", sep=\"\\t\", header=None)"
   ]
  },
  {
   "cell_type": "code",
   "execution_count": 51,
   "metadata": {},
   "outputs": [
    {
     "name": "stdout",
     "output_type": "stream",
     "text": [
      "> Computing LD matrix...\n"
     ]
    }
   ],
   "source": [
    "gdl_sim.compute_ld(estimator='sample',\n",
    "                   output_dir='Toy_example_expr/out/ld/')\n",
    "# gdl_sim.compute_ld(estimator='windowed',\n",
    "#                    output_dir='Toy_example_expr/out/ld/',\n",
    "#                    window_size=100)"
   ]
  },
  {
   "cell_type": "code",
   "execution_count": 52,
   "metadata": {},
   "outputs": [
    {
     "data": {
      "text/plain": [
       "{22: <magenpy.LDMatrix.LDMatrix at 0x7f3f2848b770>}"
      ]
     },
     "execution_count": 52,
     "metadata": {},
     "output_type": "execute_result"
    }
   ],
   "source": [
    "# attempt to read the computed LD\n",
    "gdl_sim.load_ld()\n",
    "gdl_sim.ld"
   ]
  },
  {
   "cell_type": "code",
   "execution_count": 53,
   "metadata": {},
   "outputs": [
    {
     "name": "stdout",
     "output_type": "stream",
     "text": [
      "(7920, 7920)\n",
      "                                                      0\n",
      "0     [0.9548013806343079, -0.06386563181877136, -0....\n",
      "1     [-0.06386563181877136, 0.9661023020744324, 0.3...\n",
      "2     [-0.052265480160713196, 0.3649350702762604, 0....\n",
      "3     [0.11299331486225128, -0.08305802941322327, -0...\n",
      "4     [-0.03351875767111778, -0.10596761107444763, -...\n",
      "...                                                 ...\n",
      "7915  [-0.012802516110241413, 0.1283041536808014, 0....\n",
      "7916  [0.04243805631995201, 0.046246979385614395, -0...\n",
      "7917  [-0.015206963755190372, -0.09169330447912216, ...\n",
      "7918  [-0.015370112843811512, -0.10893985629081726, ...\n",
      "7919  [0.021045226603746414, -0.144325390458107, 0.0...\n",
      "\n",
      "[7920 rows x 1 columns]\n",
      "the first snp\n"
     ]
    },
    {
     "data": {
      "text/plain": [
       "array([ 0.95480138, -0.06386563, -0.05226548, ..., -0.01520696,\n",
       "       -0.01537011,  0.02104523])"
      ]
     },
     "execution_count": 53,
     "metadata": {},
     "output_type": "execute_result"
    }
   ],
   "source": [
    "i =  10\n",
    "d1_LD = mgp.LDMatrix.from_path(\"Toy_example_expr/out/ld/ld/chr_22\")\n",
    "# for i in range(0,7920):\n",
    "#     print(d1_LD[i].shape)\n",
    "\n",
    "print(d1_LD.shape)\n",
    "print(pd.DataFrame(d1_LD))\n",
    "print(\"the first snp\")\n",
    "d1_LD[0]"
   ]
  },
  {
   "attachments": {},
   "cell_type": "markdown",
   "metadata": {},
   "source": [
    "Use Viprs, initialize the viprs model based on the <code> gdl_sim model</code> containing the GWAS data and the LD matrix (using xarray method) for the chr22."
   ]
  },
  {
   "cell_type": "code",
   "execution_count": 54,
   "metadata": {},
   "outputs": [],
   "source": [
    "v = vp.VIPRS(gdl_sim)"
   ]
  },
  {
   "cell_type": "code",
   "execution_count": 55,
   "metadata": {},
   "outputs": [
    {
     "name": "stdout",
     "output_type": "stream",
     "text": [
      "> Initializing model parameters\n",
      "> Loading LD matrices into memory...\n",
      "> Performing model fit...\n",
      "> Using up to 1 threads.\n"
     ]
    },
    {
     "name": "stderr",
     "output_type": "stream",
     "text": [
      "  0%|          | 0/1000 [00:00<?, ?it/s]"
     ]
    },
    {
     "name": "stderr",
     "output_type": "stream",
     "text": [
      " 18%|█▊        | 176/1000 [00:23<01:49,  7.55it/s]"
     ]
    },
    {
     "name": "stdout",
     "output_type": "stream",
     "text": [
      "Converged at iteration 177 || ELBO: -251.237770\n",
      "> Final ELBO: -251.237770\n",
      "> Estimated heritability: 0.071972\n",
      "> Estimated proportion of causal variants: 0.058617\n"
     ]
    },
    {
     "name": "stderr",
     "output_type": "stream",
     "text": [
      "\n"
     ]
    },
    {
     "data": {
      "text/plain": [
       "<viprs.model.VIPRS.VIPRS at 0x7f3f676dd050>"
      ]
     },
     "execution_count": 55,
     "metadata": {},
     "output_type": "execute_result"
    }
   ],
   "source": [
    "v.fit()"
   ]
  },
  {
   "attachments": {},
   "cell_type": "markdown",
   "metadata": {},
   "source": [
    "For CMdream1/chr22/d1CM22_sorted, with <code> 177 patients</code> as samples.  \n",
    "Draw the ELBO as a function of iterations. "
   ]
  },
  {
   "cell_type": "code",
   "execution_count": 56,
   "metadata": {},
   "outputs": [
    {
     "data": {
      "image/png": "[encoded data removed]",
      "text/plain": [
       "<Figure size 640x480 with 1 Axes>"
      ]
     },
     "metadata": {},
     "output_type": "display_data"
    }
   ],
   "source": [
    "ELBO_list = v.history['ELBO']\n",
    "num = len(ELBO_list)\n",
    "\n",
    "#draw a plot Evidence lower bound as a function of EM iteration.\n",
    "import matplotlib.pyplot as plt\n",
    "plt.figure()\n",
    "plt.scatter(range(num), np.array(ELBO_list),s=15)\n",
    "plt.grid(which=\"major\",alpha=0.3)\n",
    "plt.xlabel(\"Iteration\")\n",
    "plt.ylabel(\"ELBO\")\n",
    "plt.title(\"Evidence lower bound as a function of EM iteration\")\n",
    "plt.show()"
   ]
  },
  {
   "cell_type": "code",
   "execution_count": 52,
   "metadata": {},
   "outputs": [
    {
     "name": "stdout",
     "output_type": "stream",
     "text": [
      "> Generating polygenic scores...\n",
      "177\n"
     ]
    },
    {
     "data": {
      "text/plain": [
       "array([ 0.02213294,  0.01030989, -0.04751134, -0.02520596, -0.06379665,\n",
       "       -0.01775891, -0.02176398,  0.00256278, -0.10202483, -0.00537966,\n",
       "       -0.00684736,  0.00431946, -0.03045196, -0.04494704,  0.06418788,\n",
       "        0.00809557, -0.11633428, -0.01611182,  0.03895207, -0.00493955,\n",
       "        0.05093899,  0.05104608,  0.0668653 , -0.04841749, -0.01554006,\n",
       "       -0.05011316,  0.07380084,  0.01592508, -0.06715295, -0.02340198,\n",
       "        0.02807839, -0.0182668 , -0.03962565,  0.07902709, -0.01807636,\n",
       "       -0.04922694, -0.02816407, -0.03047674, -0.00563501,  0.03402863,\n",
       "        0.03379095, -0.02213383,  0.01395097,  0.00212914, -0.01996996,\n",
       "        0.02835084,  0.03349162,  0.04290841,  0.06799205,  0.01611444,\n",
       "       -0.06164484, -0.00410113,  0.0529813 ,  0.05605356, -0.02774756,\n",
       "       -0.06209518, -0.06550636,  0.03983694, -0.037691  ,  0.10106089,\n",
       "        0.01048883, -0.06935535, -0.01111233,  0.03445681,  0.00406039,\n",
       "       -0.0373099 ,  0.07458643, -0.03387453,  0.05089663, -0.00353185,\n",
       "        0.01131135, -0.02057307, -0.0030944 , -0.12110181,  0.08458702,\n",
       "        0.00455458,  0.08003338, -0.05608846,  0.066734  ,  0.05081079,\n",
       "        0.0404644 ,  0.03780189,  0.07800965,  0.00609698,  0.04469488,\n",
       "        0.03330645, -0.01195352, -0.03840159, -0.04316965,  0.050971  ,\n",
       "        0.05037673, -0.04106802,  0.00742389, -0.06804536, -0.03664055,\n",
       "       -0.03634958,  0.05036119, -0.00839801,  0.07492016,  0.00811131,\n",
       "        0.09204013,  0.04285711, -0.02646606,  0.00446875, -0.04560208,\n",
       "        0.03936087,  0.04941796,  0.01287391,  0.05297261,  0.01112023,\n",
       "       -0.02304483, -0.06523149,  0.09523047, -0.02756811,  0.02649394,\n",
       "        0.02637304,  0.08777354, -0.0266978 ,  0.06908535,  0.03352931,\n",
       "       -0.06147075,  0.00527312,  0.03133623,  0.00557808,  0.01022772,\n",
       "       -0.01011206, -0.01618928, -0.00488488, -0.02123798, -0.0279567 ,\n",
       "       -0.01284127, -0.03438969, -0.08309956,  0.06185376,  0.01746639,\n",
       "        0.08623774,  0.01021331, -0.01377738,  0.06207442, -0.05984108,\n",
       "       -0.06333904,  0.00158352,  0.07078387,  0.04951647, -0.04108498,\n",
       "       -0.03117895,  0.03104129, -0.14182792, -0.08659374,  0.06829755,\n",
       "        0.07206038, -0.01908428,  0.00987695,  0.02171016,  0.00074502,\n",
       "        0.0542618 ,  0.02507919, -0.06978021,  0.03431601,  0.00966261,\n",
       "        0.00233579,  0.00629343,  0.01030712, -0.01586622,  0.00767716,\n",
       "        0.05402631, -0.0225065 ,  0.03752309, -0.02605149, -0.04231685,\n",
       "        0.02981813,  0.03479788, -0.0350647 , -0.09709657, -0.06074379,\n",
       "        0.07785505,  0.00259728])"
      ]
     },
     "execution_count": 52,
     "metadata": {},
     "output_type": "execute_result"
    }
   ],
   "source": [
    "# Once the model converges, we can generate PRS estimates \n",
    "prs_chr22 = v.predict()\n",
    "print(len(prs_chr22))\n",
    "prs_chr22"
   ]
  },
  {
   "cell_type": "code",
   "execution_count": 53,
   "metadata": {},
   "outputs": [
    {
     "data": {
      "text/html": [
       "<div>\n",
       "<style scoped>\n",
       "    .dataframe tbody tr th:only-of-type {\n",
       "        vertical-align: middle;\n",
       "    }\n",
       "\n",
       "    .dataframe tbody tr th {\n",
       "        vertical-align: top;\n",
       "    }\n",
       "\n",
       "    .dataframe thead th {\n",
       "        text-align: right;\n",
       "    }\n",
       "</style>\n",
       "<table border=\"1\" class=\"dataframe\">\n",
       "  <thead>\n",
       "    <tr style=\"text-align: right;\">\n",
       "      <th></th>\n",
       "      <th>CHR</th>\n",
       "      <th>SNP</th>\n",
       "      <th>A1</th>\n",
       "      <th>A2</th>\n",
       "      <th>BETA</th>\n",
       "      <th>PIP</th>\n",
       "      <th>VAR_BETA</th>\n",
       "    </tr>\n",
       "  </thead>\n",
       "  <tbody>\n",
       "    <tr>\n",
       "      <th>0</th>\n",
       "      <td>22</td>\n",
       "      <td>rs4911642</td>\n",
       "      <td>G</td>\n",
       "      <td>A</td>\n",
       "      <td>0.000154</td>\n",
       "      <td>0.028844</td>\n",
       "      <td>0.000010</td>\n",
       "    </tr>\n",
       "    <tr>\n",
       "      <th>1</th>\n",
       "      <td>22</td>\n",
       "      <td>rs2027653</td>\n",
       "      <td>G</td>\n",
       "      <td>A</td>\n",
       "      <td>0.000106</td>\n",
       "      <td>0.028192</td>\n",
       "      <td>0.000009</td>\n",
       "    </tr>\n",
       "    <tr>\n",
       "      <th>2</th>\n",
       "      <td>22</td>\n",
       "      <td>rs5747620</td>\n",
       "      <td>G</td>\n",
       "      <td>A</td>\n",
       "      <td>-0.000139</td>\n",
       "      <td>0.028604</td>\n",
       "      <td>0.000010</td>\n",
       "    </tr>\n",
       "    <tr>\n",
       "      <th>3</th>\n",
       "      <td>22</td>\n",
       "      <td>rs5747968</td>\n",
       "      <td>C</td>\n",
       "      <td>A</td>\n",
       "      <td>0.000036</td>\n",
       "      <td>0.027630</td>\n",
       "      <td>0.000009</td>\n",
       "    </tr>\n",
       "    <tr>\n",
       "      <th>4</th>\n",
       "      <td>22</td>\n",
       "      <td>rs2236639</td>\n",
       "      <td>A</td>\n",
       "      <td>G</td>\n",
       "      <td>-0.000152</td>\n",
       "      <td>0.028781</td>\n",
       "      <td>0.000010</td>\n",
       "    </tr>\n",
       "    <tr>\n",
       "      <th>...</th>\n",
       "      <td>...</td>\n",
       "      <td>...</td>\n",
       "      <td>...</td>\n",
       "      <td>...</td>\n",
       "      <td>...</td>\n",
       "      <td>...</td>\n",
       "      <td>...</td>\n",
       "    </tr>\n",
       "    <tr>\n",
       "      <th>7915</th>\n",
       "      <td>22</td>\n",
       "      <td>rs715586</td>\n",
       "      <td>A</td>\n",
       "      <td>G</td>\n",
       "      <td>0.000088</td>\n",
       "      <td>0.027993</td>\n",
       "      <td>0.000009</td>\n",
       "    </tr>\n",
       "    <tr>\n",
       "      <th>7916</th>\n",
       "      <td>22</td>\n",
       "      <td>rs8137951</td>\n",
       "      <td>A</td>\n",
       "      <td>G</td>\n",
       "      <td>-0.000093</td>\n",
       "      <td>0.028034</td>\n",
       "      <td>0.000009</td>\n",
       "    </tr>\n",
       "    <tr>\n",
       "      <th>7917</th>\n",
       "      <td>22</td>\n",
       "      <td>rs756638</td>\n",
       "      <td>A</td>\n",
       "      <td>G</td>\n",
       "      <td>-0.000034</td>\n",
       "      <td>0.027630</td>\n",
       "      <td>0.000009</td>\n",
       "    </tr>\n",
       "    <tr>\n",
       "      <th>7918</th>\n",
       "      <td>22</td>\n",
       "      <td>rs3810648</td>\n",
       "      <td>G</td>\n",
       "      <td>A</td>\n",
       "      <td>-0.000248</td>\n",
       "      <td>0.030528</td>\n",
       "      <td>0.000011</td>\n",
       "    </tr>\n",
       "    <tr>\n",
       "      <th>7919</th>\n",
       "      <td>22</td>\n",
       "      <td>rs2285395</td>\n",
       "      <td>A</td>\n",
       "      <td>G</td>\n",
       "      <td>-0.000256</td>\n",
       "      <td>0.030706</td>\n",
       "      <td>0.000012</td>\n",
       "    </tr>\n",
       "  </tbody>\n",
       "</table>\n",
       "<p>7920 rows × 7 columns</p>\n",
       "</div>"
      ],
      "text/plain": [
       "      CHR        SNP A1 A2      BETA       PIP  VAR_BETA\n",
       "0      22  rs4911642  G  A  0.000154  0.028844  0.000010\n",
       "1      22  rs2027653  G  A  0.000106  0.028192  0.000009\n",
       "2      22  rs5747620  G  A -0.000139  0.028604  0.000010\n",
       "3      22  rs5747968  C  A  0.000036  0.027630  0.000009\n",
       "4      22  rs2236639  A  G -0.000152  0.028781  0.000010\n",
       "...   ...        ... .. ..       ...       ...       ...\n",
       "7915   22   rs715586  A  G  0.000088  0.027993  0.000009\n",
       "7916   22  rs8137951  A  G -0.000093  0.028034  0.000009\n",
       "7917   22   rs756638  A  G -0.000034  0.027630  0.000009\n",
       "7918   22  rs3810648  G  A -0.000248  0.030528  0.000011\n",
       "7919   22  rs2285395  A  G -0.000256  0.030706  0.000012\n",
       "\n",
       "[7920 rows x 7 columns]"
      ]
     },
     "execution_count": 53,
     "metadata": {},
     "output_type": "execute_result"
    }
   ],
   "source": [
    "# To examine posterior estimates for the model parameters, you can simply invoke the .to_table() method:\n",
    "v.to_table()"
   ]
  },
  {
   "attachments": {},
   "cell_type": "markdown",
   "metadata": {},
   "source": [
    "<code>Validation</code> use another the simulate phenotype still on the d1chr22_sorted.bed as the validation part. "
   ]
  },
  {
   "cell_type": "code",
   "execution_count": 54,
   "metadata": {},
   "outputs": [
    {
     "name": "stdout",
     "output_type": "stream",
     "text": [
      "> Reading BED file...\n",
      "> Generating polygenic scores...\n"
     ]
    },
    {
     "name": "stdout",
     "output_type": "stream",
     "text": [
      "> Performing GWAS...\n",
      "> Reading BED file...\n",
      "> Reading phenotype file...\n",
      "> Reading summary statistics file...\n",
      "> Harmonizing data...\n",
      "> Computing LD matrix...\n"
     ]
    }
   ],
   "source": [
    "#simulate \n",
    "g2_sim = mgp.GWASimulator(\"CMdream1/chr22/d1CM22_sorted\",\n",
    "                         pi = [.99, .01],\n",
    "                         h2=0.5)\n",
    "g2_sim.simulate()\n",
    "a = g2_sim.to_phenotype_table()\n",
    "a.to_csv(\"Toy_example_expr/phenotype/g2_sim_pheno.txt\",sep='\\t', index=False, header=False)\n",
    "g2_sim.perform_gwas()\n",
    "g2_sim.to_summary_statistics_table().to_csv(\n",
    "    \"Toy_example_expr/d1CM22_sorted_valid.sumstats\", sep=\"\\t\", index=False\n",
    ")\n",
    "\n",
    "# Load summary statistics（simulate phenotype from above) and match them with perviously\n",
    "gdl2_sim = mgp.GWADataLoader(bed_files=\"CMdream1/chr22/d1CM22_sorted\",\n",
    "                            phenotype_file=\"Toy_example_expr/phenotype/g2_sim_pheno.txt\",\n",
    "                            sumstats_files=\"Toy_example_expr/d1CM22_sorted_valid.sumstats\",\n",
    "                            sumstats_format=\"magenpy\")\n",
    "gdl2_sim.compute_ld(estimator='sample',\n",
    "                   output_dir='Toy_example_expr/out/ld_val/')\n"
   ]
  },
  {
   "cell_type": "code",
   "execution_count": 55,
   "metadata": {},
   "outputs": [
    {
     "name": "stdout",
     "output_type": "stream",
     "text": [
      "> Generating polygenic scores...\n"
     ]
    }
   ],
   "source": [
    "val_prs = v.predict(gdl2_sim)"
   ]
  },
  {
   "cell_type": "code",
   "execution_count": 56,
   "metadata": {},
   "outputs": [
    {
     "data": {
      "text/plain": [
       "0.0009120644422682458"
      ]
     },
     "execution_count": 56,
     "metadata": {},
     "output_type": "execute_result"
    }
   ],
   "source": [
    "from viprs.eval.metrics import r2 \n",
    "r2(val_prs, gdl2_sim.sample_table.phenotype)"
   ]
  },
  {
   "attachments": {},
   "cell_type": "markdown",
   "metadata": {},
   "source": [
    "Validation use the chr22 genotypes in <code> dream2 </code> file sets.  \n",
    "Do the same steps as before to got <code>\"CMdream2/chr22/d2CM22_sorted\"</code> binary file sets (.bed + .fam + .bim).  \n",
    "Sorted the SNPs from dream2 for chromosome 22 and add CM values to it. "
   ]
  },
  {
   "cell_type": "code",
   "execution_count": null,
   "metadata": {},
   "outputs": [],
   "source": [
    "d2_bim = pd.read_csv(\"data/RA_challenge_qced_genotypes/dream2.bim\", sep=\"\\t\", header=None)\n",
    "d2_filter_bim = d2_bim[d2_bim[0] ==22][1]\n",
    "d2_sorted_chr22 = d2_filter_bim.sort_values()\n",
    "d2_sorted_chr22.to_csv(\"CMdream2/d2_sorted_chr22_bim.txt\", header=False,\n",
    "                       index=False, sep=\"\\t\")"
   ]
  },
  {
   "cell_type": "code",
   "execution_count": 6,
   "metadata": {},
   "outputs": [
    {
     "name": "stdout",
     "output_type": "stream",
     "text": [
      "> Reading BED file...\n",
      "> Generating polygenic scores...\n",
      "> Performing GWAS...\n",
      "> Reading BED file...\n",
      "> Reading phenotype file...\n",
      "> Reading summary statistics file...\n",
      "> Harmonizing data...\n",
      "> Computing LD matrix...\n"
     ]
    },
    {
     "name": "stderr",
     "output_type": "stream",
     "text": [
      "Exception ignored in: <finalize object at 0x7fbdb8453070; dead>\n",
      "Traceback (most recent call last):\n",
      "  File \"/usr/lib/python3.7/weakref.py\", line 572, in __call__\n",
      "    return info.func(*info.args, **(info.kwargs or {}))\n",
      "  File \"/usr/lib/python3.7/tempfile.py\", line 934, in _cleanup\n",
      "    _rmtree(name)\n",
      "  File \"/usr/lib/python3.7/shutil.py\", line 485, in rmtree\n",
      "    onerror(os.lstat, path, sys.exc_info())\n",
      "  File \"/usr/lib/python3.7/shutil.py\", line 483, in rmtree\n",
      "    orig_st = os.lstat(path)\n",
      "FileNotFoundError: [Errno 2] No such file or directory: 'temp/ld_ca2vps9q'\n"
     ]
    },
    {
     "name": "stdout",
     "output_type": "stream",
     "text": [
      "7819 (2606, None)\n"
     ]
    },
    {
     "name": "stderr",
     "output_type": "stream",
     "text": [
      "/home/mcb/users/yzhu439/RA_Project/.venv/lib/python3.7/site-packages/scipy/sparse/_index.py:125: SparseEfficiencyWarning: Changing the sparsity structure of a csr_matrix is expensive. lil_matrix is more efficient.\n",
      "  self._set_arrayXarray(i, j, x)\n"
     ]
    },
    {
     "ename": "ValueError",
     "evalue": "Invalid LD Matrix: Element 0 does not have matching LD boundaries!",
     "output_type": "error",
     "traceback": [
      "\u001b[0;31m---------------------------------------------------------------------------\u001b[0m",
      "\u001b[0;31mValueError\u001b[0m                                Traceback (most recent call last)",
      "\u001b[0;32m/tmp/ipykernel_7894/2363644467.py\u001b[0m in \u001b[0;36m<module>\u001b[0;34m\u001b[0m\n\u001b[1;32m     20\u001b[0m                             backend=\"plink\")\n\u001b[1;32m     21\u001b[0m gdl3_sim.compute_ld(estimator='sample',\n\u001b[0;32m---> 22\u001b[0;31m                    output_dir='Toy_example_expr/d2chr22_out/ld_val/')\n\u001b[0m",
      "\u001b[0;32m~/RA_Project/.venv/lib/python3.7/site-packages/magenpy/GWADataLoader.py\u001b[0m in \u001b[0;36mcompute_ld\u001b[0;34m(self, estimator, output_dir, **ld_kwargs)\u001b[0m\n\u001b[1;32m    561\u001b[0m                              \u001b[0mtotal\u001b[0m\u001b[0;34m=\u001b[0m\u001b[0mlen\u001b[0m\u001b[0;34m(\u001b[0m\u001b[0mself\u001b[0m\u001b[0;34m.\u001b[0m\u001b[0mgenotype\u001b[0m\u001b[0;34m)\u001b[0m\u001b[0;34m,\u001b[0m\u001b[0;34m\u001b[0m\u001b[0;34m\u001b[0m\u001b[0m\n\u001b[1;32m    562\u001b[0m                              \u001b[0mdesc\u001b[0m\u001b[0;34m=\u001b[0m\u001b[0;34m'Computing LD matrices'\u001b[0m\u001b[0;34m,\u001b[0m\u001b[0;34m\u001b[0m\u001b[0;34m\u001b[0m\u001b[0m\n\u001b[0;32m--> 563\u001b[0;31m                              disable=not self.verbose or len(self.genotype) < 2)\n\u001b[0m\u001b[1;32m    564\u001b[0m         }\n\u001b[1;32m    565\u001b[0m \u001b[0;34m\u001b[0m\u001b[0m\n",
      "\u001b[0;32m~/RA_Project/.venv/lib/python3.7/site-packages/magenpy/GWADataLoader.py\u001b[0m in \u001b[0;36m<dictcomp>\u001b[0;34m(.0)\u001b[0m\n\u001b[1;32m    558\u001b[0m         self.ld = {\n\u001b[1;32m    559\u001b[0m             \u001b[0mc\u001b[0m\u001b[0;34m:\u001b[0m \u001b[0mg\u001b[0m\u001b[0;34m.\u001b[0m\u001b[0mcompute_ld\u001b[0m\u001b[0;34m(\u001b[0m\u001b[0mestimator\u001b[0m\u001b[0;34m,\u001b[0m \u001b[0moutput_dir\u001b[0m\u001b[0;34m,\u001b[0m \u001b[0;34m**\u001b[0m\u001b[0mld_kwargs\u001b[0m\u001b[0;34m)\u001b[0m\u001b[0;34m\u001b[0m\u001b[0;34m\u001b[0m\u001b[0m\n\u001b[0;32m--> 560\u001b[0;31m             for c, g in tqdm(sorted(self.genotype.items(), key=lambda x: x[0]),\n\u001b[0m\u001b[1;32m    561\u001b[0m                              \u001b[0mtotal\u001b[0m\u001b[0;34m=\u001b[0m\u001b[0mlen\u001b[0m\u001b[0;34m(\u001b[0m\u001b[0mself\u001b[0m\u001b[0;34m.\u001b[0m\u001b[0mgenotype\u001b[0m\u001b[0;34m)\u001b[0m\u001b[0;34m,\u001b[0m\u001b[0;34m\u001b[0m\u001b[0;34m\u001b[0m\u001b[0m\n\u001b[1;32m    562\u001b[0m                              \u001b[0mdesc\u001b[0m\u001b[0;34m=\u001b[0m\u001b[0;34m'Computing LD matrices'\u001b[0m\u001b[0;34m,\u001b[0m\u001b[0;34m\u001b[0m\u001b[0;34m\u001b[0m\u001b[0m\n",
      "\u001b[0;32m~/RA_Project/.venv/lib/python3.7/site-packages/magenpy/GenotypeMatrix.py\u001b[0m in \u001b[0;36mcompute_ld\u001b[0;34m(self, estimator, output_dir, **ld_kwargs)\u001b[0m\n\u001b[1;32m    258\u001b[0m         \u001b[0mself\u001b[0m\u001b[0;34m.\u001b[0m\u001b[0mcleanup_dir_list\u001b[0m\u001b[0;34m.\u001b[0m\u001b[0mappend\u001b[0m\u001b[0;34m(\u001b[0m\u001b[0mtmp_ld_dir\u001b[0m\u001b[0;34m)\u001b[0m\u001b[0;34m\u001b[0m\u001b[0;34m\u001b[0m\u001b[0m\n\u001b[1;32m    259\u001b[0m \u001b[0;34m\u001b[0m\u001b[0m\n\u001b[0;32m--> 260\u001b[0;31m         \u001b[0;32mreturn\u001b[0m \u001b[0mld_est\u001b[0m\u001b[0;34m.\u001b[0m\u001b[0mcompute\u001b[0m\u001b[0;34m(\u001b[0m\u001b[0moutput_dir\u001b[0m\u001b[0;34m,\u001b[0m \u001b[0mtemp_dir\u001b[0m\u001b[0;34m=\u001b[0m\u001b[0mtmp_ld_dir\u001b[0m\u001b[0;34m.\u001b[0m\u001b[0mname\u001b[0m\u001b[0;34m)\u001b[0m\u001b[0;34m\u001b[0m\u001b[0;34m\u001b[0m\u001b[0m\n\u001b[0m\u001b[1;32m    261\u001b[0m \u001b[0;34m\u001b[0m\u001b[0m\n\u001b[1;32m    262\u001b[0m     \u001b[0;32mdef\u001b[0m \u001b[0mset_sample_table\u001b[0m\u001b[0;34m(\u001b[0m\u001b[0mself\u001b[0m\u001b[0;34m,\u001b[0m \u001b[0msample_table\u001b[0m\u001b[0;34m)\u001b[0m\u001b[0;34m:\u001b[0m\u001b[0;34m\u001b[0m\u001b[0;34m\u001b[0m\u001b[0m\n",
      "\u001b[0;32m~/RA_Project/.venv/lib/python3.7/site-packages/magenpy/stats/ld/estimator.py\u001b[0m in \u001b[0;36mcompute\u001b[0;34m(self, output_dir, temp_dir)\u001b[0m\n\u001b[1;32m     88\u001b[0m         \u001b[0mld_mat\u001b[0m\u001b[0;34m.\u001b[0m\u001b[0mset_store_attr\u001b[0m\u001b[0;34m(\u001b[0m\u001b[0;34m'LDScore'\u001b[0m\u001b[0;34m,\u001b[0m \u001b[0mld_mat\u001b[0m\u001b[0;34m.\u001b[0m\u001b[0mcompute_ld_scores\u001b[0m\u001b[0;34m(\u001b[0m\u001b[0;34m)\u001b[0m\u001b[0;34m.\u001b[0m\u001b[0mtolist\u001b[0m\u001b[0;34m(\u001b[0m\u001b[0;34m)\u001b[0m\u001b[0;34m)\u001b[0m\u001b[0;34m\u001b[0m\u001b[0;34m\u001b[0m\u001b[0m\n\u001b[1;32m     89\u001b[0m \u001b[0;34m\u001b[0m\u001b[0m\n\u001b[0;32m---> 90\u001b[0;31m         \u001b[0;32mif\u001b[0m \u001b[0m_validate_ld_matrix\u001b[0m\u001b[0;34m(\u001b[0m\u001b[0mld_mat\u001b[0m\u001b[0;34m)\u001b[0m\u001b[0;34m:\u001b[0m\u001b[0;34m\u001b[0m\u001b[0;34m\u001b[0m\u001b[0m\n\u001b[0m\u001b[1;32m     91\u001b[0m             \u001b[0;32mreturn\u001b[0m \u001b[0mld_mat\u001b[0m\u001b[0;34m\u001b[0m\u001b[0;34m\u001b[0m\u001b[0m\n\u001b[1;32m     92\u001b[0m \u001b[0;34m\u001b[0m\u001b[0m\n",
      "\u001b[0;32m~/RA_Project/.venv/lib/python3.7/site-packages/magenpy/stats/ld/utils.py\u001b[0m in \u001b[0;36m_validate_ld_matrix\u001b[0;34m(ld_mat)\u001b[0m\n\u001b[1;32m     43\u001b[0m     \u001b[0;32mfor\u001b[0m \u001b[0mi\u001b[0m\u001b[0;34m,\u001b[0m \u001b[0md\u001b[0m \u001b[0;32min\u001b[0m \u001b[0menumerate\u001b[0m\u001b[0;34m(\u001b[0m\u001b[0mld_mat\u001b[0m\u001b[0;34m)\u001b[0m\u001b[0;34m:\u001b[0m\u001b[0;34m\u001b[0m\u001b[0;34m\u001b[0m\u001b[0m\n\u001b[1;32m     44\u001b[0m         \u001b[0;32mif\u001b[0m \u001b[0mlen\u001b[0m\u001b[0;34m(\u001b[0m\u001b[0md\u001b[0m\u001b[0;34m)\u001b[0m \u001b[0;34m!=\u001b[0m \u001b[0mld_block_lengths\u001b[0m\u001b[0;34m[\u001b[0m\u001b[0mi\u001b[0m\u001b[0;34m]\u001b[0m\u001b[0;34m:\u001b[0m\u001b[0;34m\u001b[0m\u001b[0;34m\u001b[0m\u001b[0m\n\u001b[0;32m---> 45\u001b[0;31m             \u001b[0;32mraise\u001b[0m \u001b[0mValueError\u001b[0m\u001b[0;34m(\u001b[0m\u001b[0;34mf\"Invalid LD Matrix: Element {i} does not have matching LD boundaries!\"\u001b[0m\u001b[0;34m)\u001b[0m\u001b[0;34m\u001b[0m\u001b[0;34m\u001b[0m\u001b[0m\n\u001b[0m\u001b[1;32m     46\u001b[0m \u001b[0;34m\u001b[0m\u001b[0m\n\u001b[1;32m     47\u001b[0m     \u001b[0;32mif\u001b[0m \u001b[0mi\u001b[0m \u001b[0;34m!=\u001b[0m \u001b[0;34m(\u001b[0m\u001b[0mld_mat\u001b[0m\u001b[0;34m.\u001b[0m\u001b[0mn_elements\u001b[0m \u001b[0;34m-\u001b[0m \u001b[0;36m1\u001b[0m\u001b[0;34m)\u001b[0m\u001b[0;34m:\u001b[0m\u001b[0;34m\u001b[0m\u001b[0;34m\u001b[0m\u001b[0m\n",
      "\u001b[0;31mValueError\u001b[0m: Invalid LD Matrix: Element 0 does not have matching LD boundaries!"
     ]
    }
   ],
   "source": [
    "# Use simulate method to create phenotpyes \n",
    "#simulate \n",
    "# CMdream2/chr22/d2CM22_sorted\n",
    "g3_sim = mgp.GWASimulator(\"CMdream2/chr22/d2CM22_sorted\",\n",
    "                         pi = [.85, .15],\n",
    "                         h2=0.5)\n",
    "g3_sim.simulate()\n",
    "a = g3_sim.to_phenotype_table()\n",
    "a.to_csv(\"Toy_example_expr/phenotype/val_d2chr22_pheno.txt\",sep='\\t', index=False, header=False)\n",
    "g3_sim.perform_gwas()\n",
    "g3_sim.to_summary_statistics_table().to_csv(\n",
    "    \"Toy_example_expr/val_d2chr22_valid.sumstats\", sep=\"\\t\", index=False\n",
    ")\n",
    "\n",
    "# Load summary statistics（simulate phenotype from above) and match them with perviously\n",
    "gdl3_sim = mgp.GWADataLoader(bed_files=\"CMdream2/chr22/d2CM22_sorted\",\n",
    "                            phenotype_file=\"Toy_example_expr/phenotype/val_d2chr22_pheno.txt\",\n",
    "                            sumstats_files=\"Toy_example_expr/val_d2chr22_valid.sumstats\",\n",
    "                            sumstats_format=\"magenpy\",\n",
    "                            backend=\"plink\")\n",
    "gdl3_sim.compute_ld(estimator='sample',\n",
    "                   output_dir='Toy_example_expr/d2chr22_out/ld_val/')"
   ]
  },
  {
   "cell_type": "code",
   "execution_count": null,
   "metadata": {},
   "outputs": [
    {
     "name": "stdout",
     "output_type": "stream",
     "text": [
      "> Generating polygenic scores...\n"
     ]
    }
   ],
   "source": [
    "val2_prs = v.predict(gdl3_sim)"
   ]
  },
  {
   "cell_type": "code",
   "execution_count": null,
   "metadata": {},
   "outputs": [
    {
     "data": {
      "text/plain": [
       "0.011801941348497371"
      ]
     },
     "execution_count": 163,
     "metadata": {},
     "output_type": "execute_result"
    }
   ],
   "source": [
    "#To evaluate the accuracy of the polygenic score, \n",
    "# you can use some of the provided metrics with the viprs package. \n",
    "# For quantitative traits, it is customary to report the prediction R^2, \n",
    "# or the proportion of variance explained by the PRS:\n",
    "r2(val2_prs, gdl3_sim.sample_table.phenotype)"
   ]
  },
  {
   "cell_type": "code",
   "execution_count": null,
   "metadata": {},
   "outputs": [
    {
     "name": "stdout",
     "output_type": "stream",
     "text": [
      "> Reading BED file...\n"
     ]
    },
    {
     "name": "stderr",
     "output_type": "stream",
     "text": [
      "Generating polygenic scores: 100%|██████████| 27/27 [00:06<00:00,  4.33it/s]\n"
     ]
    }
   ],
   "source": [
    "#simulate \n",
    "g2_sim = mgp.GWASimulator(\"data/RA_challenge_qced_genotypes/dream3\",\n",
    "                         pi = [.85, .15],\n",
    "                         h2=0.5)\n",
    "g2_sim.simulate()\n",
    "a = g2_sim.to_phenotype_table()"
   ]
  },
  {
   "cell_type": "code",
   "execution_count": null,
   "metadata": {},
   "outputs": [
    {
     "data": {
      "text/html": [
       "<div>\n",
       "<style scoped>\n",
       "    .dataframe tbody tr th:only-of-type {\n",
       "        vertical-align: middle;\n",
       "    }\n",
       "\n",
       "    .dataframe tbody tr th {\n",
       "        vertical-align: top;\n",
       "    }\n",
       "\n",
       "    .dataframe thead th {\n",
       "        text-align: right;\n",
       "    }\n",
       "</style>\n",
       "<table border=\"1\" class=\"dataframe\">\n",
       "  <thead>\n",
       "    <tr style=\"text-align: right;\">\n",
       "      <th></th>\n",
       "      <th>FID</th>\n",
       "      <th>IID</th>\n",
       "      <th>phenotype</th>\n",
       "    </tr>\n",
       "  </thead>\n",
       "  <tbody>\n",
       "    <tr>\n",
       "      <th>0</th>\n",
       "      <td>0</td>\n",
       "      <td>2280000</td>\n",
       "      <td>-1.159332</td>\n",
       "    </tr>\n",
       "    <tr>\n",
       "      <th>1</th>\n",
       "      <td>0</td>\n",
       "      <td>2282000</td>\n",
       "      <td>0.457723</td>\n",
       "    </tr>\n",
       "    <tr>\n",
       "      <th>2</th>\n",
       "      <td>0</td>\n",
       "      <td>2283000</td>\n",
       "      <td>0.709957</td>\n",
       "    </tr>\n",
       "    <tr>\n",
       "      <th>3</th>\n",
       "      <td>0</td>\n",
       "      <td>2284000</td>\n",
       "      <td>-0.482596</td>\n",
       "    </tr>\n",
       "    <tr>\n",
       "      <th>4</th>\n",
       "      <td>0</td>\n",
       "      <td>2285000</td>\n",
       "      <td>0.660879</td>\n",
       "    </tr>\n",
       "    <tr>\n",
       "      <th>...</th>\n",
       "      <td>...</td>\n",
       "      <td>...</td>\n",
       "      <td>...</td>\n",
       "    </tr>\n",
       "    <tr>\n",
       "      <th>412</th>\n",
       "      <td>0</td>\n",
       "      <td>2767000</td>\n",
       "      <td>-1.817492</td>\n",
       "    </tr>\n",
       "    <tr>\n",
       "      <th>413</th>\n",
       "      <td>0</td>\n",
       "      <td>2768000</td>\n",
       "      <td>-0.738611</td>\n",
       "    </tr>\n",
       "    <tr>\n",
       "      <th>414</th>\n",
       "      <td>0</td>\n",
       "      <td>2769000</td>\n",
       "      <td>-0.103463</td>\n",
       "    </tr>\n",
       "    <tr>\n",
       "      <th>415</th>\n",
       "      <td>0</td>\n",
       "      <td>2770000</td>\n",
       "      <td>-1.178744</td>\n",
       "    </tr>\n",
       "    <tr>\n",
       "      <th>416</th>\n",
       "      <td>0</td>\n",
       "      <td>2772000</td>\n",
       "      <td>0.305074</td>\n",
       "    </tr>\n",
       "  </tbody>\n",
       "</table>\n",
       "<p>417 rows × 3 columns</p>\n",
       "</div>"
      ],
      "text/plain": [
       "    FID      IID  phenotype\n",
       "0     0  2280000  -1.159332\n",
       "1     0  2282000   0.457723\n",
       "2     0  2283000   0.709957\n",
       "3     0  2284000  -0.482596\n",
       "4     0  2285000   0.660879\n",
       "..   ..      ...        ...\n",
       "412   0  2767000  -1.817492\n",
       "413   0  2768000  -0.738611\n",
       "414   0  2769000  -0.103463\n",
       "415   0  2770000  -1.178744\n",
       "416   0  2772000   0.305074\n",
       "\n",
       "[417 rows x 3 columns]"
      ]
     },
     "execution_count": 10,
     "metadata": {},
     "output_type": "execute_result"
    }
   ],
   "source": [
    "a"
   ]
  },
  {
   "attachments": {},
   "cell_type": "markdown",
   "metadata": {},
   "source": [
    "<h3>June 24th repeat above experiment with the ALL_CM_chr22 data</h3>\n",
    "\n",
    "*With changing fix-parameters in June 28th*\n",
    "\n",
    "We checked dream1,2,3 binary files they contain <code>880</code> patients in total. To get the <code>2706 patients</code> we need to <code>merge all</code> RA_challenge_qced_genotypes data together. \n",
    "\n",
    "We used the command below to created merge files:  \n",
    "<code>cd data/RA_challenge_qced_genotypes && bash ../utils/mergeSNPS.sh</code>  \n",
    "The last file <code> merge10 </code> is the complete file that contains all 11 experiments data, which sums up to 2706 patients.  \n",
    "\n",
    "Therefore, we can use the <code> merge10.bed + .bim + .fam </code> files to repeat our experiments with magenpy and viprs use the simulator. \n",
    "\n",
    "For below, we selected the <code>ALL_CM_chr22 binary files </code>, which is the information about chr22 based on 2706 patients.\n"
   ]
  },
  {
   "cell_type": "code",
   "execution_count": 62,
   "metadata": {},
   "outputs": [],
   "source": [
    "import numpy as np\n",
    "import pandas as pd\n",
    "import magenpy as mgp\n",
    "import viprs as vp"
   ]
  },
  {
   "cell_type": "code",
   "execution_count": 63,
   "metadata": {},
   "outputs": [
    {
     "name": "stdout",
     "output_type": "stream",
     "text": [
      "> Reading BED file...\n",
      "> Generating polygenic scores...\n"
     ]
    },
    {
     "data": {
      "text/html": [
       "<div>\n",
       "<style scoped>\n",
       "    .dataframe tbody tr th:only-of-type {\n",
       "        vertical-align: middle;\n",
       "    }\n",
       "\n",
       "    .dataframe tbody tr th {\n",
       "        vertical-align: top;\n",
       "    }\n",
       "\n",
       "    .dataframe thead th {\n",
       "        text-align: right;\n",
       "    }\n",
       "</style>\n",
       "<table border=\"1\" class=\"dataframe\">\n",
       "  <thead>\n",
       "    <tr style=\"text-align: right;\">\n",
       "      <th></th>\n",
       "      <th>FID</th>\n",
       "      <th>IID</th>\n",
       "      <th>phenotype</th>\n",
       "    </tr>\n",
       "  </thead>\n",
       "  <tbody>\n",
       "    <tr>\n",
       "      <th>0</th>\n",
       "      <td>0</td>\n",
       "      <td>1000</td>\n",
       "      <td>0.274872</td>\n",
       "    </tr>\n",
       "    <tr>\n",
       "      <th>1</th>\n",
       "      <td>0</td>\n",
       "      <td>2000</td>\n",
       "      <td>1.196193</td>\n",
       "    </tr>\n",
       "    <tr>\n",
       "      <th>2</th>\n",
       "      <td>0</td>\n",
       "      <td>3000</td>\n",
       "      <td>-0.594963</td>\n",
       "    </tr>\n",
       "    <tr>\n",
       "      <th>3</th>\n",
       "      <td>0</td>\n",
       "      <td>4000</td>\n",
       "      <td>0.394835</td>\n",
       "    </tr>\n",
       "    <tr>\n",
       "      <th>4</th>\n",
       "      <td>0</td>\n",
       "      <td>5000</td>\n",
       "      <td>-0.769861</td>\n",
       "    </tr>\n",
       "    <tr>\n",
       "      <th>...</th>\n",
       "      <td>...</td>\n",
       "      <td>...</td>\n",
       "      <td>...</td>\n",
       "    </tr>\n",
       "    <tr>\n",
       "      <th>2701</th>\n",
       "      <td>0</td>\n",
       "      <td>3061000</td>\n",
       "      <td>-1.152691</td>\n",
       "    </tr>\n",
       "    <tr>\n",
       "      <th>2702</th>\n",
       "      <td>0</td>\n",
       "      <td>3062000</td>\n",
       "      <td>-0.402827</td>\n",
       "    </tr>\n",
       "    <tr>\n",
       "      <th>2703</th>\n",
       "      <td>0</td>\n",
       "      <td>3064000</td>\n",
       "      <td>-0.070375</td>\n",
       "    </tr>\n",
       "    <tr>\n",
       "      <th>2704</th>\n",
       "      <td>0</td>\n",
       "      <td>3065000</td>\n",
       "      <td>0.837928</td>\n",
       "    </tr>\n",
       "    <tr>\n",
       "      <th>2705</th>\n",
       "      <td>0</td>\n",
       "      <td>3066000</td>\n",
       "      <td>0.709115</td>\n",
       "    </tr>\n",
       "  </tbody>\n",
       "</table>\n",
       "<p>2706 rows × 3 columns</p>\n",
       "</div>"
      ],
      "text/plain": [
       "     FID      IID  phenotype\n",
       "0      0     1000   0.274872\n",
       "1      0     2000   1.196193\n",
       "2      0     3000  -0.594963\n",
       "3      0     4000   0.394835\n",
       "4      0     5000  -0.769861\n",
       "...   ..      ...        ...\n",
       "2701   0  3061000  -1.152691\n",
       "2702   0  3062000  -0.402827\n",
       "2703   0  3064000  -0.070375\n",
       "2704   0  3065000   0.837928\n",
       "2705   0  3066000   0.709115\n",
       "\n",
       "[2706 rows x 3 columns]"
      ]
     },
     "execution_count": 63,
     "metadata": {},
     "output_type": "execute_result"
    }
   ],
   "source": [
    "#simulate \n",
    "g_sim = mgp.GWASimulator(\"CMAll_qced/chr22/ALL_CM_chr22\",\n",
    "                         pi = [.99, .01],\n",
    "                         h2=0.5)\n",
    "g_sim.simulate()\n",
    "g_sim.to_phenotype_table()"
   ]
  },
  {
   "cell_type": "code",
   "execution_count": 64,
   "metadata": {},
   "outputs": [
    {
     "name": "stdout",
     "output_type": "stream",
     "text": [
      "> Performing GWAS...\n"
     ]
    },
    {
     "name": "stderr",
     "output_type": "stream",
     "text": [
      "/home/mcb/users/yzhu439/RA_Project/.venv/lib/python3.7/site-packages/dask/core.py:119: RuntimeWarning: invalid value encountered in true_divide\n",
      "  return func(*(_execute_task(a, cache) for a in args))\n"
     ]
    }
   ],
   "source": [
    "g_sim.perform_gwas()\n",
    "g_sim.to_summary_statistics_table().to_csv(\n",
    "    \"Toy_example_expr/ALL_CM22.sumstats\", sep=\"\\t\", index=False\n",
    ")"
   ]
  },
  {
   "cell_type": "code",
   "execution_count": 65,
   "metadata": {},
   "outputs": [
    {
     "name": "stdout",
     "output_type": "stream",
     "text": [
      "> Reading BED file...\n",
      "> Reading summary statistics file...\n",
      "> Harmonizing data...\n"
     ]
    }
   ],
   "source": [
    "# Load summary statistics（simulate phenotype from above) and match them with perviously\n",
    "gdl_sim = mgp.GWADataLoader(bed_files=\"CMAll_qced/chr22/ALL_CM_chr22\",\n",
    "                            sumstats_files=\"Toy_example_expr/ALL_CM22.sumstats\",\n",
    "                            sumstats_format=\"magenpy\")"
   ]
  },
  {
   "cell_type": "code",
   "execution_count": 66,
   "metadata": {},
   "outputs": [
    {
     "name": "stdout",
     "output_type": "stream",
     "text": [
      "> Computing LD matrix...\n"
     ]
    },
    {
     "name": "stderr",
     "output_type": "stream",
     "text": [
      "/home/mcb/users/yzhu439/RA_Project/.venv/lib/python3.7/site-packages/dask/array/routines.py:318: PerformanceWarning: Increasing number of chunks by factor of 18\n",
      "  axes=(left_axes, right_axes),\n",
      "/home/mcb/users/yzhu439/RA_Project/.venv/lib/python3.7/site-packages/dask/core.py:119: RuntimeWarning: invalid value encountered in true_divide\n",
      "  return func(*(_execute_task(a, cache) for a in args))\n"
     ]
    }
   ],
   "source": [
    "gdl_sim.compute_ld(estimator='sample',\n",
    "                   output_dir='Toy_example_expr/ALLchr22_out/')\n",
    "\n",
    "# gdl_sim.compute_ld(estimator='windowed',\n",
    "#                    output_dir='Toy_example_expr/ALLchr22_out/windowed/',\n",
    "#                    window_size=100)"
   ]
  },
  {
   "attachments": {},
   "cell_type": "markdown",
   "metadata": {},
   "source": [
    "Use Viprs, initialize the viprs model based on the <code> gdl_sim model</code> containing the GWAS data and the LD matrix (using xarray method) for the chr22 for all qced dataset (with 2706 individuals).  \n",
    "(但是后面发现数据有问题，就不predict和比较了, em 但predict 原值还是拿出来看看) "
   ]
  },
  {
   "cell_type": "code",
   "execution_count": 67,
   "metadata": {},
   "outputs": [],
   "source": [
    "v = vp.VIPRS(gdl_sim, fix_params={'pi': 0.001, 'sigma_epsilon': 0.999})"
   ]
  },
  {
   "cell_type": "code",
   "execution_count": 68,
   "metadata": {},
   "outputs": [
    {
     "name": "stdout",
     "output_type": "stream",
     "text": [
      "> Initializing model parameters\n",
      "> Loading LD matrices into memory...\n",
      "> Performing model fit...\n",
      "> Using up to 1 threads.\n"
     ]
    },
    {
     "name": "stderr",
     "output_type": "stream",
     "text": [
      " 14%|█▍        | 145/1000 [01:36<09:28,  1.50it/s]"
     ]
    },
    {
     "name": "stdout",
     "output_type": "stream",
     "text": [
      "Converged at iteration 146 || ELBO: -3349.567609\n",
      "> Final ELBO: -3349.567609\n",
      "> Estimated heritability: 0.324460\n",
      "> Estimated proportion of causal variants: 0.001000\n"
     ]
    },
    {
     "name": "stderr",
     "output_type": "stream",
     "text": [
      "\n"
     ]
    },
    {
     "data": {
      "text/plain": [
       "<viprs.model.VIPRS.VIPRS at 0x7f8f1f9be650>"
      ]
     },
     "execution_count": 68,
     "metadata": {},
     "output_type": "execute_result"
    }
   ],
   "source": [
    "v.fit()"
   ]
  },
  {
   "attachments": {},
   "cell_type": "markdown",
   "metadata": {},
   "source": [
    "For ALL_chr22, with total <code> 2706 patients </code> about <code> chr22 </code>  \n",
    "Draw the ELBO as a function of iteration. "
   ]
  },
  {
   "cell_type": "code",
   "execution_count": 69,
   "metadata": {},
   "outputs": [],
   "source": [
    "ELBO_list = v.history['ELBO']\n",
    "num = len(ELBO_list)"
   ]
  },
  {
   "cell_type": "code",
   "execution_count": 70,
   "metadata": {},
   "outputs": [
    {
     "data": {
      "image/png": "[encoded data removed]",
      "text/plain": [
       "<Figure size 640x480 with 1 Axes>"
      ]
     },
     "metadata": {},
     "output_type": "display_data"
    }
   ],
   "source": [
    "#draw a plot Evidence lower bound as a function of EM iteration.\n",
    "import matplotlib.pyplot as plt\n",
    "plt.figure()\n",
    "plt.scatter(range(num), np.array(ELBO_list),s=15)\n",
    "plt.grid(which=\"major\",alpha=0.3)\n",
    "plt.xlabel(\"Iteration\")\n",
    "plt.ylabel(\"ELBO\")\n",
    "plt.title(\"Evidence lower bound as a function of EM iteration\")\n",
    "plt.show()"
   ]
  },
  {
   "cell_type": "markdown",
   "metadata": {},
   "source": [
    "Predict on the same dataset for ALL chr2 and SNPs."
   ]
  },
  {
   "cell_type": "code",
   "execution_count": 71,
   "metadata": {},
   "outputs": [
    {
     "name": "stdout",
     "output_type": "stream",
     "text": [
      "> Generating polygenic scores...\n"
     ]
    },
    {
     "data": {
      "text/plain": [
       "array([-0.12392879,  0.48792363, -0.17042188, ..., -0.39311331,\n",
       "       -0.15915304, -0.56749463])"
      ]
     },
     "execution_count": 71,
     "metadata": {},
     "output_type": "execute_result"
    }
   ],
   "source": [
    "prs_chr22 = v.predict(gdl_sim)\n",
    "prs_chr22"
   ]
  },
  {
   "cell_type": "code",
   "execution_count": 72,
   "metadata": {},
   "outputs": [
    {
     "data": {
      "text/html": [
       "<div>\n",
       "<style scoped>\n",
       "    .dataframe tbody tr th:only-of-type {\n",
       "        vertical-align: middle;\n",
       "    }\n",
       "\n",
       "    .dataframe tbody tr th {\n",
       "        vertical-align: top;\n",
       "    }\n",
       "\n",
       "    .dataframe thead th {\n",
       "        text-align: right;\n",
       "    }\n",
       "</style>\n",
       "<table border=\"1\" class=\"dataframe\">\n",
       "  <thead>\n",
       "    <tr style=\"text-align: right;\">\n",
       "      <th></th>\n",
       "      <th>CHR</th>\n",
       "      <th>SNP</th>\n",
       "      <th>A1</th>\n",
       "      <th>A2</th>\n",
       "      <th>BETA</th>\n",
       "      <th>PIP</th>\n",
       "      <th>VAR_BETA</th>\n",
       "    </tr>\n",
       "  </thead>\n",
       "  <tbody>\n",
       "    <tr>\n",
       "      <th>0</th>\n",
       "      <td>22</td>\n",
       "      <td>rs4911642</td>\n",
       "      <td>G</td>\n",
       "      <td>A</td>\n",
       "      <td>-2.795566e-05</td>\n",
       "      <td>0.000483</td>\n",
       "      <td>2.176619e-06</td>\n",
       "    </tr>\n",
       "    <tr>\n",
       "      <th>1</th>\n",
       "      <td>22</td>\n",
       "      <td>rs2027653</td>\n",
       "      <td>G</td>\n",
       "      <td>A</td>\n",
       "      <td>1.393458e-06</td>\n",
       "      <td>0.000249</td>\n",
       "      <td>1.374616e-06</td>\n",
       "    </tr>\n",
       "    <tr>\n",
       "      <th>2</th>\n",
       "      <td>22</td>\n",
       "      <td>rs9605903</td>\n",
       "      <td>G</td>\n",
       "      <td>A</td>\n",
       "      <td>-1.541921e-05</td>\n",
       "      <td>0.000324</td>\n",
       "      <td>1.067718e-06</td>\n",
       "    </tr>\n",
       "    <tr>\n",
       "      <th>3</th>\n",
       "      <td>22</td>\n",
       "      <td>rs4819849</td>\n",
       "      <td>G</td>\n",
       "      <td>A</td>\n",
       "      <td>-5.447740e-07</td>\n",
       "      <td>0.000112</td>\n",
       "      <td>1.243038e-07</td>\n",
       "    </tr>\n",
       "    <tr>\n",
       "      <th>4</th>\n",
       "      <td>22</td>\n",
       "      <td>rs2845380</td>\n",
       "      <td>A</td>\n",
       "      <td>G</td>\n",
       "      <td>-9.073170e-06</td>\n",
       "      <td>0.000234</td>\n",
       "      <td>5.544837e-07</td>\n",
       "    </tr>\n",
       "    <tr>\n",
       "      <th>...</th>\n",
       "      <td>...</td>\n",
       "      <td>...</td>\n",
       "      <td>...</td>\n",
       "      <td>...</td>\n",
       "      <td>...</td>\n",
       "      <td>...</td>\n",
       "      <td>...</td>\n",
       "    </tr>\n",
       "    <tr>\n",
       "      <th>18287</th>\n",
       "      <td>22</td>\n",
       "      <td>rs3810648</td>\n",
       "      <td>G</td>\n",
       "      <td>A</td>\n",
       "      <td>-1.034480e-06</td>\n",
       "      <td>0.000081</td>\n",
       "      <td>4.295419e-08</td>\n",
       "    </tr>\n",
       "    <tr>\n",
       "      <th>18288</th>\n",
       "      <td>22</td>\n",
       "      <td>rs2285395</td>\n",
       "      <td>A</td>\n",
       "      <td>G</td>\n",
       "      <td>-3.613614e-06</td>\n",
       "      <td>0.000142</td>\n",
       "      <td>1.709740e-07</td>\n",
       "    </tr>\n",
       "    <tr>\n",
       "      <th>18289</th>\n",
       "      <td>22</td>\n",
       "      <td>rs2238837</td>\n",
       "      <td>C</td>\n",
       "      <td>A</td>\n",
       "      <td>-3.019228e-05</td>\n",
       "      <td>0.000472</td>\n",
       "      <td>9.049646e-06</td>\n",
       "    </tr>\n",
       "    <tr>\n",
       "      <th>18290</th>\n",
       "      <td>22</td>\n",
       "      <td>rs34726907</td>\n",
       "      <td>T</td>\n",
       "      <td>C</td>\n",
       "      <td>-1.584382e-05</td>\n",
       "      <td>0.000434</td>\n",
       "      <td>7.222201e-06</td>\n",
       "    </tr>\n",
       "    <tr>\n",
       "      <th>18291</th>\n",
       "      <td>22</td>\n",
       "      <td>rs28729663</td>\n",
       "      <td>A</td>\n",
       "      <td>G</td>\n",
       "      <td>1.264285e-05</td>\n",
       "      <td>0.000425</td>\n",
       "      <td>6.779295e-06</td>\n",
       "    </tr>\n",
       "  </tbody>\n",
       "</table>\n",
       "<p>18292 rows × 7 columns</p>\n",
       "</div>"
      ],
      "text/plain": [
       "       CHR         SNP A1 A2          BETA       PIP      VAR_BETA\n",
       "0       22   rs4911642  G  A -2.795566e-05  0.000483  2.176619e-06\n",
       "1       22   rs2027653  G  A  1.393458e-06  0.000249  1.374616e-06\n",
       "2       22   rs9605903  G  A -1.541921e-05  0.000324  1.067718e-06\n",
       "3       22   rs4819849  G  A -5.447740e-07  0.000112  1.243038e-07\n",
       "4       22   rs2845380  A  G -9.073170e-06  0.000234  5.544837e-07\n",
       "...    ...         ... .. ..           ...       ...           ...\n",
       "18287   22   rs3810648  G  A -1.034480e-06  0.000081  4.295419e-08\n",
       "18288   22   rs2285395  A  G -3.613614e-06  0.000142  1.709740e-07\n",
       "18289   22   rs2238837  C  A -3.019228e-05  0.000472  9.049646e-06\n",
       "18290   22  rs34726907  T  C -1.584382e-05  0.000434  7.222201e-06\n",
       "18291   22  rs28729663  A  G  1.264285e-05  0.000425  6.779295e-06\n",
       "\n",
       "[18292 rows x 7 columns]"
      ]
     },
     "execution_count": 72,
     "metadata": {},
     "output_type": "execute_result"
    }
   ],
   "source": [
    "v.to_table()"
   ]
  },
  {
   "cell_type": "code",
   "execution_count": 73,
   "metadata": {},
   "outputs": [
    {
     "data": {
      "text/plain": [
       "0.04385035108228214"
      ]
     },
     "execution_count": 73,
     "metadata": {},
     "output_type": "execute_result"
    }
   ],
   "source": [
    "from viprs.eval.metrics import r2\n",
    "r2(prs_chr22, g_sim.sample_table.phenotype)"
   ]
  },
  {
   "attachments": {},
   "cell_type": "markdown",
   "metadata": {},
   "source": [
    "<code>QQ plot</code> for ALL-chr22"
   ]
  },
  {
   "cell_type": "code",
   "execution_count": 74,
   "metadata": {},
   "outputs": [],
   "source": [
    "All_22_sum = pd.read_csv(\"Toy_example_expr/ALL_CM22.sumstats\", sep=\"\\t\" )\n",
    "obs_negP = -np.log10(All_22_sum['PVAL'])"
   ]
  },
  {
   "cell_type": "code",
   "execution_count": 75,
   "metadata": {},
   "outputs": [
    {
     "data": {
      "image/png": "[encoded data removed]",
      "text/plain": [
       "<Figure size 640x480 with 1 Axes>"
      ]
     },
     "metadata": {},
     "output_type": "display_data"
    }
   ],
   "source": [
    "import statsmodels.api as sm\n",
    "import scipy.stats as stats\n",
    "import pylab\n",
    "\n",
    "sm.qqplot(obs_negP, line='45')\n",
    "pylab.show()"
   ]
  },
  {
   "cell_type": "code",
   "execution_count": 76,
   "metadata": {},
   "outputs": [
    {
     "data": {
      "image/png": "[encoded data removed]",
      "text/plain": [
       "<Figure size 640x480 with 1 Axes>"
      ]
     },
     "metadata": {},
     "output_type": "display_data"
    }
   ],
   "source": [
    "stats.probplot(obs_negP, dist = \"uniform\", plot = pylab)\n",
    "pylab.show()"
   ]
  },
  {
   "cell_type": "code",
   "execution_count": 125,
   "metadata": {},
   "outputs": [],
   "source": [
    "import statsmodels.api as sm\n",
    "\n"
   ]
  },
  {
   "attachments": {},
   "cell_type": "markdown",
   "metadata": {},
   "source": [
    "Plot for <code>PIP</code> values"
   ]
  },
  {
   "cell_type": "code",
   "execution_count": 126,
   "metadata": {},
   "outputs": [
    {
     "data": {
      "text/plain": [
       "18292"
      ]
     },
     "execution_count": 126,
     "metadata": {},
     "output_type": "execute_result"
    }
   ],
   "source": [
    "pip_allchr22 = v.to_table()['PIP']\n",
    "len(pip_allchr22)"
   ]
  },
  {
   "cell_type": "code",
   "execution_count": 127,
   "metadata": {},
   "outputs": [
    {
     "data": {
      "image/png": "[encoded data removed]",
      "text/plain": [
       "<Figure size 640x480 with 1 Axes>"
      ]
     },
     "metadata": {},
     "output_type": "display_data"
    },
    {
     "name": "stdout",
     "output_type": "stream",
     "text": [
      "causal\n",
      "blue: FALSE\n",
      "red: TRUE\n"
     ]
    }
   ],
   "source": [
    "from scipy.ndimage import label\n",
    "# use  inferred PIP calculated above\n",
    "num_snp = len(pip_allchr22)\n",
    "\n",
    "# show the plot pip about professors data\n",
    "SNP_index_arr = np.arange(num_snp)\n",
    "plt.scatter(SNP_index_arr, pip_allchr22, s=15)   #  c=causal_color, cmap='coolwarm'\n",
    "plt.grid(which=\"major\",alpha=0.3)\n",
    "plt.xlabel(\"SNP\")\n",
    "plt.ylabel(\"Inferred PIP\")\n",
    "plt.title(\"Inferred PIP. Causal SNPs are colorred in red\")\n",
    "plt.show()\n",
    "print(\"causal\")\n",
    "print(\"blue: FALSE\")\n",
    "print(\"red: TRUE\")"
   ]
  },
  {
   "attachments": {},
   "cell_type": "markdown",
   "metadata": {},
   "source": [
    "<h3> July 2nd, shuffle 100 SNPs </h3>  \n",
    "from \"CMAll_qced/chr22/ALL_CM_chr22\" to simulate and run viprs."
   ]
  },
  {
   "cell_type": "code",
   "execution_count": 42,
   "metadata": {},
   "outputs": [],
   "source": [
    "import numpy as np\n",
    "import pandas as pd\n",
    "import magenpy as mgp\n",
    "import viprs as vp"
   ]
  },
  {
   "cell_type": "code",
   "execution_count": 51,
   "metadata": {},
   "outputs": [
    {
     "name": "stdout",
     "output_type": "stream",
     "text": [
      "> Reading BED file...\n",
      "> Generating polygenic scores...\n"
     ]
    },
    {
     "data": {
      "text/html": [
       "<div>\n",
       "<style scoped>\n",
       "    .dataframe tbody tr th:only-of-type {\n",
       "        vertical-align: middle;\n",
       "    }\n",
       "\n",
       "    .dataframe tbody tr th {\n",
       "        vertical-align: top;\n",
       "    }\n",
       "\n",
       "    .dataframe thead th {\n",
       "        text-align: right;\n",
       "    }\n",
       "</style>\n",
       "<table border=\"1\" class=\"dataframe\">\n",
       "  <thead>\n",
       "    <tr style=\"text-align: right;\">\n",
       "      <th></th>\n",
       "      <th>FID</th>\n",
       "      <th>IID</th>\n",
       "      <th>phenotype</th>\n",
       "    </tr>\n",
       "  </thead>\n",
       "  <tbody>\n",
       "    <tr>\n",
       "      <th>0</th>\n",
       "      <td>0</td>\n",
       "      <td>1000</td>\n",
       "      <td>1.451822</td>\n",
       "    </tr>\n",
       "    <tr>\n",
       "      <th>1</th>\n",
       "      <td>0</td>\n",
       "      <td>2000</td>\n",
       "      <td>-1.483920</td>\n",
       "    </tr>\n",
       "    <tr>\n",
       "      <th>2</th>\n",
       "      <td>0</td>\n",
       "      <td>3000</td>\n",
       "      <td>-0.575248</td>\n",
       "    </tr>\n",
       "    <tr>\n",
       "      <th>3</th>\n",
       "      <td>0</td>\n",
       "      <td>4000</td>\n",
       "      <td>-0.485051</td>\n",
       "    </tr>\n",
       "    <tr>\n",
       "      <th>4</th>\n",
       "      <td>0</td>\n",
       "      <td>5000</td>\n",
       "      <td>-0.665667</td>\n",
       "    </tr>\n",
       "    <tr>\n",
       "      <th>...</th>\n",
       "      <td>...</td>\n",
       "      <td>...</td>\n",
       "      <td>...</td>\n",
       "    </tr>\n",
       "    <tr>\n",
       "      <th>2701</th>\n",
       "      <td>0</td>\n",
       "      <td>3061000</td>\n",
       "      <td>-1.478477</td>\n",
       "    </tr>\n",
       "    <tr>\n",
       "      <th>2702</th>\n",
       "      <td>0</td>\n",
       "      <td>3062000</td>\n",
       "      <td>-0.636373</td>\n",
       "    </tr>\n",
       "    <tr>\n",
       "      <th>2703</th>\n",
       "      <td>0</td>\n",
       "      <td>3064000</td>\n",
       "      <td>0.333935</td>\n",
       "    </tr>\n",
       "    <tr>\n",
       "      <th>2704</th>\n",
       "      <td>0</td>\n",
       "      <td>3065000</td>\n",
       "      <td>0.079841</td>\n",
       "    </tr>\n",
       "    <tr>\n",
       "      <th>2705</th>\n",
       "      <td>0</td>\n",
       "      <td>3066000</td>\n",
       "      <td>-0.173369</td>\n",
       "    </tr>\n",
       "  </tbody>\n",
       "</table>\n",
       "<p>2706 rows × 3 columns</p>\n",
       "</div>"
      ],
      "text/plain": [
       "     FID      IID  phenotype\n",
       "0      0     1000   1.451822\n",
       "1      0     2000  -1.483920\n",
       "2      0     3000  -0.575248\n",
       "3      0     4000  -0.485051\n",
       "4      0     5000  -0.665667\n",
       "...   ..      ...        ...\n",
       "2701   0  3061000  -1.478477\n",
       "2702   0  3062000  -0.636373\n",
       "2703   0  3064000   0.333935\n",
       "2704   0  3065000   0.079841\n",
       "2705   0  3066000  -0.173369\n",
       "\n",
       "[2706 rows x 3 columns]"
      ]
     },
     "execution_count": 51,
     "metadata": {},
     "output_type": "execute_result"
    }
   ],
   "source": [
    "#simulate \n",
    "g_sim = mgp.GWASimulator(\"CMAll_qced/chr22/shuffle_100snps\",\n",
    "                         pi = [.99, .01],\n",
    "                         h2=0.5)\n",
    "g_sim.simulate()\n",
    "g_sim.to_phenotype_table()"
   ]
  },
  {
   "cell_type": "code",
   "execution_count": 52,
   "metadata": {},
   "outputs": [
    {
     "name": "stdout",
     "output_type": "stream",
     "text": [
      "> Performing GWAS...\n"
     ]
    },
    {
     "name": "stderr",
     "output_type": "stream",
     "text": [
      "/home/mcb/users/yzhu439/RA_Project/.venv/lib/python3.7/site-packages/dask/core.py:119: RuntimeWarning: invalid value encountered in true_divide\n",
      "  return func(*(_execute_task(a, cache) for a in args))\n"
     ]
    }
   ],
   "source": [
    "g_sim.perform_gwas()\n",
    "g_sim.to_summary_statistics_table().to_csv(\n",
    "    \"Toy_example_expr/shuffle_100snps.sumstats\", sep=\"\\t\", index=False\n",
    ")"
   ]
  },
  {
   "cell_type": "code",
   "execution_count": 53,
   "metadata": {},
   "outputs": [
    {
     "name": "stdout",
     "output_type": "stream",
     "text": [
      "> Reading BED file...\n",
      "> Reading summary statistics file...\n",
      "> Harmonizing data...\n"
     ]
    }
   ],
   "source": [
    "# Load summary statistics（simulate phenotype from above) and match them with perviously\n",
    "gdl_sim = mgp.GWADataLoader(bed_files=\"CMAll_qced/chr22/shuffle_100snps\",\n",
    "                            sumstats_files=\"Toy_example_expr/shuffle_100snps.sumstats\",\n",
    "                            sumstats_format=\"magenpy\")"
   ]
  },
  {
   "cell_type": "code",
   "execution_count": 54,
   "metadata": {},
   "outputs": [
    {
     "name": "stdout",
     "output_type": "stream",
     "text": [
      "> Computing LD matrix...\n"
     ]
    },
    {
     "name": "stderr",
     "output_type": "stream",
     "text": [
      "/home/mcb/users/yzhu439/RA_Project/.venv/lib/python3.7/site-packages/dask/core.py:119: RuntimeWarning: invalid value encountered in true_divide\n",
      "  return func(*(_execute_task(a, cache) for a in args))\n"
     ]
    }
   ],
   "source": [
    "gdl_sim.compute_ld(estimator='sample',\n",
    "                   output_dir='Toy_example_expr/shuffle100_chr22_out/')\n",
    "\n",
    "# gdl_sim.compute_ld(estimator='windowed',\n",
    "#                    output_dir='Toy_example_expr/ALLchr22_out/windowed/',\n",
    "#                    window_size=100)"
   ]
  },
  {
   "attachments": {},
   "cell_type": "markdown",
   "metadata": {},
   "source": [
    "Use viprs on suffle selected 100 SNPs"
   ]
  },
  {
   "cell_type": "code",
   "execution_count": 55,
   "metadata": {},
   "outputs": [],
   "source": [
    "# viprs\n",
    "v = vp.VIPRS(gdl_sim, fix_params={'pi': 0.001, 'sigma_epsilon': 0.999})"
   ]
  },
  {
   "cell_type": "code",
   "execution_count": 56,
   "metadata": {},
   "outputs": [
    {
     "name": "stdout",
     "output_type": "stream",
     "text": [
      "> Initializing model parameters\n",
      "> Loading LD matrices into memory...\n",
      "> Performing model fit...\n",
      "> Using up to 1 threads.\n"
     ]
    },
    {
     "name": "stderr",
     "output_type": "stream",
     "text": [
      "  8%|▊         | 79/1000 [00:00<00:00, 1227.81it/s]"
     ]
    },
    {
     "name": "stdout",
     "output_type": "stream",
     "text": [
      "Converged at iteration 80 || ELBO: -2698.497292\n",
      "> Final ELBO: -2698.497292\n",
      "> Estimated heritability: 0.456592\n",
      "> Estimated proportion of causal variants: 0.001000\n"
     ]
    },
    {
     "name": "stderr",
     "output_type": "stream",
     "text": [
      "\n"
     ]
    },
    {
     "data": {
      "text/plain": [
       "<viprs.model.VIPRS.VIPRS at 0x7f8f786a2050>"
      ]
     },
     "execution_count": 56,
     "metadata": {},
     "output_type": "execute_result"
    }
   ],
   "source": [
    "v.fit()"
   ]
  },
  {
   "attachments": {},
   "cell_type": "markdown",
   "metadata": {},
   "source": [
    "<code>Validation</code> on the same shuffled 100 SNPs data but different phenotypes"
   ]
  },
  {
   "cell_type": "code",
   "execution_count": 57,
   "metadata": {},
   "outputs": [],
   "source": [
    "# #simulate \n",
    "# g2_sim = mgp.GWASimulator(\"CMdream1/chr22/d1CM22_sorted\",\n",
    "#                          pi = [.99, .01],\n",
    "#                          h2=0.5)\n",
    "# g2_sim.simulate()\n",
    "# a = g2_sim.to_phenotype_table()\n",
    "# a.to_csv(\"Toy_example_expr/phenotype/g2_sim_pheno.txt\",sep='\\t', index=False, header=False)\n",
    "# g2_sim.perform_gwas()\n",
    "# g2_sim.to_summary_statistics_table().to_csv(\n",
    "#     \"Toy_example_expr/d1CM22_sorted_valid.sumstats\", sep=\"\\t\", index=False\n",
    "# )\n",
    "\n",
    "# # Load summary statistics（simulate phenotype from above) and match them with perviously\n",
    "# gdl2_sim = mgp.GWADataLoader(bed_files=\"CMdream1/chr22/d1CM22_sorted\",\n",
    "#                             phenotype_file=\"Toy_example_expr/phenotype/g2_sim_pheno.txt\",\n",
    "#                             sumstats_files=\"Toy_example_expr/d1CM22_sorted_valid.sumstats\",\n",
    "#                             sumstats_format=\"magenpy\")\n",
    "# gdl2_sim.compute_ld(estimator='sample',\n",
    "#                    output_dir='Toy_example_expr/out/ld_val/')\n",
    "g_sim.to_phenotype_table().to_csv(\"Toy_example_expr/phenotype/shuffle100_phe.txt\",sep='\\t', index=False, header=False)\n",
    "\n"
   ]
  },
  {
   "cell_type": "code",
   "execution_count": 58,
   "metadata": {},
   "outputs": [
    {
     "name": "stdout",
     "output_type": "stream",
     "text": [
      "> Generating polygenic scores...\n"
     ]
    }
   ],
   "source": [
    "val_prs = v.predict(gdl_sim)"
   ]
  },
  {
   "cell_type": "code",
   "execution_count": 59,
   "metadata": {},
   "outputs": [
    {
     "data": {
      "text/plain": [
       "0.025989384611194086"
      ]
     },
     "execution_count": 59,
     "metadata": {},
     "output_type": "execute_result"
    }
   ],
   "source": [
    "from viprs.eval.metrics import r2 \n",
    "r2(val_prs, g_sim.sample_table.phenotype)"
   ]
  },
  {
   "cell_type": "markdown",
   "metadata": {},
   "source": [
    "<h3> July 8th, genomic control (GC) factor</h3> \n",
    "It is better if GC factor is close to 1,  \n",
    "if it is over 1, which means global inflation. \n"
   ]
  },
  {
   "cell_type": "code",
   "execution_count": 7,
   "metadata": {},
   "outputs": [],
   "source": [
    "import numpy as np\n",
    "from scipy.stats import chi2\n",
    "def calculate_lambda(p_values):\n",
    "    # Calculate the genomic inflation factor (λ)\n",
    "    observed_chi2 = -2 * np.log(p_values)\n",
    "    lambda_gc = np.median(observed_chi2) / chi2.ppf(0.5, 1)\n",
    "    return lambda_gc"
   ]
  },
  {
   "cell_type": "code",
   "execution_count": 8,
   "metadata": {},
   "outputs": [
    {
     "name": "stdout",
     "output_type": "stream",
     "text": [
      "GC:  3.3288331146299783\n"
     ]
    }
   ],
   "source": [
    "# read the sumstats file and extract column of P-values\n",
    "All_22_sum = pd.read_csv(\"Toy_example_expr/ALL_CM22.sumstats\", sep=\"\\t\" )\n",
    "p_values = All_22_sum['PVAL']\n",
    "\n",
    "# calculate GC factor\n",
    "gc = calculate_lambda(p_values)\n",
    "print(\"GC: \", gc)"
   ]
  },
  {
   "cell_type": "markdown",
   "metadata": {},
   "source": [
    "<h5> LD regression 算 interval 是否有inflation (应该感觉inflation 是非常大的) </h5>   \n",
    "\n",
    "1. Store gwas and LD for all chr22 into <code> .txt files </code>.  \n",
    "2. Read <code> LD results of \"sample\" estimator</code> for ALL_chr22, which is a SNPs * SNPs LD.  \n",
    "Then store it into a .csv file and dataframe.\n",
    "\n",
    "** 但是由于之前已经看见问题十分严重，可以看得出来inflation 挺严重的，cofounder effect possibly due to age/sex/DAS score"
   ]
  },
  {
   "cell_type": "code",
   "execution_count": 78,
   "metadata": {},
   "outputs": [],
   "source": [
    "# For ALL chr22 (2706 individuals) （use around 20mins to store!)\n",
    "# store gwas summary statistics into .txt\n",
    "gwas_All22_sums = pd.read_csv(\"Toy_example_expr/ALL_CM22.sumstats\", sep=\"\\t\" )\n",
    "gwas_All22_sums = gwas_All22_sums.to_csv(\"Toy_example_expr/ALL22_LDregression/gwas_All22_sums.csv\", index=False, sep=\"\\t\")\n",
    "\n",
    "# store LD\n",
    "All22_LD = mgp.LDMatrix.from_path('Toy_example_expr/ALLchr22_out/ld/chr_22')\n",
    "pd.DataFrame(All22_LD.z_array).to_csv(\"Toy_example_expr/ALL22_LDregression/All22_sample_ld.csv\", index=False, sep=\"\\t\")"
   ]
  },
  {
   "cell_type": "code",
   "execution_count": 2,
   "metadata": {},
   "outputs": [
    {
     "name": "stdout",
     "output_type": "stream",
     "text": [
      "*********************************************************************\n",
      "* LD Score Regression (LDSC)\n",
      "* Version 2.0.0\n",
      "* (C) 2014-2019 Brendan Bulik-Sullivan and Hilary Finucane\n",
      "* Broad Institute of MIT and Harvard / MIT Department of Mathematics\n",
      "* GNU General Public License v3\n",
      "*********************************************************************\n",
      "Call: \n",
      "./ldsc.py \\\n",
      "--out output_results \\\n",
      "--h2 Toy_example_expr/ALL22_LDregression/gwas_All22_sums.csv \\\n",
      "--ref-ld-chr Toy_example_expr/ALL22_LDregression/All22_sample_ld.csv \\\n",
      "--w-ld-chr Toy_example_expr/ALL22_LDregression/All22_sample_ld.csv \n",
      "\n",
      "Beginning analysis at Sat Jul  8 18:00:14 2023\n",
      "Reading summary statistics from Toy_example_expr/ALL22_LDregression/gwas_All22_sums.csv ...\n",
      "Read summary statistics for 18292 SNPs.\n",
      "Reading reference panel LD Score from Toy_example_expr/ALL22_LDregression/All22_sample_ld.csv[1-22] ... (ldscore_fromlist)\n",
      "Analysis finished at Sat Jul  8 18:00:14 2023\n",
      "Total time elapsed: 0.07s\n"
     ]
    },
    {
     "name": "stderr",
     "output_type": "stream",
     "text": [
      "Traceback (most recent call last):\n",
      "  File \"/home/mcb/users/yzhu439/RA_Project/.venv/bin/ldsc.py\", line 645, in <module>\n",
      "    sumstats.estimate_h2(args, log)\n",
      "  File \"/home/mcb/users/yzhu439/RA_Project/.venv/lib/python3.10/site-packages/ldscore/sumstats.py\", line 325, in estimate_h2\n",
      "    M_annot, w_ld_cname, ref_ld_cnames, sumstats, novar_cols = _read_ld_sumstats(\n",
      "  File \"/home/mcb/users/yzhu439/RA_Project/.venv/lib/python3.10/site-packages/ldscore/sumstats.py\", line 243, in _read_ld_sumstats\n",
      "    ref_ld = _read_ref_ld(args, log)\n",
      "  File \"/home/mcb/users/yzhu439/RA_Project/.venv/lib/python3.10/site-packages/ldscore/sumstats.py\", line 81, in _read_ref_ld\n",
      "    ref_ld = _read_chr_split_files(args.ref_ld_chr, args.ref_ld, log,\n",
      "  File \"/home/mcb/users/yzhu439/RA_Project/.venv/lib/python3.10/site-packages/ldscore/sumstats.py\", line 152, in _read_chr_split_files\n",
      "    out = parsefunc(_splitp(chr_arg), _N_CHR, **kwargs)\n",
      "  File \"/home/mcb/users/yzhu439/RA_Project/.venv/lib/python3.10/site-packages/ldscore/parse.py\", line 103, in ldscore_fromlist\n",
      "    y = ldscore(fh, num)\n",
      "  File \"/home/mcb/users/yzhu439/RA_Project/.venv/lib/python3.10/site-packages/ldscore/parse.py\", line 147, in ldscore\n",
      "    first_fh = sub_chr(fh, chrs[0]) + suffix\n",
      "IndexError: list index out of range\n",
      "\n",
      "During handling of the above exception, another exception occurred:\n",
      "\n",
      "Traceback (most recent call last):\n",
      "  File \"/home/mcb/users/yzhu439/RA_Project/.venv/bin/ldsc.py\", line 656, in <module>\n",
      "    log.log( traceback.format_exc(ex) )\n",
      "  File \"/home/mcb/users/yzhu439/python/lib/python3.10/traceback.py\", line 183, in format_exc\n",
      "    return \"\".join(format_exception(*sys.exc_info(), limit=limit, chain=chain))\n",
      "  File \"/home/mcb/users/yzhu439/python/lib/python3.10/traceback.py\", line 135, in format_exception\n",
      "    te = TracebackException(type(value), value, tb, limit=limit, compact=True)\n",
      "  File \"/home/mcb/users/yzhu439/python/lib/python3.10/traceback.py\", line 502, in __init__\n",
      "    self.stack = StackSummary.extract(\n",
      "  File \"/home/mcb/users/yzhu439/python/lib/python3.10/traceback.py\", line 357, in extract\n",
      "    if limit >= 0:\n",
      "TypeError: '>=' not supported between instances of 'IndexError' and 'int'\n"
     ]
    },
    {
     "data": {
      "text/plain": [
       "CompletedProcess(args='ldsc.py --h2 Toy_example_expr/ALL22_LDregression/gwas_All22_sums.csv --ref-ld-chr Toy_example_expr/ALL22_LDregression/All22_sample_ld.csv --w-ld-chr Toy_example_expr/ALL22_LDregression/All22_sample_ld.csv --out output_results', returncode=1)"
      ]
     },
     "execution_count": 2,
     "metadata": {},
     "output_type": "execute_result"
    }
   ],
   "source": [
    "# Set paths to LD scores and GWAS summary statistics CSV files\n",
    "ld_scores_file = \"Toy_example_expr/ALL22_LDregression/All22_sample_ld.csv\"\n",
    "gwas_sumstats_file = \"Toy_example_expr/ALL22_LDregression/gwas_All22_sums.csv\"\n",
    "# Run LD score regression using ldsc.py\n",
    "ldsc_command = f\"ldsc.py --h2 {gwas_sumstats_file} --ref-ld-chr {ld_scores_file} --w-ld-chr {ld_scores_file} --out output_results\"\n",
    "subprocess.run(ldsc_command, shell=True)"
   ]
  },
  {
   "cell_type": "code",
   "execution_count": null,
   "metadata": {},
   "outputs": [],
   "source": [
    "# # Convert GWAS summary statistics DataFrame to text\n",
    "# gwas_All22_sums = pd.read_csv(\"Toy_example_expr/ALL_CM22.sumstats\", sep=\"\\t\" )\n",
    "# gwas_sumstats_df = pd.DataFrame(...)  # Replace with your GWAS summary statistics DataFrame\n",
    "# gwas_sumstats_text = gwas_sumstats_df.to_csv(index=False, sep=\"\\t\")\n",
    "# # Convert LD scores DataFrame to text\n",
    "# ld_scores_df = pd.DataFrame(...)  # Replace with your LD scores DataFrame\n",
    "# ld_scores_text = ld_scores_df.to_csv(index=False, sep=\"\\t\")\n",
    "# # Run LD score regression using LDSC\n",
    "# ldsc_command = \"ldsc.py --h2-cts stdin --ref-ld-chr stdin --w-ld-chr stdin --out output_results\"\n",
    "# ldsc_process = subprocess.run(ldsc_command, input=gwas_sumstats_text, input_encoding='utf-8', shell=True, capture_output=True, text=True)\n",
    "# output = ldsc_process.stdout\n",
    "# # Load the LDSC regression results from the output\n",
    "# ldsc_results = pd.read_csv(io.StringIO(output), sep=\"\\t\")\n",
    "# # Print the regression results\n",
    "# print(ldsc_results)"
   ]
  },
  {
   "cell_type": "markdown",
   "metadata": {},
   "source": [
    "<h3> Add Covariates_files to GWASLoader </h3>, July 9th. \n",
    "Then run it. "
   ]
  },
  {
   "cell_type": "code",
   "execution_count": 22,
   "metadata": {},
   "outputs": [
    {
     "name": "stdout",
     "output_type": "stream",
     "text": [
      "> Reading BED file...\n",
      "> Generating polygenic scores...\n"
     ]
    },
    {
     "data": {
      "text/html": [
       "<div>\n",
       "<style scoped>\n",
       "    .dataframe tbody tr th:only-of-type {\n",
       "        vertical-align: middle;\n",
       "    }\n",
       "\n",
       "    .dataframe tbody tr th {\n",
       "        vertical-align: top;\n",
       "    }\n",
       "\n",
       "    .dataframe thead th {\n",
       "        text-align: right;\n",
       "    }\n",
       "</style>\n",
       "<table border=\"1\" class=\"dataframe\">\n",
       "  <thead>\n",
       "    <tr style=\"text-align: right;\">\n",
       "      <th></th>\n",
       "      <th>FID</th>\n",
       "      <th>IID</th>\n",
       "      <th>phenotype</th>\n",
       "    </tr>\n",
       "  </thead>\n",
       "  <tbody>\n",
       "    <tr>\n",
       "      <th>0</th>\n",
       "      <td>0</td>\n",
       "      <td>1000</td>\n",
       "      <td>0.585037</td>\n",
       "    </tr>\n",
       "    <tr>\n",
       "      <th>1</th>\n",
       "      <td>0</td>\n",
       "      <td>2000</td>\n",
       "      <td>1.460501</td>\n",
       "    </tr>\n",
       "    <tr>\n",
       "      <th>2</th>\n",
       "      <td>0</td>\n",
       "      <td>3000</td>\n",
       "      <td>0.407756</td>\n",
       "    </tr>\n",
       "    <tr>\n",
       "      <th>3</th>\n",
       "      <td>0</td>\n",
       "      <td>4000</td>\n",
       "      <td>-0.346001</td>\n",
       "    </tr>\n",
       "    <tr>\n",
       "      <th>4</th>\n",
       "      <td>0</td>\n",
       "      <td>5000</td>\n",
       "      <td>0.715634</td>\n",
       "    </tr>\n",
       "    <tr>\n",
       "      <th>...</th>\n",
       "      <td>...</td>\n",
       "      <td>...</td>\n",
       "      <td>...</td>\n",
       "    </tr>\n",
       "    <tr>\n",
       "      <th>2701</th>\n",
       "      <td>0</td>\n",
       "      <td>3061000</td>\n",
       "      <td>-1.135170</td>\n",
       "    </tr>\n",
       "    <tr>\n",
       "      <th>2702</th>\n",
       "      <td>0</td>\n",
       "      <td>3062000</td>\n",
       "      <td>-0.565018</td>\n",
       "    </tr>\n",
       "    <tr>\n",
       "      <th>2703</th>\n",
       "      <td>0</td>\n",
       "      <td>3064000</td>\n",
       "      <td>-0.661585</td>\n",
       "    </tr>\n",
       "    <tr>\n",
       "      <th>2704</th>\n",
       "      <td>0</td>\n",
       "      <td>3065000</td>\n",
       "      <td>0.625329</td>\n",
       "    </tr>\n",
       "    <tr>\n",
       "      <th>2705</th>\n",
       "      <td>0</td>\n",
       "      <td>3066000</td>\n",
       "      <td>0.022895</td>\n",
       "    </tr>\n",
       "  </tbody>\n",
       "</table>\n",
       "<p>2706 rows × 3 columns</p>\n",
       "</div>"
      ],
      "text/plain": [
       "     FID      IID  phenotype\n",
       "0      0     1000   0.585037\n",
       "1      0     2000   1.460501\n",
       "2      0     3000   0.407756\n",
       "3      0     4000  -0.346001\n",
       "4      0     5000   0.715634\n",
       "...   ..      ...        ...\n",
       "2701   0  3061000  -1.135170\n",
       "2702   0  3062000  -0.565018\n",
       "2703   0  3064000  -0.661585\n",
       "2704   0  3065000   0.625329\n",
       "2705   0  3066000   0.022895\n",
       "\n",
       "[2706 rows x 3 columns]"
      ]
     },
     "execution_count": 22,
     "metadata": {},
     "output_type": "execute_result"
    }
   ],
   "source": [
    "#simulate \n",
    "g_sim = mgp.GWASimulator(\"CMAll_qced/chr22/ALL_CM_chr22\",\n",
    "                         pi = [.99, .01],\n",
    "                         h2=0.5)\n",
    "g_sim.simulate()\n",
    "g_sim.to_phenotype_table()"
   ]
  },
  {
   "cell_type": "code",
   "execution_count": 23,
   "metadata": {},
   "outputs": [
    {
     "name": "stdout",
     "output_type": "stream",
     "text": [
      "> Performing GWAS...\n"
     ]
    },
    {
     "name": "stderr",
     "output_type": "stream",
     "text": [
      "/home/mcb/users/yzhu439/RA_Project/.venv/lib/python3.7/site-packages/dask/core.py:119: RuntimeWarning: invalid value encountered in true_divide\n",
      "  return func(*(_execute_task(a, cache) for a in args))\n"
     ]
    }
   ],
   "source": [
    "g_sim.perform_gwas()\n",
    "g_sim.to_summary_statistics_table().to_csv(\n",
    "    \"Toy_example_expr/ALL_CM22.sumstats\", sep=\"\\t\", index=False\n",
    ")"
   ]
  },
  {
   "cell_type": "code",
   "execution_count": 24,
   "metadata": {},
   "outputs": [
    {
     "name": "stdout",
     "output_type": "stream",
     "text": [
      "> Reading BED file...\n",
      "> Reading covariates file...\n",
      "> Reading summary statistics file...\n",
      "> Harmonizing data...\n"
     ]
    }
   ],
   "source": [
    "# Load summary statistics（simulate phenotype from above) and match them with perviously\n",
    "gdl_sim = mgp.GWADataLoader(bed_files=\"CMAll_qced/chr22/ALL_CM_chr22\",\n",
    "                            covariates_file=\"data/Dosage_for_PCA/chr22_covariates.csv\",\n",
    "                            sumstats_files=\"Toy_example_expr/ALL_CM22.sumstats\",\n",
    "                            sumstats_format=\"magenpy\")"
   ]
  },
  {
   "cell_type": "code",
   "execution_count": 25,
   "metadata": {},
   "outputs": [
    {
     "name": "stdout",
     "output_type": "stream",
     "text": [
      "> Computing LD matrix...\n"
     ]
    },
    {
     "name": "stderr",
     "output_type": "stream",
     "text": [
      "/home/mcb/users/yzhu439/RA_Project/.venv/lib/python3.7/site-packages/dask/array/routines.py:318: PerformanceWarning: Increasing number of chunks by factor of 18\n",
      "  axes=(left_axes, right_axes),\n",
      "/home/mcb/users/yzhu439/RA_Project/.venv/lib/python3.7/site-packages/dask/core.py:119: RuntimeWarning: invalid value encountered in true_divide\n",
      "  return func(*(_execute_task(a, cache) for a in args))\n"
     ]
    }
   ],
   "source": [
    "gdl_sim.compute_ld(estimator='sample',\n",
    "                   output_dir='Toy_example_expr/ALLchr22_out/')\n",
    "\n",
    "# gdl_sim.compute_ld(estimator='windowed',\n",
    "#                    output_dir='Toy_example_expr/ALLchr22_out/windowed/',\n",
    "#                    window_size=100)"
   ]
  },
  {
   "cell_type": "markdown",
   "metadata": {},
   "source": [
    "viprs on gdl_sim, with covariates_file for chr22 with samples 2706"
   ]
  },
  {
   "cell_type": "code",
   "execution_count": 26,
   "metadata": {},
   "outputs": [],
   "source": [
    "v = vp.VIPRS(gdl_sim, fix_params={'pi': 0.001, 'sigma_epsilon': 0.999})"
   ]
  },
  {
   "cell_type": "code",
   "execution_count": 27,
   "metadata": {},
   "outputs": [
    {
     "name": "stdout",
     "output_type": "stream",
     "text": [
      "> Initializing model parameters\n",
      "> Loading LD matrices into memory...\n",
      "> Performing model fit...\n",
      "> Using up to 1 threads.\n"
     ]
    },
    {
     "name": "stderr",
     "output_type": "stream",
     "text": [
      "100%|██████████| 1000/1000 [09:53<00:00,  1.68it/s]"
     ]
    },
    {
     "name": "stdout",
     "output_type": "stream",
     "text": [
      "> Final ELBO: 1517.250069\n",
      "> Estimated heritability: 0.784255\n",
      "> Estimated proportion of causal variants: 0.001000\n"
     ]
    },
    {
     "name": "stderr",
     "output_type": "stream",
     "text": [
      "\n",
      "/home/mcb/users/yzhu439/RA_Project/.venv/lib/python3.7/site-packages/ipykernel_launcher.py:1: UserWarning: Maximum iterations reached without convergence. You may need to run the model for more iterations.\n",
      "  \"\"\"Entry point for launching an IPython kernel.\n"
     ]
    },
    {
     "data": {
      "text/plain": [
       "<viprs.model.VIPRS.VIPRS at 0x7f8f2aeb1850>"
      ]
     },
     "execution_count": 27,
     "metadata": {},
     "output_type": "execute_result"
    }
   ],
   "source": [
    "v.fit()"
   ]
  },
  {
   "cell_type": "code",
   "execution_count": 28,
   "metadata": {},
   "outputs": [
    {
     "name": "stdout",
     "output_type": "stream",
     "text": [
      "> Generating polygenic scores...\n"
     ]
    },
    {
     "data": {
      "text/plain": [
       "array([ 1.82466011, -1.67416997,  0.49465992, ..., -4.7011178 ,\n",
       "       -5.97248231, -5.21628394])"
      ]
     },
     "execution_count": 28,
     "metadata": {},
     "output_type": "execute_result"
    }
   ],
   "source": [
    "prs_chr22 = v.predict(gdl_sim)\n",
    "prs_chr22"
   ]
  },
  {
   "cell_type": "code",
   "execution_count": 29,
   "metadata": {},
   "outputs": [
    {
     "data": {
      "text/plain": [
       "(2706,)"
      ]
     },
     "execution_count": 29,
     "metadata": {},
     "output_type": "execute_result"
    }
   ],
   "source": [
    "g_sim.sample_table.phenotype.shape"
   ]
  },
  {
   "cell_type": "code",
   "execution_count": 30,
   "metadata": {},
   "outputs": [
    {
     "data": {
      "text/plain": [
       "0.031342502093083084"
      ]
     },
     "execution_count": 30,
     "metadata": {},
     "output_type": "execute_result"
    }
   ],
   "source": [
    "from viprs.eval.metrics import r2\n",
    "r2(prs_chr22, g_sim.sample_table.phenotype)"
   ]
  }
 ],
 "metadata": {
  "kernelspec": {
   "display_name": ".venv",
   "language": "python",
   "name": "python3"
  },
  "language_info": {
   "codemirror_mode": {
    "name": "ipython",
    "version": 3
   },
   "file_extension": ".py",
   "mimetype": "text/x-python",
   "name": "python",
   "nbconvert_exporter": "python",
   "pygments_lexer": "ipython3",
   "version": "3.7.5"
  },
  "orig_nbformat": 4
 },
 "nbformat": 4,
 "nbformat_minor": 2
}
