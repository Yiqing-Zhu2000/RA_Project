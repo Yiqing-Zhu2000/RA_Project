{
 "cells": [
  {
   "cell_type": "markdown",
   "metadata": {},
   "source": [
    "<h3> Use Real Phenotypes on 2706 training samples, July 16th </h3>\n",
    "instead of using simulated phenotypes. "
   ]
  },
  {
   "cell_type": "code",
   "execution_count": 6,
   "metadata": {},
   "outputs": [],
   "source": [
    "import numpy as np\n",
    "import pandas as pd\n",
    "import magenpy as mgp\n",
    "import viprs as vp\n",
    "import subprocess\n",
    "import io\n",
    "from viprs.eval.metrics import r2 \n",
    "from data.utils.Simulate_training import ELBO_plot\n",
    "from sklearn.preprocessing import scale\n",
    "from sklearn.preprocessing import MinMaxScaler"
   ]
  },
  {
   "cell_type": "markdown",
   "metadata": {},
   "source": [
    "<h5> For chr22, shuffled 500 SNPs  </h5>"
   ]
  },
  {
   "cell_type": "code",
   "execution_count": 31,
   "metadata": {},
   "outputs": [
    {
     "name": "stdout",
     "output_type": "stream",
     "text": [
      "> Reading BED file...\n",
      "> Reading phenotype file...\n",
      "> Performing GWAS...\n"
     ]
    },
    {
     "name": "stderr",
     "output_type": "stream",
     "text": [
      "/home/mcb/users/yzhu439/RA_Project/.venv/lib/python3.7/site-packages/dask/core.py:119: RuntimeWarning: invalid value encountered in true_divide\n",
      "  return func(*(_execute_task(a, cache) for a in args))\n"
     ]
    },
    {
     "name": "stdout",
     "output_type": "stream",
     "text": [
      "> Computing LD matrix...\n"
     ]
    },
    {
     "name": "stderr",
     "output_type": "stream",
     "text": [
      "/home/mcb/users/yzhu439/RA_Project/.venv/lib/python3.7/site-packages/dask/array/routines.py:318: PerformanceWarning: Increasing number of chunks by factor of 18\n",
      "  axes=(left_axes, right_axes),\n",
      "/home/mcb/users/yzhu439/RA_Project/.venv/lib/python3.7/site-packages/dask/core.py:119: RuntimeWarning: invalid value encountered in true_divide\n",
      "  return func(*(_execute_task(a, cache) for a in args))\n"
     ]
    }
   ],
   "source": [
    "# real_phe for 2706 samples\n",
    "real_gdl = mgp.GWADataLoader(\n",
    "    bed_files = \"CMAll_qced/chr22/ALL_CM_chr22\",\n",
    "    phenotype_file=\"data/phenotype_data/DREAM_pheno_Full.csv\",\n",
    ")\n",
    "\n",
    "real_gdl.perform_gwas()\n",
    "real_gdl.to_summary_statistics_table().to_csv(\n",
    "    \"Real_phe_expr/shuffle_500snps.sumstats\", sep=\"\\t\", index=False\n",
    ")\n",
    "real_gdl.compute_ld(estimator='sample',\n",
    "                output_dir='Real_phe_expr/shuffle500_chr22_out/')\n"
   ]
  },
  {
   "cell_type": "code",
   "execution_count": 32,
   "metadata": {},
   "outputs": [
    {
     "name": "stdout",
     "output_type": "stream",
     "text": [
      "> Initializing model parameters\n",
      "> Loading LD matrices into memory...\n",
      "> Performing model fit...\n",
      "> Using up to 1 threads.\n"
     ]
    },
    {
     "name": "stderr",
     "output_type": "stream",
     "text": [
      "  0%|          | 1/1000 [00:00<10:35,  1.57it/s]/home/mcb/users/yzhu439/RA_Project/.venv/lib/python3.7/site-packages/ipykernel_launcher.py:2: UserWarning: Iteration 2: ELBO dropped from -3838.785961 to -3838.788377.\n",
      "  \n",
      "  0%|          | 2/1000 [00:01<10:49,  1.54it/s]/home/mcb/users/yzhu439/RA_Project/.venv/lib/python3.7/site-packages/ipykernel_launcher.py:2: UserWarning: Iteration 3: ELBO dropped from -3838.788377 to -3838.790664.\n",
      "  \n",
      "  0%|          | 3/1000 [00:01<10:26,  1.59it/s]/home/mcb/users/yzhu439/RA_Project/.venv/lib/python3.7/site-packages/ipykernel_launcher.py:2: UserWarning: Iteration 4: ELBO dropped from -3838.790664 to -3838.792939.\n",
      "  \n",
      "  0%|          | 4/1000 [00:02<10:14,  1.62it/s]/home/mcb/users/yzhu439/RA_Project/.venv/lib/python3.7/site-packages/ipykernel_launcher.py:2: UserWarning: Iteration 5: ELBO dropped from -3838.792939 to -3838.795202.\n",
      "  \n",
      "  0%|          | 5/1000 [00:03<10:07,  1.64it/s]/home/mcb/users/yzhu439/RA_Project/.venv/lib/python3.7/site-packages/ipykernel_launcher.py:2: UserWarning: Iteration 6: ELBO dropped from -3838.795202 to -3838.797453.\n",
      "  \n",
      "  1%|          | 6/1000 [00:03<10:02,  1.65it/s]/home/mcb/users/yzhu439/RA_Project/.venv/lib/python3.7/site-packages/ipykernel_launcher.py:2: UserWarning: Iteration 7: ELBO dropped from -3838.797453 to -3838.799692.\n",
      "  \n",
      "  1%|          | 7/1000 [00:04<10:00,  1.65it/s]/home/mcb/users/yzhu439/RA_Project/.venv/lib/python3.7/site-packages/ipykernel_launcher.py:2: UserWarning: Iteration 8: ELBO dropped from -3838.799692 to -3838.801920.\n",
      "  \n",
      "  1%|          | 8/1000 [00:05<10:39,  1.55it/s]/home/mcb/users/yzhu439/RA_Project/.venv/lib/python3.7/site-packages/ipykernel_launcher.py:2: UserWarning: Iteration 9: ELBO dropped from -3838.801920 to -3838.804136.\n",
      "  \n",
      "  1%|          | 9/1000 [00:05<10:25,  1.58it/s]/home/mcb/users/yzhu439/RA_Project/.venv/lib/python3.7/site-packages/ipykernel_launcher.py:2: UserWarning: Iteration 10: ELBO dropped from -3838.804136 to -3838.806340.\n",
      "  \n",
      "  1%|          | 10/1000 [00:06<10:14,  1.61it/s]/home/mcb/users/yzhu439/RA_Project/.venv/lib/python3.7/site-packages/ipykernel_launcher.py:2: UserWarning: Iteration 11: ELBO dropped from -3838.806340 to -3838.808533.\n",
      "  \n",
      "  1%|          | 11/1000 [00:06<10:08,  1.63it/s]/home/mcb/users/yzhu439/RA_Project/.venv/lib/python3.7/site-packages/ipykernel_launcher.py:2: UserWarning: Iteration 12: ELBO dropped from -3838.808533 to -3838.810714.\n",
      "  \n",
      "/home/mcb/users/yzhu439/RA_Project/.venv/lib/python3.7/site-packages/ipykernel_launcher.py:2: UserWarning: The optimization is halted due to numerical instabilities!\n",
      "  \n",
      "  1%|          | 11/1000 [00:07<11:07,  1.48it/s]"
     ]
    },
    {
     "name": "stdout",
     "output_type": "stream",
     "text": [
      "> Final ELBO: -3838.810714\n",
      "> Estimated heritability: 0.000968\n",
      "> Estimated proportion of causal variants: 0.001000\n"
     ]
    },
    {
     "name": "stderr",
     "output_type": "stream",
     "text": [
      "\n"
     ]
    },
    {
     "data": {
      "text/plain": [
       "<viprs.model.VIPRS.VIPRS at 0x7fd028534550>"
      ]
     },
     "execution_count": 32,
     "metadata": {},
     "output_type": "execute_result"
    }
   ],
   "source": [
    "v = vp.VIPRS(real_gdl, fix_params={'pi': 0.001, 'sigma_epsilon': 0.999}) \n",
    "v.fit()"
   ]
  },
  {
   "cell_type": "code",
   "execution_count": 33,
   "metadata": {},
   "outputs": [
    {
     "data": {
      "image/png": "[encoded data removed]",
      "text/plain": [
       "<Figure size 640x480 with 1 Axes>"
      ]
     },
     "metadata": {},
     "output_type": "display_data"
    }
   ],
   "source": [
    "ELBO_plot(v.history['ELBO'], \"Real_phe_expr/ELBO_plots/real_500SNPs_chr22.png\",itr=0)"
   ]
  },
  {
   "cell_type": "code",
   "execution_count": 34,
   "metadata": {},
   "outputs": [
    {
     "name": "stdout",
     "output_type": "stream",
     "text": [
      "> Generating polygenic scores...\n"
     ]
    }
   ],
   "source": [
    "pred = v.predict()"
   ]
  },
  {
   "cell_type": "code",
   "execution_count": 35,
   "metadata": {},
   "outputs": [
    {
     "data": {
      "text/html": [
       "<div>\n",
       "<style scoped>\n",
       "    .dataframe tbody tr th:only-of-type {\n",
       "        vertical-align: middle;\n",
       "    }\n",
       "\n",
       "    .dataframe tbody tr th {\n",
       "        vertical-align: top;\n",
       "    }\n",
       "\n",
       "    .dataframe thead th {\n",
       "        text-align: right;\n",
       "    }\n",
       "</style>\n",
       "<table border=\"1\" class=\"dataframe\">\n",
       "  <thead>\n",
       "    <tr style=\"text-align: right;\">\n",
       "      <th></th>\n",
       "      <th>FID</th>\n",
       "      <th>IID</th>\n",
       "      <th>phenotype</th>\n",
       "    </tr>\n",
       "  </thead>\n",
       "  <tbody>\n",
       "    <tr>\n",
       "      <th>0</th>\n",
       "      <td>0</td>\n",
       "      <td>1000</td>\n",
       "      <td>1.800000</td>\n",
       "    </tr>\n",
       "    <tr>\n",
       "      <th>1</th>\n",
       "      <td>0</td>\n",
       "      <td>2000</td>\n",
       "      <td>2.130000</td>\n",
       "    </tr>\n",
       "    <tr>\n",
       "      <th>2</th>\n",
       "      <td>0</td>\n",
       "      <td>3000</td>\n",
       "      <td>2.010000</td>\n",
       "    </tr>\n",
       "    <tr>\n",
       "      <th>3</th>\n",
       "      <td>0</td>\n",
       "      <td>4000</td>\n",
       "      <td>2.540000</td>\n",
       "    </tr>\n",
       "    <tr>\n",
       "      <th>4</th>\n",
       "      <td>0</td>\n",
       "      <td>5000</td>\n",
       "      <td>-0.150000</td>\n",
       "    </tr>\n",
       "    <tr>\n",
       "      <th>...</th>\n",
       "      <td>...</td>\n",
       "      <td>...</td>\n",
       "      <td>...</td>\n",
       "    </tr>\n",
       "    <tr>\n",
       "      <th>2701</th>\n",
       "      <td>0</td>\n",
       "      <td>3061000</td>\n",
       "      <td>2.370120</td>\n",
       "    </tr>\n",
       "    <tr>\n",
       "      <th>2702</th>\n",
       "      <td>0</td>\n",
       "      <td>3062000</td>\n",
       "      <td>3.914104</td>\n",
       "    </tr>\n",
       "    <tr>\n",
       "      <th>2703</th>\n",
       "      <td>0</td>\n",
       "      <td>3064000</td>\n",
       "      <td>4.955841</td>\n",
       "    </tr>\n",
       "    <tr>\n",
       "      <th>2704</th>\n",
       "      <td>0</td>\n",
       "      <td>3065000</td>\n",
       "      <td>1.029280</td>\n",
       "    </tr>\n",
       "    <tr>\n",
       "      <th>2705</th>\n",
       "      <td>0</td>\n",
       "      <td>3066000</td>\n",
       "      <td>2.767088</td>\n",
       "    </tr>\n",
       "  </tbody>\n",
       "</table>\n",
       "<p>2706 rows × 3 columns</p>\n",
       "</div>"
      ],
      "text/plain": [
       "     FID      IID  phenotype\n",
       "0      0     1000   1.800000\n",
       "1      0     2000   2.130000\n",
       "2      0     3000   2.010000\n",
       "3      0     4000   2.540000\n",
       "4      0     5000  -0.150000\n",
       "...   ..      ...        ...\n",
       "2701   0  3061000   2.370120\n",
       "2702   0  3062000   3.914104\n",
       "2703   0  3064000   4.955841\n",
       "2704   0  3065000   1.029280\n",
       "2705   0  3066000   2.767088\n",
       "\n",
       "[2706 rows x 3 columns]"
      ]
     },
     "execution_count": 35,
     "metadata": {},
     "output_type": "execute_result"
    }
   ],
   "source": [
    "pred.shape\n",
    "real_gdl.to_phenotype_table()"
   ]
  },
  {
   "cell_type": "code",
   "execution_count": 54,
   "metadata": {},
   "outputs": [
    {
     "data": {
      "text/plain": [
       "5.297191918397351e-05"
      ]
     },
     "execution_count": 54,
     "metadata": {},
     "output_type": "execute_result"
    }
   ],
   "source": [
    "v.get_heritability()\n",
    "v.get_proportion_causal()\n",
    "v.get_sigma_beta()"
   ]
  },
  {
   "cell_type": "code",
   "execution_count": 55,
   "metadata": {},
   "outputs": [
    {
     "data": {
      "text/plain": [
       "5.297191918397351e-08"
      ]
     },
     "execution_count": 55,
     "metadata": {},
     "output_type": "execute_result"
    }
   ],
   "source": [
    "v.get_average_effect_size_variance()"
   ]
  },
  {
   "cell_type": "code",
   "execution_count": 61,
   "metadata": {},
   "outputs": [
    {
     "data": {
      "text/plain": [
       "[-3838.785960800183,\n",
       " -3838.78837708301,\n",
       " -3838.790664084688,\n",
       " -3838.7929390250715,\n",
       " -3838.795201960886,\n",
       " -3838.7974529867947,\n",
       " -3838.7996921964577,\n",
       " -3838.801919682555,\n",
       " -3838.804135536801,\n",
       " -3838.8063398499557,\n",
       " -3838.8085327118383,\n",
       " -3838.81071421134]"
      ]
     },
     "execution_count": 61,
     "metadata": {},
     "output_type": "execute_result"
    }
   ],
   "source": [
    "a = v.history['ELBO']\n",
    "a"
   ]
  },
  {
   "cell_type": "code",
   "execution_count": 60,
   "metadata": {},
   "outputs": [
    {
     "data": {
      "image/png": "[encoded data removed]",
      "text/plain": [
       "<Figure size 640x480 with 1 Axes>"
      ]
     },
     "metadata": {},
     "output_type": "display_data"
    }
   ],
   "source": [
    "ELBO_plot(a, \"Real_phe_expr/ELBO_plots/real_500SNPs_chr22.png\",itr=0)"
   ]
  }
 ],
 "metadata": {
  "kernelspec": {
   "display_name": ".venv",
   "language": "python",
   "name": "python3"
  },
  "language_info": {
   "codemirror_mode": {
    "name": "ipython",
    "version": 3
   },
   "file_extension": ".py",
   "mimetype": "text/x-python",
   "name": "python",
   "nbconvert_exporter": "python",
   "pygments_lexer": "ipython3",
   "version": "3.7.5"
  },
  "orig_nbformat": 4
 },
 "nbformat": 4,
 "nbformat_minor": 2
}
