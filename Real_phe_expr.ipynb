{
 "cells": [
  {
   "cell_type": "markdown",
   "metadata": {},
   "source": [
    "<h3> Use Real Phenotypes on 2706 training samples, July 16th </h3>\n",
    "instead of using simulated phenotypes. "
   ]
  },
  {
   "cell_type": "code",
   "execution_count": 2,
   "metadata": {},
   "outputs": [],
   "source": [
    "import numpy as np\n",
    "import pandas as pd\n",
    "import magenpy as mgp\n",
    "import viprs as vp\n",
    "import subprocess\n",
    "import io\n",
    "from viprs.eval.metrics import r2 \n",
    "from data.utils.Simulate_training import ELBO_plot\n",
    "from data.utils.Simulate_training import *\n",
    "from sklearn.preprocessing import scale\n",
    "from sklearn.preprocessing import MinMaxScaler\n",
    "from scipy.stats import pearsonr"
   ]
  },
  {
   "cell_type": "markdown",
   "metadata": {},
   "source": [
    "<h5> For chr22, shuffled 500 SNPs  </h5>"
   ]
  },
  {
   "cell_type": "code",
   "execution_count": 3,
   "metadata": {},
   "outputs": [
    {
     "name": "stdout",
     "output_type": "stream",
     "text": [
      "> Reading BED file...\n",
      "> Reading phenotype file...\n",
      "> Performing GWAS...\n",
      "> Computing LD matrix...\n",
      "500 (None, None)\n"
     ]
    },
    {
     "name": "stderr",
     "output_type": "stream",
     "text": [
      "/home/mcb/users/yzhu439/RA_Project/.venv/lib/python3.7/site-packages/scipy/sparse/_index.py:125: SparseEfficiencyWarning: Changing the sparsity structure of a csr_matrix is expensive. lil_matrix is more efficient.\n",
      "  self._set_arrayXarray(i, j, x)\n"
     ]
    },
    {
     "ename": "ValueError",
     "evalue": "Invalid LD Matrix: Element 0 does not have matching LD boundaries!",
     "output_type": "error",
     "traceback": [
      "\u001b[0;31m---------------------------------------------------------------------------\u001b[0m",
      "\u001b[0;31mValueError\u001b[0m                                Traceback (most recent call last)",
      "\u001b[0;32m/tmp/ipykernel_9845/1291686342.py\u001b[0m in \u001b[0;36m<module>\u001b[0;34m\u001b[0m\n\u001b[1;32m     12\u001b[0m )\n\u001b[1;32m     13\u001b[0m real_gdl.compute_ld(estimator='sample',\n\u001b[0;32m---> 14\u001b[0;31m                 output_dir='Real_phe_expr/shuffle500_chr22_out/')\n\u001b[0m\u001b[1;32m     15\u001b[0m \u001b[0;34m\u001b[0m\u001b[0m\n\u001b[1;32m     16\u001b[0m \u001b[0mrealTrain_gdl\u001b[0m\u001b[0;34m,\u001b[0m \u001b[0mrealVal_gdl\u001b[0m \u001b[0;34m=\u001b[0m \u001b[0mreal_gdl\u001b[0m\u001b[0;34m.\u001b[0m\u001b[0msplit_by_samples\u001b[0m\u001b[0;34m(\u001b[0m\u001b[0mproportions\u001b[0m\u001b[0;34m=\u001b[0m\u001b[0;34m[\u001b[0m\u001b[0;36m.8\u001b[0m\u001b[0;34m,\u001b[0m \u001b[0;36m.2\u001b[0m\u001b[0;34m]\u001b[0m\u001b[0;34m)\u001b[0m\u001b[0;34m\u001b[0m\u001b[0;34m\u001b[0m\u001b[0m\n",
      "\u001b[0;32m~/RA_Project/.venv/lib/python3.7/site-packages/magenpy/GWADataLoader.py\u001b[0m in \u001b[0;36mcompute_ld\u001b[0;34m(self, estimator, output_dir, **ld_kwargs)\u001b[0m\n\u001b[1;32m    561\u001b[0m                              \u001b[0mtotal\u001b[0m\u001b[0;34m=\u001b[0m\u001b[0mlen\u001b[0m\u001b[0;34m(\u001b[0m\u001b[0mself\u001b[0m\u001b[0;34m.\u001b[0m\u001b[0mgenotype\u001b[0m\u001b[0;34m)\u001b[0m\u001b[0;34m,\u001b[0m\u001b[0;34m\u001b[0m\u001b[0;34m\u001b[0m\u001b[0m\n\u001b[1;32m    562\u001b[0m                              \u001b[0mdesc\u001b[0m\u001b[0;34m=\u001b[0m\u001b[0;34m'Computing LD matrices'\u001b[0m\u001b[0;34m,\u001b[0m\u001b[0;34m\u001b[0m\u001b[0;34m\u001b[0m\u001b[0m\n\u001b[0;32m--> 563\u001b[0;31m                              disable=not self.verbose or len(self.genotype) < 2)\n\u001b[0m\u001b[1;32m    564\u001b[0m         }\n\u001b[1;32m    565\u001b[0m \u001b[0;34m\u001b[0m\u001b[0m\n",
      "\u001b[0;32m~/RA_Project/.venv/lib/python3.7/site-packages/magenpy/GWADataLoader.py\u001b[0m in \u001b[0;36m<dictcomp>\u001b[0;34m(.0)\u001b[0m\n\u001b[1;32m    558\u001b[0m         self.ld = {\n\u001b[1;32m    559\u001b[0m             \u001b[0mc\u001b[0m\u001b[0;34m:\u001b[0m \u001b[0mg\u001b[0m\u001b[0;34m.\u001b[0m\u001b[0mcompute_ld\u001b[0m\u001b[0;34m(\u001b[0m\u001b[0mestimator\u001b[0m\u001b[0;34m,\u001b[0m \u001b[0moutput_dir\u001b[0m\u001b[0;34m,\u001b[0m \u001b[0;34m**\u001b[0m\u001b[0mld_kwargs\u001b[0m\u001b[0;34m)\u001b[0m\u001b[0;34m\u001b[0m\u001b[0;34m\u001b[0m\u001b[0m\n\u001b[0;32m--> 560\u001b[0;31m             for c, g in tqdm(sorted(self.genotype.items(), key=lambda x: x[0]),\n\u001b[0m\u001b[1;32m    561\u001b[0m                              \u001b[0mtotal\u001b[0m\u001b[0;34m=\u001b[0m\u001b[0mlen\u001b[0m\u001b[0;34m(\u001b[0m\u001b[0mself\u001b[0m\u001b[0;34m.\u001b[0m\u001b[0mgenotype\u001b[0m\u001b[0;34m)\u001b[0m\u001b[0;34m,\u001b[0m\u001b[0;34m\u001b[0m\u001b[0;34m\u001b[0m\u001b[0m\n\u001b[1;32m    562\u001b[0m                              \u001b[0mdesc\u001b[0m\u001b[0;34m=\u001b[0m\u001b[0;34m'Computing LD matrices'\u001b[0m\u001b[0;34m,\u001b[0m\u001b[0;34m\u001b[0m\u001b[0;34m\u001b[0m\u001b[0m\n",
      "\u001b[0;32m~/RA_Project/.venv/lib/python3.7/site-packages/magenpy/GenotypeMatrix.py\u001b[0m in \u001b[0;36mcompute_ld\u001b[0;34m(self, estimator, output_dir, **ld_kwargs)\u001b[0m\n\u001b[1;32m    258\u001b[0m         \u001b[0mself\u001b[0m\u001b[0;34m.\u001b[0m\u001b[0mcleanup_dir_list\u001b[0m\u001b[0;34m.\u001b[0m\u001b[0mappend\u001b[0m\u001b[0;34m(\u001b[0m\u001b[0mtmp_ld_dir\u001b[0m\u001b[0;34m)\u001b[0m\u001b[0;34m\u001b[0m\u001b[0;34m\u001b[0m\u001b[0m\n\u001b[1;32m    259\u001b[0m \u001b[0;34m\u001b[0m\u001b[0m\n\u001b[0;32m--> 260\u001b[0;31m         \u001b[0;32mreturn\u001b[0m \u001b[0mld_est\u001b[0m\u001b[0;34m.\u001b[0m\u001b[0mcompute\u001b[0m\u001b[0;34m(\u001b[0m\u001b[0moutput_dir\u001b[0m\u001b[0;34m,\u001b[0m \u001b[0mtemp_dir\u001b[0m\u001b[0;34m=\u001b[0m\u001b[0mtmp_ld_dir\u001b[0m\u001b[0;34m.\u001b[0m\u001b[0mname\u001b[0m\u001b[0;34m)\u001b[0m\u001b[0;34m\u001b[0m\u001b[0;34m\u001b[0m\u001b[0m\n\u001b[0m\u001b[1;32m    261\u001b[0m \u001b[0;34m\u001b[0m\u001b[0m\n\u001b[1;32m    262\u001b[0m     \u001b[0;32mdef\u001b[0m \u001b[0mset_sample_table\u001b[0m\u001b[0;34m(\u001b[0m\u001b[0mself\u001b[0m\u001b[0;34m,\u001b[0m \u001b[0msample_table\u001b[0m\u001b[0;34m)\u001b[0m\u001b[0;34m:\u001b[0m\u001b[0;34m\u001b[0m\u001b[0;34m\u001b[0m\u001b[0m\n",
      "\u001b[0;32m~/RA_Project/.venv/lib/python3.7/site-packages/magenpy/stats/ld/estimator.py\u001b[0m in \u001b[0;36mcompute\u001b[0;34m(self, output_dir, temp_dir)\u001b[0m\n\u001b[1;32m     88\u001b[0m         \u001b[0mld_mat\u001b[0m\u001b[0;34m.\u001b[0m\u001b[0mset_store_attr\u001b[0m\u001b[0;34m(\u001b[0m\u001b[0;34m'LDScore'\u001b[0m\u001b[0;34m,\u001b[0m \u001b[0mld_mat\u001b[0m\u001b[0;34m.\u001b[0m\u001b[0mcompute_ld_scores\u001b[0m\u001b[0;34m(\u001b[0m\u001b[0;34m)\u001b[0m\u001b[0;34m.\u001b[0m\u001b[0mtolist\u001b[0m\u001b[0;34m(\u001b[0m\u001b[0;34m)\u001b[0m\u001b[0;34m)\u001b[0m\u001b[0;34m\u001b[0m\u001b[0;34m\u001b[0m\u001b[0m\n\u001b[1;32m     89\u001b[0m \u001b[0;34m\u001b[0m\u001b[0m\n\u001b[0;32m---> 90\u001b[0;31m         \u001b[0;32mif\u001b[0m \u001b[0m_validate_ld_matrix\u001b[0m\u001b[0;34m(\u001b[0m\u001b[0mld_mat\u001b[0m\u001b[0;34m)\u001b[0m\u001b[0;34m:\u001b[0m\u001b[0;34m\u001b[0m\u001b[0;34m\u001b[0m\u001b[0m\n\u001b[0m\u001b[1;32m     91\u001b[0m             \u001b[0;32mreturn\u001b[0m \u001b[0mld_mat\u001b[0m\u001b[0;34m\u001b[0m\u001b[0;34m\u001b[0m\u001b[0m\n\u001b[1;32m     92\u001b[0m \u001b[0;34m\u001b[0m\u001b[0m\n",
      "\u001b[0;32m~/RA_Project/.venv/lib/python3.7/site-packages/magenpy/stats/ld/utils.py\u001b[0m in \u001b[0;36m_validate_ld_matrix\u001b[0;34m(ld_mat)\u001b[0m\n\u001b[1;32m     43\u001b[0m     \u001b[0;32mfor\u001b[0m \u001b[0mi\u001b[0m\u001b[0;34m,\u001b[0m \u001b[0md\u001b[0m \u001b[0;32min\u001b[0m \u001b[0menumerate\u001b[0m\u001b[0;34m(\u001b[0m\u001b[0mld_mat\u001b[0m\u001b[0;34m)\u001b[0m\u001b[0;34m:\u001b[0m\u001b[0;34m\u001b[0m\u001b[0;34m\u001b[0m\u001b[0m\n\u001b[1;32m     44\u001b[0m         \u001b[0;32mif\u001b[0m \u001b[0mlen\u001b[0m\u001b[0;34m(\u001b[0m\u001b[0md\u001b[0m\u001b[0;34m)\u001b[0m \u001b[0;34m!=\u001b[0m \u001b[0mld_block_lengths\u001b[0m\u001b[0;34m[\u001b[0m\u001b[0mi\u001b[0m\u001b[0;34m]\u001b[0m\u001b[0;34m:\u001b[0m\u001b[0;34m\u001b[0m\u001b[0;34m\u001b[0m\u001b[0m\n\u001b[0;32m---> 45\u001b[0;31m             \u001b[0;32mraise\u001b[0m \u001b[0mValueError\u001b[0m\u001b[0;34m(\u001b[0m\u001b[0;34mf\"Invalid LD Matrix: Element {i} does not have matching LD boundaries!\"\u001b[0m\u001b[0;34m)\u001b[0m\u001b[0;34m\u001b[0m\u001b[0;34m\u001b[0m\u001b[0m\n\u001b[0m\u001b[1;32m     46\u001b[0m \u001b[0;34m\u001b[0m\u001b[0m\n\u001b[1;32m     47\u001b[0m     \u001b[0;32mif\u001b[0m \u001b[0mi\u001b[0m \u001b[0;34m!=\u001b[0m \u001b[0;34m(\u001b[0m\u001b[0mld_mat\u001b[0m\u001b[0;34m.\u001b[0m\u001b[0mn_elements\u001b[0m \u001b[0;34m-\u001b[0m \u001b[0;36m1\u001b[0m\u001b[0;34m)\u001b[0m\u001b[0;34m:\u001b[0m\u001b[0;34m\u001b[0m\u001b[0;34m\u001b[0m\u001b[0m\n",
      "\u001b[0;31mValueError\u001b[0m: Invalid LD Matrix: Element 0 does not have matching LD boundaries!"
     ]
    }
   ],
   "source": [
    "# real_phe for 2706 samples\n",
    "real_gdl = mgp.GWADataLoader(\n",
    "    bed_files = \"CMAll_qced/chr22/shuffle_500snps\",\n",
    "    phenotype_file=\"data/phenotype_data/DREAM_pheno_Full.csv\",\n",
    "    backend=\"plink\"\n",
    ")\n",
    "#\"Toy_example_expr/phenotype/shuffle500_phe.csv\"\n",
    "\n",
    "real_gdl.perform_gwas()\n",
    "real_gdl.to_summary_statistics_table().to_csv(\n",
    "    \"Real_phe_expr/real_shuffle_500snps.sumstats\", sep=\"\\t\", index=False\n",
    ")\n",
    "real_gdl.compute_ld(estimator='sample',\n",
    "                output_dir='Real_phe_expr/shuffle500_chr22_out/')\n",
    "\n",
    "realTrain_gdl, realVal_gdl = real_gdl.split_by_samples(proportions=[.8, .2])"
   ]
  },
  {
   "cell_type": "code",
   "execution_count": 19,
   "metadata": {},
   "outputs": [
    {
     "data": {
      "text/plain": [
       "2706"
      ]
     },
     "execution_count": 19,
     "metadata": {},
     "output_type": "execute_result"
    }
   ],
   "source": [
    "real_gdl.sample_size\n"
   ]
  },
  {
   "cell_type": "code",
   "execution_count": 80,
   "metadata": {},
   "outputs": [
    {
     "name": "stdout",
     "output_type": "stream",
     "text": [
      "2180\n",
      "526\n"
     ]
    }
   ],
   "source": [
    "print(realTrain_gdl.sample_size)\n",
    "print(realVal_gdl.sample_size)"
   ]
  },
  {
   "cell_type": "code",
   "execution_count": 81,
   "metadata": {},
   "outputs": [
    {
     "name": "stdout",
     "output_type": "stream",
     "text": [
      "> Initializing model parameters\n",
      "> Loading LD matrices into memory...\n",
      "> Performing model fit...\n",
      "> Using up to 1 threads.\n"
     ]
    },
    {
     "name": "stderr",
     "output_type": "stream",
     "text": [
      "  0%|          | 0/1000 [00:00<?, ?it/s]"
     ]
    },
    {
     "name": "stderr",
     "output_type": "stream",
     "text": [
      " 23%|██▎       | 227/1000 [00:00<00:02, 378.93it/s]"
     ]
    },
    {
     "name": "stdout",
     "output_type": "stream",
     "text": [
      "Converged at iteration 228 | ELBO: -2852.019392\n",
      "> Final ELBO: -2852.019392\n",
      "> Estimated heritability: 0.226304\n",
      "> Estimated proportion of causal variants: 0.998000\n"
     ]
    },
    {
     "name": "stderr",
     "output_type": "stream",
     "text": [
      "\n"
     ]
    },
    {
     "data": {
      "text/plain": [
       "<viprs.model.VIPRS.VIPRS at 0x7f1d3b334150>"
      ]
     },
     "execution_count": 81,
     "metadata": {},
     "output_type": "execute_result"
    }
   ],
   "source": [
    "v = vp.VIPRS(realTrain_gdl, fix_params={'pi': 0.998, 'sigma_epsilon': 0.750}) \n",
    "v.fit()"
   ]
  },
  {
   "cell_type": "code",
   "execution_count": 82,
   "metadata": {},
   "outputs": [
    {
     "data": {
      "image/png": "[encoded data removed]",
      "text/plain": [
       "<Figure size 640x480 with 1 Axes>"
      ]
     },
     "metadata": {},
     "output_type": "display_data"
    }
   ],
   "source": [
    "ELBO_plot(v.history['ELBO'], \"Real_phe_expr/ELBO_plots/real_500SNPs_chr22.png\",itr=0)"
   ]
  },
  {
   "cell_type": "code",
   "execution_count": 83,
   "metadata": {},
   "outputs": [
    {
     "name": "stdout",
     "output_type": "stream",
     "text": [
      "> Generating polygenic scores...\n"
     ]
    }
   ],
   "source": [
    "pred = v.predict(realVal_gdl)"
   ]
  },
  {
   "cell_type": "code",
   "execution_count": 84,
   "metadata": {},
   "outputs": [
    {
     "data": {
      "text/plain": [
       "0.10113451528034216"
      ]
     },
     "execution_count": 84,
     "metadata": {},
     "output_type": "execute_result"
    }
   ],
   "source": [
    "r2(pred, realVal_gdl.sample_table.phenotype)"
   ]
  },
  {
   "cell_type": "code",
   "execution_count": 85,
   "metadata": {},
   "outputs": [
    {
     "data": {
      "text/plain": [
       "0.318016533029876"
      ]
     },
     "execution_count": 85,
     "metadata": {},
     "output_type": "execute_result"
    }
   ],
   "source": [
    "# Pearson Correlation \n",
    "corr_train, p_value_train = pearsonr(pred, realVal_gdl.sample_table.phenotype)\n",
    "corr_train"
   ]
  },
  {
   "cell_type": "code",
   "execution_count": 30,
   "metadata": {},
   "outputs": [
    {
     "data": {
      "image/png": "[encoded data removed]",
      "text/plain": [
       "<Figure size 640x480 with 1 Axes>"
      ]
     },
     "metadata": {},
     "output_type": "display_data"
    }
   ],
   "source": [
    "plot_obs_vs_pred(realVal_gdl.sample_table.phenotype, pred)"
   ]
  },
  {
   "cell_type": "code",
   "execution_count": 88,
   "metadata": {},
   "outputs": [
    {
     "data": {
      "text/plain": [
       "0.0005337698077679693"
      ]
     },
     "execution_count": 88,
     "metadata": {},
     "output_type": "execute_result"
    }
   ],
   "source": [
    "v.sigma_beta"
   ]
  },
  {
   "cell_type": "code",
   "execution_count": 31,
   "metadata": {},
   "outputs": [
    {
     "data": {
      "text/html": [
       "<div>\n",
       "<style scoped>\n",
       "    .dataframe tbody tr th:only-of-type {\n",
       "        vertical-align: middle;\n",
       "    }\n",
       "\n",
       "    .dataframe tbody tr th {\n",
       "        vertical-align: top;\n",
       "    }\n",
       "\n",
       "    .dataframe thead th {\n",
       "        text-align: right;\n",
       "    }\n",
       "</style>\n",
       "<table border=\"1\" class=\"dataframe\">\n",
       "  <thead>\n",
       "    <tr style=\"text-align: right;\">\n",
       "      <th></th>\n",
       "      <th>FID</th>\n",
       "      <th>IID</th>\n",
       "      <th>phenotype</th>\n",
       "    </tr>\n",
       "  </thead>\n",
       "  <tbody>\n",
       "    <tr>\n",
       "      <th>0</th>\n",
       "      <td>0</td>\n",
       "      <td>1000</td>\n",
       "      <td>1.800000</td>\n",
       "    </tr>\n",
       "    <tr>\n",
       "      <th>1</th>\n",
       "      <td>0</td>\n",
       "      <td>3000</td>\n",
       "      <td>2.010000</td>\n",
       "    </tr>\n",
       "    <tr>\n",
       "      <th>2</th>\n",
       "      <td>0</td>\n",
       "      <td>4000</td>\n",
       "      <td>2.540000</td>\n",
       "    </tr>\n",
       "    <tr>\n",
       "      <th>3</th>\n",
       "      <td>0</td>\n",
       "      <td>6000</td>\n",
       "      <td>0.900000</td>\n",
       "    </tr>\n",
       "    <tr>\n",
       "      <th>4</th>\n",
       "      <td>0</td>\n",
       "      <td>7000</td>\n",
       "      <td>2.190000</td>\n",
       "    </tr>\n",
       "    <tr>\n",
       "      <th>...</th>\n",
       "      <td>...</td>\n",
       "      <td>...</td>\n",
       "      <td>...</td>\n",
       "    </tr>\n",
       "    <tr>\n",
       "      <th>2135</th>\n",
       "      <td>0</td>\n",
       "      <td>3061000</td>\n",
       "      <td>2.370120</td>\n",
       "    </tr>\n",
       "    <tr>\n",
       "      <th>2136</th>\n",
       "      <td>0</td>\n",
       "      <td>3062000</td>\n",
       "      <td>3.914104</td>\n",
       "    </tr>\n",
       "    <tr>\n",
       "      <th>2137</th>\n",
       "      <td>0</td>\n",
       "      <td>3064000</td>\n",
       "      <td>4.955841</td>\n",
       "    </tr>\n",
       "    <tr>\n",
       "      <th>2138</th>\n",
       "      <td>0</td>\n",
       "      <td>3065000</td>\n",
       "      <td>1.029280</td>\n",
       "    </tr>\n",
       "    <tr>\n",
       "      <th>2139</th>\n",
       "      <td>0</td>\n",
       "      <td>3066000</td>\n",
       "      <td>2.767088</td>\n",
       "    </tr>\n",
       "  </tbody>\n",
       "</table>\n",
       "<p>2140 rows × 3 columns</p>\n",
       "</div>"
      ],
      "text/plain": [
       "     FID      IID  phenotype\n",
       "0      0     1000   1.800000\n",
       "1      0     3000   2.010000\n",
       "2      0     4000   2.540000\n",
       "3      0     6000   0.900000\n",
       "4      0     7000   2.190000\n",
       "...   ..      ...        ...\n",
       "2135   0  3061000   2.370120\n",
       "2136   0  3062000   3.914104\n",
       "2137   0  3064000   4.955841\n",
       "2138   0  3065000   1.029280\n",
       "2139   0  3066000   2.767088\n",
       "\n",
       "[2140 rows x 3 columns]"
      ]
     },
     "execution_count": 31,
     "metadata": {},
     "output_type": "execute_result"
    }
   ],
   "source": [
    "pred.shape\n",
    "realTrain_gdl.to_phenotype_table()"
   ]
  },
  {
   "cell_type": "code",
   "execution_count": 35,
   "metadata": {},
   "outputs": [
    {
     "data": {
      "text/plain": [
       "0.22630399041502844"
      ]
     },
     "execution_count": 35,
     "metadata": {},
     "output_type": "execute_result"
    }
   ],
   "source": [
    "v.get_heritability()"
   ]
  },
  {
   "cell_type": "code",
   "execution_count": 36,
   "metadata": {},
   "outputs": [
    {
     "data": {
      "text/plain": [
       "0.0005327022681524333"
      ]
     },
     "execution_count": 36,
     "metadata": {},
     "output_type": "execute_result"
    }
   ],
   "source": [
    "v.get_average_effect_size_variance()"
   ]
  },
  {
   "cell_type": "code",
   "execution_count": 37,
   "metadata": {},
   "outputs": [
    {
     "data": {
      "text/plain": [
       "[-2872.7546306199483,\n",
       " -2847.849469244868,\n",
       " -2846.5886458563664,\n",
       " -2845.702471332172,\n",
       " -2844.6591164284546,\n",
       " -2843.582527949927,\n",
       " -2842.5156889028885,\n",
       " -2841.4691616459017,\n",
       " -2840.4452328288157,\n",
       " -2839.4442130860657,\n",
       " -2838.465929948112,\n",
       " -2837.5100841504905,\n",
       " -2836.576338902151,\n",
       " -2835.6643439328354,\n",
       " -2834.7737426875046,\n",
       " -2833.9041748966147,\n",
       " -2833.0552777969347,\n",
       " -2832.2266869260475,\n",
       " -2831.4180367619206,\n",
       " -2830.628961290271,\n",
       " -2829.8590945260275,\n",
       " -2829.108070997939,\n",
       " -2828.375526199987,\n",
       " -2827.661097011631,\n",
       " -2826.9644220883215,\n",
       " -2826.285142223578,\n",
       " -2825.6229006838653,\n",
       " -2824.977343517462,\n",
       " -2824.3481198385,\n",
       " -2823.7348820873253,\n",
       " -2823.1372862683343,\n",
       " -2822.55499216637,\n",
       " -2821.987663542783,\n",
       " -2821.4349683121973,\n",
       " -2820.896578701015,\n",
       " -2820.3721713886466,\n",
       " -2819.8614276324256,\n",
       " -2819.364033377152,\n",
       " -2818.8796793501256,\n",
       " -2818.4080611425707,\n",
       " -2817.9488792782463,\n",
       " -2817.501839270052,\n",
       " -2817.0666516653923,\n",
       " -2816.6430320810164,\n",
       " -2816.2307012280357,\n",
       " -2815.829384927795,\n",
       " -2815.438814119205,\n",
       " -2815.058724858162,\n",
       " -2814.68885830963,\n",
       " -2814.328960732907,\n",
       " -2813.9787834606236,\n",
       " -2813.6380828719457,\n",
       " -2813.306620360452,\n",
       " -2812.9841622971326,\n",
       " -2812.6704799889153,\n",
       " -2812.3653496331262,\n",
       " -2812.0685522682375,\n",
       " -2811.779873721273,\n",
       " -2811.4991045521897,\n",
       " -2811.226039995544,\n",
       " -2810.9604798997407,\n",
       " -2810.7022286641345,\n",
       " -2810.4510951742436,\n",
       " -2810.2068927353107,\n",
       " -2809.969439004445,\n",
       " -2809.7385559215454,\n",
       " -2809.5140696392077,\n",
       " -2809.295810451803,\n",
       " -2809.0836127238854,\n",
       " -2808.8773148181035,\n",
       " -2808.676759022744,\n",
       " -2808.4817914790688,\n",
       " -2808.2922621085468,\n",
       " -2808.108024540118,\n",
       " -2807.9289360375806,\n",
       " -2807.754857427219,\n",
       " -2807.5856530257483,\n",
       " -2807.4211905686698,\n",
       " -2807.261341139102,\n",
       " -2807.1059790971804,\n",
       " -2806.954982010059,\n",
       " -2806.808230582599,\n",
       " -2806.6656085887794,\n",
       " -2806.527002803885,\n",
       " -2806.392302937515,\n",
       " -2806.2614015674376,\n",
       " -2806.1341940743464,\n",
       " -2806.010578577522,\n",
       " -2805.8904558714494,\n",
       " -2805.7737293633886,\n",
       " -2805.6603050119434,\n",
       " -2805.550091266622,\n",
       " -2805.442999008414,\n",
       " -2805.338941491395,\n",
       " -2805.2378342853603,\n",
       " -2805.1395952194985,\n",
       " -2805.044144327109,\n",
       " -2804.95140379136,\n",
       " -2804.861297892098,\n",
       " -2804.773752953691,\n",
       " -2804.6886972939183,\n",
       " -2804.606061173892,\n",
       " -2804.525776749015,\n",
       " -2804.4477780209504,\n",
       " -2804.372000790616,\n",
       " -2804.2983826121813,\n",
       " -2804.2268627480635,\n",
       " -2804.157382124904,\n",
       " -2804.089883290527,\n",
       " -2804.0243103718576,\n",
       " -2803.9606090337925,\n",
       " -2803.8987264390057,\n",
       " -2803.8386112086846,\n",
       " -2803.7802133841715,\n",
       " -2803.723484389507,\n",
       " -2803.668376994856,\n",
       " -2803.6148452808,\n",
       " -2803.5628446034834,\n",
       " -2803.5123315606033,\n",
       " -2803.4632639582187,\n",
       " -2803.415600778372,\n",
       " -2803.369302147504,\n",
       " -2803.3243293056485,\n",
       " -2803.280644576388,\n",
       " -2803.238211337562,\n",
       " -2803.1969939927108,\n",
       " -2803.156957943234,\n",
       " -2803.1180695612516,\n",
       " -2803.080296163164,\n",
       " -2803.043605983877,\n",
       " -2803.007968151692,\n",
       " -2802.973352663842,\n",
       " -2802.939730362656,\n",
       " -2802.9070729123464,\n",
       " -2802.8753527763947,\n",
       " -2802.8445431955324,\n",
       " -2802.8146181662923,\n",
       " -2802.785552420131,\n",
       " -2802.7573214030926,\n",
       " -2802.7299012560193,\n",
       " -2802.703268795277,\n",
       " -2802.6774014939997,\n",
       " -2802.6522774638283,\n",
       " -2802.6278754371447,\n",
       " -2802.604174749772,\n",
       " -2802.581155324147,\n",
       " -2802.558797652939,\n",
       " -2802.5370827831166,\n",
       " -2802.5159923004385,\n",
       " -2802.4955083143705,\n",
       " -2802.475613443405,\n",
       " -2802.456290800784,\n",
       " -2802.4375239806095,\n",
       " -2802.419297044335,\n",
       " -2802.4015945076217,\n",
       " -2802.3844013275534,\n",
       " -2802.3677028902143,\n",
       " -2802.3514849985904,\n",
       " -2802.3357338608134,\n",
       " -2802.3204360787336,\n",
       " -2802.305578636792,\n",
       " -2802.2911488912155,\n",
       " -2802.2771345595006,\n",
       " -2802.263523710195,\n",
       " -2802.250304752958,\n",
       " -2802.2374664289005,\n",
       " -2802.224997801188,\n",
       " -2802.2128882459115,\n",
       " -2802.2011274432093,\n",
       " -2802.1897053686353,\n",
       " -2802.1786122847698,\n",
       " -2802.1678387330658,\n",
       " -2802.157375525921,\n",
       " -2802.1472137389765,\n",
       " -2802.13734470362,\n",
       " -2802.1277599997143,\n",
       " -2802.118451448519,\n",
       " -2802.1094111058137,\n",
       " -2802.1006312552176,\n",
       " -2802.0921044016955,\n",
       " -2802.083823265241,\n",
       " -2802.0757807747473,\n",
       " -2802.067970062047,\n",
       " -2802.0603844561138,\n",
       " -2802.0530174774376,\n",
       " -2802.045862832553,\n",
       " -2802.0389144087253,\n",
       " -2802.0321662687825,\n",
       " -2802.0256126460995,\n",
       " -2802.019247939717,\n",
       " -2802.0130667096073,\n",
       " -2802.007063672069,\n",
       " -2802.00123369525,\n",
       " -2801.9955717948046,\n",
       " -2801.9900731296707,\n",
       " -2801.984732997962,\n",
       " -2801.9795468329844,\n",
       " -2801.9745101993653,\n",
       " -2801.9696187892837,\n",
       " -2801.9648684188214,\n",
       " -2801.960255024405,\n",
       " -2801.9557746593596,\n",
       " -2801.951423490554,\n",
       " -2801.9471977951434,\n",
       " -2801.9430939574077,\n",
       " -2801.939108465676,\n",
       " -2801.9352379093402,\n",
       " -2801.931478975956,\n",
       " -2801.9278284484226,\n",
       " -2801.924283202247,\n",
       " -2801.920840202884,\n",
       " -2801.9174965031516,\n",
       " -2801.9142492407254,\n",
       " -2801.9110956356944,\n",
       " -2801.9080329882004,\n",
       " -2801.9050586761327,\n",
       " -2801.9021701528955,\n",
       " -2801.8993649452354,\n",
       " -2801.8966406511377,\n",
       " -2801.893994937773,\n",
       " -2801.8914255395125,\n",
       " -2801.888930255991,\n",
       " -2801.8865069502353,\n",
       " -2801.8841535468364,\n",
       " -2801.881868030181,\n",
       " -2801.8796484427335,\n",
       " -2801.8774928833564,\n",
       " -2801.875399505701]"
      ]
     },
     "execution_count": 37,
     "metadata": {},
     "output_type": "execute_result"
    }
   ],
   "source": [
    "a = v.history['ELBO']\n",
    "a"
   ]
  },
  {
   "cell_type": "markdown",
   "metadata": {},
   "source": [
    "<h5> For chr22, all (around 1.8w) SNPs </h5> \n",
    "for all 2706 patients, \n",
    "I want to find the suitable fixed_paramters in viprs. "
   ]
  },
  {
   "cell_type": "code",
   "execution_count": 89,
   "metadata": {},
   "outputs": [
    {
     "name": "stdout",
     "output_type": "stream",
     "text": [
      "> Reading BED file...\n",
      "> Reading phenotype file...\n",
      "> Performing GWAS...\n"
     ]
    },
    {
     "name": "stderr",
     "output_type": "stream",
     "text": [
      "Exception ignored in: <finalize object at 0x7f1d9831aa60; dead>\n",
      "Traceback (most recent call last):\n",
      "  File \"/usr/lib/python3.7/weakref.py\", line 572, in __call__\n",
      "    return info.func(*info.args, **(info.kwargs or {}))\n",
      "  File \"/usr/lib/python3.7/tempfile.py\", line 934, in _cleanup\n",
      "    _rmtree(name)\n",
      "  File \"/usr/lib/python3.7/shutil.py\", line 485, in rmtree\n",
      "    onerror(os.lstat, path, sys.exc_info())\n",
      "  File \"/usr/lib/python3.7/shutil.py\", line 483, in rmtree\n",
      "    orig_st = os.lstat(path)\n",
      "FileNotFoundError: [Errno 2] No such file or directory: 'temp/ld_gzh67n_4'\n",
      "/home/mcb/users/yzhu439/RA_Project/.venv/lib/python3.7/site-packages/dask/core.py:119: RuntimeWarning: invalid value encountered in true_divide\n",
      "  return func(*(_execute_task(a, cache) for a in args))\n"
     ]
    },
    {
     "name": "stdout",
     "output_type": "stream",
     "text": [
      "> Computing LD matrix...\n"
     ]
    },
    {
     "name": "stderr",
     "output_type": "stream",
     "text": [
      "/home/mcb/users/yzhu439/RA_Project/.venv/lib/python3.7/site-packages/dask/array/routines.py:318: PerformanceWarning: Increasing number of chunks by factor of 18\n",
      "  axes=(left_axes, right_axes),\n",
      "/home/mcb/users/yzhu439/RA_Project/.venv/lib/python3.7/site-packages/dask/core.py:119: RuntimeWarning: invalid value encountered in true_divide\n",
      "  return func(*(_execute_task(a, cache) for a in args))\n"
     ]
    }
   ],
   "source": [
    "# real_phe for 2706 samples\n",
    "realA22_gdl = mgp.GWADataLoader(\n",
    "    bed_files = \"CMAll_qced/chr22/ALL_CM_chr22\",\n",
    "    phenotype_file=\"data/phenotype_data/DREAM_pheno_Full.csv\",\n",
    ")\n",
    "#\"Toy_example_expr/phenotype/shuffle500_phe.csv\"\n",
    "\n",
    "realA22_gdl.perform_gwas()\n",
    "realA22_gdl.to_summary_statistics_table().to_csv(\n",
    "    \"Real_phe_expr/real_chr22.sumstats\", sep=\"\\t\", index=False\n",
    ")\n",
    "realA22_gdl.compute_ld(estimator='sample',\n",
    "                output_dir='Real_phe_expr/all_chr22_out/')\n",
    "\n",
    "realA22Train_gdl, realA22Val_gdl = realA22_gdl.split_by_samples(proportions=[.8, .2])"
   ]
  },
  {
   "cell_type": "code",
   "execution_count": 94,
   "metadata": {},
   "outputs": [
    {
     "name": "stdout",
     "output_type": "stream",
     "text": [
      "2186\n",
      "520\n"
     ]
    }
   ],
   "source": [
    "print(realA22Train_gdl.sample_size)\n",
    "print(realA22Val_gdl.sample_size)"
   ]
  },
  {
   "cell_type": "code",
   "execution_count": 95,
   "metadata": {},
   "outputs": [
    {
     "name": "stdout",
     "output_type": "stream",
     "text": [
      "> Initializing model parameters\n",
      "> Loading LD matrices into memory...\n",
      "> Performing model fit...\n",
      "> Using up to 1 threads.\n"
     ]
    },
    {
     "name": "stderr",
     "output_type": "stream",
     "text": [
      " 11%|█▏        | 114/1000 [01:09<08:59,  1.64it/s]"
     ]
    },
    {
     "name": "stdout",
     "output_type": "stream",
     "text": [
      "Converged at iteration 115 | ELBO: -1293.033106\n",
      "> Final ELBO: -1293.033106\n",
      "> Estimated heritability: 0.595551\n",
      "> Estimated proportion of causal variants: 0.999945\n"
     ]
    },
    {
     "name": "stderr",
     "output_type": "stream",
     "text": [
      "\n"
     ]
    },
    {
     "data": {
      "text/plain": [
       "<viprs.model.VIPRS.VIPRS at 0x7f1d38eceb50>"
      ]
     },
     "execution_count": 95,
     "metadata": {},
     "output_type": "execute_result"
    }
   ],
   "source": [
    "v = vp.VIPRS(realA22Train_gdl, fix_params={'pi': 0.999945, 'sigma_epsilon': 0.500000}) \n",
    "v.fit()"
   ]
  },
  {
   "cell_type": "code",
   "execution_count": 96,
   "metadata": {},
   "outputs": [
    {
     "data": {
      "image/png": "[encoded data removed]",
      "text/plain": [
       "<Figure size 640x480 with 1 Axes>"
      ]
     },
     "metadata": {},
     "output_type": "display_data"
    }
   ],
   "source": [
    "ELBO_plot(v.history['ELBO'], \"Real_phe_expr/ELBO_plots/real_ALL_chr22.png\",itr=0)"
   ]
  },
  {
   "cell_type": "code",
   "execution_count": 101,
   "metadata": {},
   "outputs": [
    {
     "name": "stdout",
     "output_type": "stream",
     "text": [
      "> Generating polygenic scores...\n"
     ]
    }
   ],
   "source": [
    "pred = v.predict(realA22Val_gdl)\n"
   ]
  },
  {
   "cell_type": "code",
   "execution_count": 102,
   "metadata": {},
   "outputs": [
    {
     "name": "stdout",
     "output_type": "stream",
     "text": [
      "0.4600337650524509\n"
     ]
    },
    {
     "data": {
      "text/plain": [
       "0.6782578897826775"
      ]
     },
     "execution_count": 102,
     "metadata": {},
     "output_type": "execute_result"
    }
   ],
   "source": [
    "print(r2(pred, realA22Val_gdl.sample_table.phenotype))\n",
    "# realA22Train_gdl, realA22Val_gdl\n",
    "\n",
    "# Pearson Correlation \n",
    "corr_train, p_value_train = pearsonr(pred, realA22Val_gdl.sample_table.phenotype)\n",
    "corr_train\n"
   ]
  },
  {
   "cell_type": "code",
   "execution_count": 103,
   "metadata": {},
   "outputs": [
    {
     "data": {
      "image/png": "[encoded data removed]",
      "text/plain": [
       "<Figure size 640x480 with 1 Axes>"
      ]
     },
     "metadata": {},
     "output_type": "display_data"
    }
   ],
   "source": [
    "plot_obs_vs_pred(realA22Val_gdl.sample_table.phenotype, pred)"
   ]
  },
  {
   "cell_type": "markdown",
   "metadata": {},
   "source": [
    "<h5> Use Grid to find the suitable sigma epsilon and pi </h5>"
   ]
  },
  {
   "cell_type": "markdown",
   "metadata": {},
   "source": [
    "Simulated phenotpyes"
   ]
  },
  {
   "cell_type": "code",
   "execution_count": 149,
   "metadata": {},
   "outputs": [
    {
     "name": "stdout",
     "output_type": "stream",
     "text": [
      "> Reading BED file...\n",
      "> Generating polygenic scores...\n"
     ]
    }
   ],
   "source": [
    "beta500np = np.zeros(500)\n",
    "beta500np[0:2] = 0.2     # rs11090428\n",
    "beta500np[2:6] = 0.1/3\n",
    "beta500 = {22: beta500np}\n",
    "g_sim = mgp.GWASimulator(\"CMAll_qced/chr22/shuffle_500snps\",\n",
    "                        pi = [.99, .01],\n",
    "                        h2=0.5)\n",
    "g_sim.set_beta(beta500)\n",
    "g_sim.simulate(reset_beta=False)\n",
    "# g_sim.simulate()\n",
    "g_sim.to_phenotype_table().to_csv(\"Toy_example_expr/phenotype/shuffle500_phe.csv\",sep='\\t')"
   ]
  },
  {
   "cell_type": "code",
   "execution_count": 150,
   "metadata": {},
   "outputs": [
    {
     "name": "stdout",
     "output_type": "stream",
     "text": [
      "> Reading BED file...\n",
      "> Reading phenotype file...\n",
      "> Performing GWAS...\n"
     ]
    },
    {
     "name": "stderr",
     "output_type": "stream",
     "text": [
      "Exception ignored in: <finalize object at 0x7f34710b0e10; dead>\n",
      "Traceback (most recent call last):\n",
      "  File \"/usr/lib/python3.7/weakref.py\", line 572, in __call__\n",
      "    return info.func(*info.args, **(info.kwargs or {}))\n",
      "  File \"/usr/lib/python3.7/tempfile.py\", line 934, in _cleanup\n",
      "    _rmtree(name)\n",
      "  File \"/usr/lib/python3.7/shutil.py\", line 485, in rmtree\n",
      "    onerror(os.lstat, path, sys.exc_info())\n",
      "  File \"/usr/lib/python3.7/shutil.py\", line 483, in rmtree\n",
      "    orig_st = os.lstat(path)\n",
      "FileNotFoundError: [Errno 2] No such file or directory: 'temp/ld_huxhrh3y'\n",
      "/home/mcb/users/yzhu439/RA_Project/.venv/lib/python3.7/site-packages/dask/core.py:119: RuntimeWarning: invalid value encountered in true_divide\n",
      "  return func(*(_execute_task(a, cache) for a in args))\n"
     ]
    },
    {
     "name": "stdout",
     "output_type": "stream",
     "text": [
      "> Computing LD matrix...\n"
     ]
    },
    {
     "name": "stderr",
     "output_type": "stream",
     "text": [
      "/home/mcb/users/yzhu439/RA_Project/.venv/lib/python3.7/site-packages/dask/core.py:119: RuntimeWarning: invalid value encountered in true_divide\n",
      "  return func(*(_execute_task(a, cache) for a in args))\n"
     ]
    }
   ],
   "source": [
    "# simulation on 2706\n",
    "sim500_gdl = mgp.GWADataLoader(\n",
    "    bed_files = \"CMAll_qced/chr22/shuffle_500snps\",\n",
    "    phenotype_file=\"Toy_example_expr/phenotype/shuffle500_phe.csv\",\n",
    ")\n",
    "\n",
    "sim500_gdl.perform_gwas()\n",
    "sim500_gdl.to_summary_statistics_table().to_csv(\n",
    "    \"Real_phe_expr/shuffle_500snps.sumstats\", sep=\"\\t\", index=False\n",
    ")\n",
    "sim500_gdl.compute_ld(estimator='sample',\n",
    "                output_dir='Real_phe_expr/shuffle500_chr22_out/')\n"
   ]
  },
  {
   "cell_type": "markdown",
   "metadata": {},
   "source": [
    "Create grid  \n",
    "The result will depends on the <code> training_data gdl and val_data gdl </code> I put into here. Then return me the most suitable <code> fixed_paramters: sigma_epsilon and pi</code> for this training dataset. "
   ]
  },
  {
   "cell_type": "code",
   "execution_count": 60,
   "metadata": {},
   "outputs": [
    {
     "name": "stdout",
     "output_type": "stream",
     "text": [
      "> Initializing model parameters\n",
      "> Loading LD matrices into memory...\n",
      "> Performing model fit...\n",
      "> Using up to 1 threads.\n"
     ]
    },
    {
     "name": "stderr",
     "output_type": "stream",
     "text": [
      "  0%|          | 0/1000 [00:00<?, ?it/s]"
     ]
    },
    {
     "name": "stderr",
     "output_type": "stream",
     "text": [
      "  0%|          | 1/1000 [00:09<2:30:18,  9.03s/it]/home/mcb/users/yzhu439/RA_Project/.venv/lib/python3.7/site-packages/ipykernel_launcher.py:9: UserWarning: Stopping at iteration 2 for model 5: The optimization algorithm is not converging!\n",
      "Previous ELBO: 64982.376733 | Current ELBO: 134323.839937\n",
      "  if __name__ == \"__main__\":\n",
      "/home/mcb/users/yzhu439/RA_Project/.venv/lib/python3.7/site-packages/ipykernel_launcher.py:9: UserWarning: Stopping at iteration 2 for model 7: The optimization algorithm is not converging!\n",
      "Previous ELBO: 60576.275491 | Current ELBO: 134511.798950\n",
      "  if __name__ == \"__main__\":\n",
      "/home/mcb/users/yzhu439/RA_Project/.venv/lib/python3.7/site-packages/ipykernel_launcher.py:9: UserWarning: Stopping at iteration 2 for model 10: The optimization algorithm is not converging!\n",
      "Previous ELBO: 2004.809960 | Current ELBO: 14924.639814\n",
      "  if __name__ == \"__main__\":\n",
      "/home/mcb/users/yzhu439/RA_Project/.venv/lib/python3.7/site-packages/ipykernel_launcher.py:9: UserWarning: Stopping at iteration 2 for model 11: The optimization algorithm is not converging!\n",
      "Previous ELBO: 5907.812427 | Current ELBO: 21758.142874\n",
      "  if __name__ == \"__main__\":\n",
      "/home/mcb/users/yzhu439/RA_Project/.venv/lib/python3.7/site-packages/ipykernel_launcher.py:9: UserWarning: Stopping at iteration 2 for model 12: The optimization algorithm is not converging!\n",
      "Previous ELBO: -391.797989 | Current ELBO: 1422.467326\n",
      "  if __name__ == \"__main__\":\n",
      "/home/mcb/users/yzhu439/RA_Project/.venv/lib/python3.7/site-packages/ipykernel_launcher.py:9: UserWarning: Iteration 2 | Model 19: ELBO dropped from -2777.555351 to -2779.548270.\n",
      "  if __name__ == \"__main__\":\n",
      "/home/mcb/users/yzhu439/RA_Project/.venv/lib/python3.7/site-packages/ipykernel_launcher.py:9: UserWarning: Iteration 2 | Model 20: ELBO dropped from -3057.811952 to -3057.811952.\n",
      "  if __name__ == \"__main__\":\n",
      "/home/mcb/users/yzhu439/RA_Project/.venv/lib/python3.7/site-packages/ipykernel_launcher.py:9: UserWarning: Iteration 2 | Model 21: ELBO dropped from -3057.811952 to -3057.811952.\n",
      "  if __name__ == \"__main__\":\n",
      "/home/mcb/users/yzhu439/RA_Project/.venv/lib/python3.7/site-packages/ipykernel_launcher.py:9: UserWarning: Iteration 2 | Model 22: ELBO dropped from -3057.811952 to -3057.811952.\n",
      "  if __name__ == \"__main__\":\n",
      "/home/mcb/users/yzhu439/RA_Project/.venv/lib/python3.7/site-packages/ipykernel_launcher.py:9: UserWarning: Iteration 2 | Model 23: ELBO dropped from -3057.811952 to -3057.811952.\n",
      "  if __name__ == \"__main__\":\n",
      "/home/mcb/users/yzhu439/RA_Project/.venv/lib/python3.7/site-packages/ipykernel_launcher.py:9: UserWarning: Iteration 2 | Model 24: ELBO dropped from -3057.811952 to -3057.811952.\n",
      "  if __name__ == \"__main__\":\n",
      "  0%|          | 2/1000 [00:18<2:30:37,  9.06s/it]/home/mcb/users/yzhu439/RA_Project/.venv/lib/python3.7/site-packages/ipykernel_launcher.py:9: UserWarning: Iteration 3 | Model 18: ELBO dropped from -2769.054006 to -2769.480206.\n",
      "  if __name__ == \"__main__\":\n",
      "/home/mcb/users/yzhu439/RA_Project/.venv/lib/python3.7/site-packages/ipykernel_launcher.py:9: UserWarning: Iteration 3 | Model 20: ELBO dropped from -3057.811952 to -3057.811952.\n",
      "  if __name__ == \"__main__\":\n",
      "/home/mcb/users/yzhu439/RA_Project/.venv/lib/python3.7/site-packages/ipykernel_launcher.py:9: UserWarning: Iteration 3 | Model 21: ELBO dropped from -3057.811952 to -3057.811952.\n",
      "  if __name__ == \"__main__\":\n",
      "/home/mcb/users/yzhu439/RA_Project/.venv/lib/python3.7/site-packages/ipykernel_launcher.py:9: UserWarning: Iteration 3 | Model 22: ELBO dropped from -3057.811952 to -3057.811952.\n",
      "  if __name__ == \"__main__\":\n",
      "/home/mcb/users/yzhu439/RA_Project/.venv/lib/python3.7/site-packages/ipykernel_launcher.py:9: UserWarning: Iteration 3 | Model 23: ELBO dropped from -3057.811952 to -3057.811952.\n",
      "  if __name__ == \"__main__\":\n",
      "/home/mcb/users/yzhu439/RA_Project/.venv/lib/python3.7/site-packages/ipykernel_launcher.py:9: UserWarning: Iteration 3 | Model 24: ELBO dropped from -3057.811952 to -3057.811952.\n",
      "  if __name__ == \"__main__\":\n",
      "  0%|          | 3/1000 [00:24<2:11:02,  7.89s/it]/home/mcb/users/yzhu439/RA_Project/.venv/lib/python3.7/site-packages/ipykernel_launcher.py:9: UserWarning: Iteration 4 | Model 18: ELBO dropped from -2769.480206 to -2770.046294.\n",
      "  if __name__ == \"__main__\":\n",
      "/home/mcb/users/yzhu439/RA_Project/.venv/lib/python3.7/site-packages/ipykernel_launcher.py:9: UserWarning: Iteration 4 | Model 19: ELBO dropped from -2779.511213 to -2779.651917.\n",
      "  if __name__ == \"__main__\":\n",
      "/home/mcb/users/yzhu439/RA_Project/.venv/lib/python3.7/site-packages/ipykernel_launcher.py:9: UserWarning: Iteration 4 | Model 20: ELBO dropped from -3057.811952 to -3057.811952.\n",
      "  if __name__ == \"__main__\":\n",
      "/home/mcb/users/yzhu439/RA_Project/.venv/lib/python3.7/site-packages/ipykernel_launcher.py:9: UserWarning: Iteration 4 | Model 21: ELBO dropped from -3057.811952 to -3057.811952.\n",
      "  if __name__ == \"__main__\":\n",
      "/home/mcb/users/yzhu439/RA_Project/.venv/lib/python3.7/site-packages/ipykernel_launcher.py:9: UserWarning: Iteration 4 | Model 22: ELBO dropped from -3057.811952 to -3057.811952.\n",
      "  if __name__ == \"__main__\":\n",
      "/home/mcb/users/yzhu439/RA_Project/.venv/lib/python3.7/site-packages/ipykernel_launcher.py:9: UserWarning: Iteration 4 | Model 23: ELBO dropped from -3057.811952 to -3057.811952.\n",
      "  if __name__ == \"__main__\":\n",
      "/home/mcb/users/yzhu439/RA_Project/.venv/lib/python3.7/site-packages/ipykernel_launcher.py:9: UserWarning: Iteration 4 | Model 24: ELBO dropped from -3057.811952 to -3057.811952.\n",
      "  if __name__ == \"__main__\":\n",
      "  0%|          | 4/1000 [00:31<2:06:51,  7.64s/it]/home/mcb/users/yzhu439/RA_Project/.venv/lib/python3.7/site-packages/ipykernel_launcher.py:9: UserWarning: Stopping at iteration 5 for model 15: The optimization algorithm is not converging!\n",
      "Previous ELBO: -105.837298 | Current ELBO: 1055.062212\n",
      "  if __name__ == \"__main__\":\n",
      "/home/mcb/users/yzhu439/RA_Project/.venv/lib/python3.7/site-packages/ipykernel_launcher.py:9: UserWarning: Iteration 5 | Model 18: ELBO dropped from -2770.046294 to -2770.597525.\n",
      "  if __name__ == \"__main__\":\n",
      "/home/mcb/users/yzhu439/RA_Project/.venv/lib/python3.7/site-packages/ipykernel_launcher.py:9: UserWarning: Iteration 5 | Model 19: ELBO dropped from -2779.651917 to -2779.797762.\n",
      "  if __name__ == \"__main__\":\n",
      "/home/mcb/users/yzhu439/RA_Project/.venv/lib/python3.7/site-packages/ipykernel_launcher.py:9: UserWarning: Iteration 5 | Model 20: ELBO dropped from -3057.811952 to -3057.811952.\n",
      "  if __name__ == \"__main__\":\n",
      "/home/mcb/users/yzhu439/RA_Project/.venv/lib/python3.7/site-packages/ipykernel_launcher.py:9: UserWarning: Iteration 5 | Model 21: ELBO dropped from -3057.811952 to -3057.811952.\n",
      "  if __name__ == \"__main__\":\n",
      "/home/mcb/users/yzhu439/RA_Project/.venv/lib/python3.7/site-packages/ipykernel_launcher.py:9: UserWarning: Iteration 5 | Model 22: ELBO dropped from -3057.811952 to -3057.811952.\n",
      "  if __name__ == \"__main__\":\n",
      "/home/mcb/users/yzhu439/RA_Project/.venv/lib/python3.7/site-packages/ipykernel_launcher.py:9: UserWarning: Iteration 5 | Model 23: ELBO dropped from -3057.811952 to -3057.811952.\n",
      "  if __name__ == \"__main__\":\n",
      "/home/mcb/users/yzhu439/RA_Project/.venv/lib/python3.7/site-packages/ipykernel_launcher.py:9: UserWarning: Iteration 5 | Model 24: ELBO dropped from -3057.811952 to -3057.811952.\n",
      "  if __name__ == \"__main__\":\n",
      "  0%|          | 5/1000 [00:38<1:58:07,  7.12s/it]/home/mcb/users/yzhu439/RA_Project/.venv/lib/python3.7/site-packages/ipykernel_launcher.py:9: UserWarning: Iteration 6 | Model 18: ELBO dropped from -2770.597525 to -2771.131560.\n",
      "  if __name__ == \"__main__\":\n",
      "/home/mcb/users/yzhu439/RA_Project/.venv/lib/python3.7/site-packages/ipykernel_launcher.py:9: UserWarning: Iteration 6 | Model 19: ELBO dropped from -2779.797762 to -2779.941843.\n",
      "  if __name__ == \"__main__\":\n",
      "/home/mcb/users/yzhu439/RA_Project/.venv/lib/python3.7/site-packages/ipykernel_launcher.py:9: UserWarning: Iteration 6 | Model 20: ELBO dropped from -3057.811952 to -3057.811952.\n",
      "  if __name__ == \"__main__\":\n",
      "/home/mcb/users/yzhu439/RA_Project/.venv/lib/python3.7/site-packages/ipykernel_launcher.py:9: UserWarning: Iteration 6 | Model 21: ELBO dropped from -3057.811952 to -3057.811952.\n",
      "  if __name__ == \"__main__\":\n",
      "/home/mcb/users/yzhu439/RA_Project/.venv/lib/python3.7/site-packages/ipykernel_launcher.py:9: UserWarning: Iteration 6 | Model 22: ELBO dropped from -3057.811952 to -3057.811952.\n",
      "  if __name__ == \"__main__\":\n",
      "/home/mcb/users/yzhu439/RA_Project/.venv/lib/python3.7/site-packages/ipykernel_launcher.py:9: UserWarning: Iteration 6 | Model 23: ELBO dropped from -3057.811952 to -3057.811952.\n",
      "  if __name__ == \"__main__\":\n",
      "/home/mcb/users/yzhu439/RA_Project/.venv/lib/python3.7/site-packages/ipykernel_launcher.py:9: UserWarning: Iteration 6 | Model 24: ELBO dropped from -3057.811952 to -3057.811952.\n",
      "  if __name__ == \"__main__\":\n",
      "  1%|          | 6/1000 [00:44<1:53:12,  6.83s/it]/home/mcb/users/yzhu439/RA_Project/.venv/lib/python3.7/site-packages/ipykernel_launcher.py:9: UserWarning: Stopping at iteration 7 for model 16: The optimization algorithm is not converging!\n",
      "Previous ELBO: -939.083619 | Current ELBO: 991.254794\n",
      "  if __name__ == \"__main__\":\n",
      "/home/mcb/users/yzhu439/RA_Project/.venv/lib/python3.7/site-packages/ipykernel_launcher.py:9: UserWarning: Iteration 7 | Model 18: ELBO dropped from -2771.131560 to -2771.649537.\n",
      "  if __name__ == \"__main__\":\n",
      "/home/mcb/users/yzhu439/RA_Project/.venv/lib/python3.7/site-packages/ipykernel_launcher.py:9: UserWarning: Iteration 7 | Model 19: ELBO dropped from -2779.941843 to -2780.085299.\n",
      "  if __name__ == \"__main__\":\n",
      "/home/mcb/users/yzhu439/RA_Project/.venv/lib/python3.7/site-packages/ipykernel_launcher.py:9: UserWarning: Iteration 7 | Model 20: ELBO dropped from -3057.811952 to -3057.811952.\n",
      "  if __name__ == \"__main__\":\n",
      "/home/mcb/users/yzhu439/RA_Project/.venv/lib/python3.7/site-packages/ipykernel_launcher.py:9: UserWarning: Iteration 7 | Model 21: ELBO dropped from -3057.811952 to -3057.811952.\n",
      "  if __name__ == \"__main__\":\n",
      "/home/mcb/users/yzhu439/RA_Project/.venv/lib/python3.7/site-packages/ipykernel_launcher.py:9: UserWarning: Iteration 7 | Model 22: ELBO dropped from -3057.811952 to -3057.811952.\n",
      "  if __name__ == \"__main__\":\n",
      "/home/mcb/users/yzhu439/RA_Project/.venv/lib/python3.7/site-packages/ipykernel_launcher.py:9: UserWarning: Iteration 7 | Model 23: ELBO dropped from -3057.811952 to -3057.811952.\n",
      "  if __name__ == \"__main__\":\n",
      "/home/mcb/users/yzhu439/RA_Project/.venv/lib/python3.7/site-packages/ipykernel_launcher.py:9: UserWarning: Iteration 7 | Model 24: ELBO dropped from -3057.811952 to -3057.811952.\n",
      "  if __name__ == \"__main__\":\n",
      "  1%|          | 7/1000 [00:50<1:50:08,  6.65s/it]/home/mcb/users/yzhu439/RA_Project/.venv/lib/python3.7/site-packages/ipykernel_launcher.py:9: UserWarning: Iteration 8 | Model 18: ELBO dropped from -2771.649537 to -2772.151976.\n",
      "  if __name__ == \"__main__\":\n",
      "/home/mcb/users/yzhu439/RA_Project/.venv/lib/python3.7/site-packages/ipykernel_launcher.py:9: UserWarning: Iteration 8 | Model 19: ELBO dropped from -2780.085299 to -2780.228145.\n",
      "  if __name__ == \"__main__\":\n",
      "/home/mcb/users/yzhu439/RA_Project/.venv/lib/python3.7/site-packages/ipykernel_launcher.py:9: UserWarning: Iteration 8 | Model 20: ELBO dropped from -3057.811952 to -3057.811952.\n",
      "  if __name__ == \"__main__\":\n",
      "/home/mcb/users/yzhu439/RA_Project/.venv/lib/python3.7/site-packages/ipykernel_launcher.py:9: UserWarning: Iteration 8 | Model 21: ELBO dropped from -3057.811952 to -3057.811952.\n",
      "  if __name__ == \"__main__\":\n",
      "/home/mcb/users/yzhu439/RA_Project/.venv/lib/python3.7/site-packages/ipykernel_launcher.py:9: UserWarning: Iteration 8 | Model 22: ELBO dropped from -3057.811952 to -3057.811952.\n",
      "  if __name__ == \"__main__\":\n",
      "/home/mcb/users/yzhu439/RA_Project/.venv/lib/python3.7/site-packages/ipykernel_launcher.py:9: UserWarning: Iteration 8 | Model 23: ELBO dropped from -3057.811952 to -3057.811952.\n",
      "  if __name__ == \"__main__\":\n",
      "/home/mcb/users/yzhu439/RA_Project/.venv/lib/python3.7/site-packages/ipykernel_launcher.py:9: UserWarning: Iteration 8 | Model 24: ELBO dropped from -3057.811952 to -3057.811952.\n",
      "  if __name__ == \"__main__\":\n",
      "  1%|          | 8/1000 [00:56<1:47:01,  6.47s/it]/home/mcb/users/yzhu439/RA_Project/.venv/lib/python3.7/site-packages/ipykernel_launcher.py:9: UserWarning: Iteration 9 | Model 18: ELBO dropped from -2772.151976 to -2772.639398.\n",
      "  if __name__ == \"__main__\":\n",
      "/home/mcb/users/yzhu439/RA_Project/.venv/lib/python3.7/site-packages/ipykernel_launcher.py:9: UserWarning: Iteration 9 | Model 19: ELBO dropped from -2780.228145 to -2780.370366.\n",
      "  if __name__ == \"__main__\":\n",
      "/home/mcb/users/yzhu439/RA_Project/.venv/lib/python3.7/site-packages/ipykernel_launcher.py:9: UserWarning: Iteration 9 | Model 20: ELBO dropped from -3057.811952 to -3057.811952.\n",
      "  if __name__ == \"__main__\":\n",
      "/home/mcb/users/yzhu439/RA_Project/.venv/lib/python3.7/site-packages/ipykernel_launcher.py:9: UserWarning: Iteration 9 | Model 21: ELBO dropped from -3057.811952 to -3057.811952.\n",
      "  if __name__ == \"__main__\":\n",
      "/home/mcb/users/yzhu439/RA_Project/.venv/lib/python3.7/site-packages/ipykernel_launcher.py:9: UserWarning: Iteration 9 | Model 22: ELBO dropped from -3057.811952 to -3057.811952.\n",
      "  if __name__ == \"__main__\":\n",
      "/home/mcb/users/yzhu439/RA_Project/.venv/lib/python3.7/site-packages/ipykernel_launcher.py:9: UserWarning: Iteration 9 | Model 23: ELBO dropped from -3057.811952 to -3057.811952.\n",
      "  if __name__ == \"__main__\":\n",
      "/home/mcb/users/yzhu439/RA_Project/.venv/lib/python3.7/site-packages/ipykernel_launcher.py:9: UserWarning: Iteration 9 | Model 24: ELBO dropped from -3057.811952 to -3057.811952.\n",
      "  if __name__ == \"__main__\":\n",
      "  1%|          | 9/1000 [01:02<1:42:12,  6.19s/it]/home/mcb/users/yzhu439/RA_Project/.venv/lib/python3.7/site-packages/ipykernel_launcher.py:9: UserWarning: Iteration 10 | Model 18: ELBO dropped from -2772.639398 to -2773.112312.\n",
      "  if __name__ == \"__main__\":\n",
      "/home/mcb/users/yzhu439/RA_Project/.venv/lib/python3.7/site-packages/ipykernel_launcher.py:9: UserWarning: Iteration 10 | Model 19: ELBO dropped from -2780.370366 to -2780.511967.\n",
      "  if __name__ == \"__main__\":\n",
      "/home/mcb/users/yzhu439/RA_Project/.venv/lib/python3.7/site-packages/ipykernel_launcher.py:9: UserWarning: Iteration 10 | Model 20: ELBO dropped from -3057.811952 to -3057.811952.\n",
      "  if __name__ == \"__main__\":\n",
      "/home/mcb/users/yzhu439/RA_Project/.venv/lib/python3.7/site-packages/ipykernel_launcher.py:9: UserWarning: Iteration 10 | Model 21: ELBO dropped from -3057.811952 to -3057.811952.\n",
      "  if __name__ == \"__main__\":\n",
      "/home/mcb/users/yzhu439/RA_Project/.venv/lib/python3.7/site-packages/ipykernel_launcher.py:9: UserWarning: Iteration 10 | Model 22: ELBO dropped from -3057.811952 to -3057.811952.\n",
      "  if __name__ == \"__main__\":\n",
      "/home/mcb/users/yzhu439/RA_Project/.venv/lib/python3.7/site-packages/ipykernel_launcher.py:9: UserWarning: Iteration 10 | Model 23: ELBO dropped from -3057.811952 to -3057.811952.\n",
      "  if __name__ == \"__main__\":\n",
      "/home/mcb/users/yzhu439/RA_Project/.venv/lib/python3.7/site-packages/ipykernel_launcher.py:9: UserWarning: Iteration 10 | Model 24: ELBO dropped from -3057.811952 to -3057.811952.\n",
      "  if __name__ == \"__main__\":\n",
      "  1%|          | 10/1000 [01:07<1:38:51,  5.99s/it]/home/mcb/users/yzhu439/RA_Project/.venv/lib/python3.7/site-packages/ipykernel_launcher.py:9: UserWarning: Iteration 11 | Model 18: ELBO dropped from -2773.112312 to -2773.571204.\n",
      "  if __name__ == \"__main__\":\n",
      "/home/mcb/users/yzhu439/RA_Project/.venv/lib/python3.7/site-packages/ipykernel_launcher.py:9: UserWarning: Iteration 11 | Model 19: ELBO dropped from -2780.511967 to -2780.652951.\n",
      "  if __name__ == \"__main__\":\n",
      "/home/mcb/users/yzhu439/RA_Project/.venv/lib/python3.7/site-packages/ipykernel_launcher.py:9: UserWarning: Iteration 11 | Model 20: ELBO dropped from -3057.811952 to -3057.811952.\n",
      "  if __name__ == \"__main__\":\n",
      "/home/mcb/users/yzhu439/RA_Project/.venv/lib/python3.7/site-packages/ipykernel_launcher.py:9: UserWarning: Iteration 11 | Model 21: ELBO dropped from -3057.811952 to -3057.811952.\n",
      "  if __name__ == \"__main__\":\n",
      "/home/mcb/users/yzhu439/RA_Project/.venv/lib/python3.7/site-packages/ipykernel_launcher.py:9: UserWarning: Iteration 11 | Model 22: ELBO dropped from -3057.811952 to -3057.811952.\n",
      "  if __name__ == \"__main__\":\n",
      "/home/mcb/users/yzhu439/RA_Project/.venv/lib/python3.7/site-packages/ipykernel_launcher.py:9: UserWarning: Iteration 11 | Model 23: ELBO dropped from -3057.811952 to -3057.811952.\n",
      "  if __name__ == \"__main__\":\n",
      "/home/mcb/users/yzhu439/RA_Project/.venv/lib/python3.7/site-packages/ipykernel_launcher.py:9: UserWarning: Iteration 11 | Model 24: ELBO dropped from -3057.811952 to -3057.811952.\n",
      "  if __name__ == \"__main__\":\n",
      "  1%|          | 11/1000 [01:13<1:37:26,  5.91s/it]/home/mcb/users/yzhu439/RA_Project/.venv/lib/python3.7/site-packages/ipykernel_launcher.py:9: UserWarning: Stopping at iteration 12 for model 17: The optimization algorithm is not converging!\n",
      "Previous ELBO: -128.440936 | Current ELBO: 1267.265025\n",
      "  if __name__ == \"__main__\":\n",
      "/home/mcb/users/yzhu439/RA_Project/.venv/lib/python3.7/site-packages/ipykernel_launcher.py:9: UserWarning: Iteration 12 | Model 18: ELBO dropped from -2773.571204 to -2774.016543.\n",
      "  if __name__ == \"__main__\":\n",
      "/home/mcb/users/yzhu439/RA_Project/.venv/lib/python3.7/site-packages/ipykernel_launcher.py:9: UserWarning: Iteration 12 | Model 19: ELBO dropped from -2780.652951 to -2780.793322.\n",
      "  if __name__ == \"__main__\":\n",
      "/home/mcb/users/yzhu439/RA_Project/.venv/lib/python3.7/site-packages/ipykernel_launcher.py:9: UserWarning: Iteration 12 | Model 20: ELBO dropped from -3057.811952 to -3057.811952.\n",
      "  if __name__ == \"__main__\":\n",
      "/home/mcb/users/yzhu439/RA_Project/.venv/lib/python3.7/site-packages/ipykernel_launcher.py:9: UserWarning: The optimization for model 20 is halted due to numerical instabilities!\n",
      "  if __name__ == \"__main__\":\n",
      "/home/mcb/users/yzhu439/RA_Project/.venv/lib/python3.7/site-packages/ipykernel_launcher.py:9: UserWarning: Iteration 12 | Model 21: ELBO dropped from -3057.811952 to -3057.811952.\n",
      "  if __name__ == \"__main__\":\n",
      "/home/mcb/users/yzhu439/RA_Project/.venv/lib/python3.7/site-packages/ipykernel_launcher.py:9: UserWarning: The optimization for model 21 is halted due to numerical instabilities!\n",
      "  if __name__ == \"__main__\":\n",
      "/home/mcb/users/yzhu439/RA_Project/.venv/lib/python3.7/site-packages/ipykernel_launcher.py:9: UserWarning: Iteration 12 | Model 22: ELBO dropped from -3057.811952 to -3057.811952.\n",
      "  if __name__ == \"__main__\":\n",
      "/home/mcb/users/yzhu439/RA_Project/.venv/lib/python3.7/site-packages/ipykernel_launcher.py:9: UserWarning: The optimization for model 22 is halted due to numerical instabilities!\n",
      "  if __name__ == \"__main__\":\n",
      "/home/mcb/users/yzhu439/RA_Project/.venv/lib/python3.7/site-packages/ipykernel_launcher.py:9: UserWarning: Iteration 12 | Model 23: ELBO dropped from -3057.811952 to -3057.811952.\n",
      "  if __name__ == \"__main__\":\n",
      "/home/mcb/users/yzhu439/RA_Project/.venv/lib/python3.7/site-packages/ipykernel_launcher.py:9: UserWarning: The optimization for model 23 is halted due to numerical instabilities!\n",
      "  if __name__ == \"__main__\":\n",
      "/home/mcb/users/yzhu439/RA_Project/.venv/lib/python3.7/site-packages/ipykernel_launcher.py:9: UserWarning: Iteration 12 | Model 24: ELBO dropped from -3057.811952 to -3057.811952.\n",
      "  if __name__ == \"__main__\":\n",
      "/home/mcb/users/yzhu439/RA_Project/.venv/lib/python3.7/site-packages/ipykernel_launcher.py:9: UserWarning: The optimization for model 24 is halted due to numerical instabilities!\n",
      "  if __name__ == \"__main__\":\n",
      "  1%|          | 12/1000 [01:19<1:36:27,  5.86s/it]/home/mcb/users/yzhu439/RA_Project/.venv/lib/python3.7/site-packages/ipykernel_launcher.py:9: UserWarning: Iteration 13 | Model 18: ELBO dropped from -2774.016543 to -2774.448778.\n",
      "  if __name__ == \"__main__\":\n",
      "/home/mcb/users/yzhu439/RA_Project/.venv/lib/python3.7/site-packages/ipykernel_launcher.py:9: UserWarning: The optimization for model 18 is halted due to numerical instabilities!\n",
      "  if __name__ == \"__main__\":\n",
      "/home/mcb/users/yzhu439/RA_Project/.venv/lib/python3.7/site-packages/ipykernel_launcher.py:9: UserWarning: Iteration 13 | Model 19: ELBO dropped from -2780.793322 to -2780.933083.\n",
      "  if __name__ == \"__main__\":\n",
      "/home/mcb/users/yzhu439/RA_Project/.venv/lib/python3.7/site-packages/ipykernel_launcher.py:9: UserWarning: The optimization for model 19 is halted due to numerical instabilities!\n",
      "  if __name__ == \"__main__\":\n",
      "  3%|▎         | 31/1000 [02:26<1:16:19,  4.73s/it]\n"
     ]
    },
    {
     "ename": "KeyboardInterrupt",
     "evalue": "",
     "output_type": "error",
     "traceback": [
      "\u001b[0;31m---------------------------------------------------------------------------\u001b[0m",
      "\u001b[0;31mKeyboardInterrupt\u001b[0m                         Traceback (most recent call last)",
      "\u001b[0;32m/tmp/ipykernel_3127/3258093457.py\u001b[0m in \u001b[0;36m<module>\u001b[0;34m\u001b[0m\n\u001b[1;32m      7\u001b[0m \u001b[0;34m\u001b[0m\u001b[0m\n\u001b[1;32m      8\u001b[0m \u001b[0mvgv_gs\u001b[0m \u001b[0;34m=\u001b[0m \u001b[0mvp\u001b[0m\u001b[0;34m.\u001b[0m\u001b[0mVIPRSGridSearch\u001b[0m\u001b[0;34m(\u001b[0m\u001b[0mrealA22Train_gdl\u001b[0m\u001b[0;34m,\u001b[0m \u001b[0mgrid\u001b[0m\u001b[0;34m)\u001b[0m\u001b[0;34m\u001b[0m\u001b[0;34m\u001b[0m\u001b[0m\n\u001b[0;32m----> 9\u001b[0;31m \u001b[0mvgv_gs\u001b[0m \u001b[0;34m=\u001b[0m \u001b[0mvgv_gs\u001b[0m\u001b[0;34m.\u001b[0m\u001b[0mfit\u001b[0m\u001b[0;34m(\u001b[0m\u001b[0;34m)\u001b[0m\u001b[0;34m\u001b[0m\u001b[0;34m\u001b[0m\u001b[0m\n\u001b[0m",
      "\u001b[0;32mviprs/model/VIPRSGrid.pyx\u001b[0m in \u001b[0;36mviprs.model.VIPRSGrid.VIPRSGrid.fit\u001b[0;34m()\u001b[0m\n",
      "\u001b[0;32mviprs/model/VIPRSGrid.pyx\u001b[0m in \u001b[0;36mviprs.model.VIPRSGrid.VIPRSGrid.fit\u001b[0;34m()\u001b[0m\n",
      "\u001b[0;32mviprs/model/VIPRSGrid.pyx\u001b[0m in \u001b[0;36mviprs.model.VIPRSGrid.VIPRSGrid.e_step\u001b[0;34m()\u001b[0m\n",
      "\u001b[0;32mmagenpy/LDMatrix.pyx\u001b[0m in \u001b[0;36mmagenpy.LDMatrix.LDMatrix.__next__\u001b[0;34m()\u001b[0m\n",
      "\u001b[0;32mmagenpy/LDMatrix.pyx\u001b[0m in \u001b[0;36mmagenpy.LDMatrix.LDMatrix.chunk_size.__get__\u001b[0;34m()\u001b[0m\n",
      "\u001b[0;32mmagenpy/LDMatrix.pyx\u001b[0m in \u001b[0;36mmagenpy.LDMatrix.LDMatrix.chunks.__get__\u001b[0;34m()\u001b[0m\n",
      "\u001b[0;32m~/RA_Project/.venv/lib/python3.7/site-packages/zarr/core.py\u001b[0m in \u001b[0;36mchunks\u001b[0;34m(self)\u001b[0m\n\u001b[1;32m    378\u001b[0m         \u001b[0mself\u001b[0m\u001b[0;34m.\u001b[0m\u001b[0mresize\u001b[0m\u001b[0;34m(\u001b[0m\u001b[0mvalue\u001b[0m\u001b[0;34m)\u001b[0m\u001b[0;34m\u001b[0m\u001b[0;34m\u001b[0m\u001b[0m\n\u001b[1;32m    379\u001b[0m \u001b[0;34m\u001b[0m\u001b[0m\n\u001b[0;32m--> 380\u001b[0;31m     \u001b[0;34m@\u001b[0m\u001b[0mproperty\u001b[0m\u001b[0;34m\u001b[0m\u001b[0;34m\u001b[0m\u001b[0m\n\u001b[0m\u001b[1;32m    381\u001b[0m     \u001b[0;32mdef\u001b[0m \u001b[0mchunks\u001b[0m\u001b[0;34m(\u001b[0m\u001b[0mself\u001b[0m\u001b[0;34m)\u001b[0m\u001b[0;34m:\u001b[0m\u001b[0;34m\u001b[0m\u001b[0;34m\u001b[0m\u001b[0m\n\u001b[1;32m    382\u001b[0m         \"\"\"A tuple of integers describing the length of each dimension of a\n",
      "\u001b[0;31mKeyboardInterrupt\u001b[0m: "
     ]
    }
   ],
   "source": [
    "# Create a grid:\n",
    "grid = vp.HyperparameterGrid()\n",
    "# Generate a grid for pi using 5 equidistant grid points:\n",
    "grid.generate_pi_grid(steps=5, n_snps=realA22Train_gdl.n_snps)\n",
    "# Generate a grid for sigma epsilon using 5 equidistant grid points:\n",
    "grid.generate_sigma_epsilon_grid(steps=5)\n",
    "\n",
    "vgv_gs = vp.VIPRSGridSearch(realA22Train_gdl, grid)\n",
    "vgv_gs = vgv_gs.fit()"
   ]
  },
  {
   "cell_type": "code",
   "execution_count": null,
   "metadata": {},
   "outputs": [
    {
     "name": "stdout",
     "output_type": "stream",
     "text": [
      "> Generating polygenic scores...\n"
     ]
    },
    {
     "ename": "IndexError",
     "evalue": "too many indices for array: array is 1-dimensional, but 2 were indexed",
     "output_type": "error",
     "traceback": [
      "\u001b[0;31m---------------------------------------------------------------------------\u001b[0m",
      "\u001b[0;31mIndexError\u001b[0m                                Traceback (most recent call last)",
      "\u001b[0;32m/tmp/ipykernel_3127/1061404188.py\u001b[0m in \u001b[0;36m<module>\u001b[0;34m\u001b[0m\n\u001b[0;32m----> 1\u001b[0;31m \u001b[0mvgv_gs\u001b[0m\u001b[0;34m.\u001b[0m\u001b[0mselect_best_model\u001b[0m\u001b[0;34m(\u001b[0m\u001b[0mvalidation_gdl\u001b[0m\u001b[0;34m=\u001b[0m\u001b[0mrealA22Val_gdl\u001b[0m\u001b[0;34m,\u001b[0m \u001b[0mcriterion\u001b[0m\u001b[0;34m=\u001b[0m\u001b[0;34m'validation'\u001b[0m\u001b[0;34m)\u001b[0m\u001b[0;34m\u001b[0m\u001b[0;34m\u001b[0m\u001b[0m\n\u001b[0m",
      "\u001b[0;32mviprs/model/VIPRSGridSearch.pyx\u001b[0m in \u001b[0;36mviprs.model.VIPRSGridSearch.VIPRSGridSearch.select_best_model\u001b[0;34m()\u001b[0m\n",
      "\u001b[0;32mviprs/model/VIPRSGridSearch.pyx\u001b[0m in \u001b[0;36mviprs.model.VIPRSGridSearch.VIPRSGridSearch.select_best_model\u001b[0;34m()\u001b[0m\n",
      "\u001b[0;31mIndexError\u001b[0m: too many indices for array: array is 1-dimensional, but 2 were indexed"
     ]
    }
   ],
   "source": [
    "vgv_gs.select_best_model(validation_gdl=realA22Val_gdl, criterion='validation')"
   ]
  },
  {
   "cell_type": "markdown",
   "metadata": {},
   "source": [
    "A small test for my new PC"
   ]
  }
 ],
 "metadata": {
  "kernelspec": {
   "display_name": ".venv",
   "language": "python",
   "name": "python3"
  },
  "language_info": {
   "codemirror_mode": {
    "name": "ipython",
    "version": 3
   },
   "file_extension": ".py",
   "mimetype": "text/x-python",
   "name": "python",
   "nbconvert_exporter": "python",
   "pygments_lexer": "ipython3",
   "version": "3.7.5"
  },
  "orig_nbformat": 4
 },
 "nbformat": 4,
 "nbformat_minor": 2
}
